{
 "cells": [
  {
   "cell_type": "markdown",
   "id": "f220c53e",
   "metadata": {},
   "source": [
    "## Grouping Data And Applying Aggregate Functions "
   ]
  },
  {
   "cell_type": "markdown",
   "id": "f573049d",
   "metadata": {},
   "source": [
    "### Import the pandas library "
   ]
  },
  {
   "cell_type": "code",
   "execution_count": null,
   "id": "249da5d8",
   "metadata": {},
   "outputs": [],
   "source": []
  },
  {
   "cell_type": "markdown",
   "id": "184de8b9",
   "metadata": {},
   "source": [
    "### Load the CSV file from this [link](https://raw.githubusercontent.com/Prajwalk09/Data-Analysis-with-Pandas-and-Python/refs/heads/main/GroupBy%20Object/fortune1000.csv) into a DataFrame and assign it to a variable named `data`. Ensure that the `'Rank'` column is set as the `Index` during the import"
   ]
  },
  {
   "cell_type": "code",
   "execution_count": null,
   "id": "f5d5568a",
   "metadata": {},
   "outputs": [],
   "source": []
  },
  {
   "cell_type": "markdown",
   "id": "3e3300dd",
   "metadata": {},
   "source": [
    "### Display the first 5 rows of the DataFrame "
   ]
  },
  {
   "cell_type": "code",
   "execution_count": null,
   "id": "e43facaa",
   "metadata": {},
   "outputs": [],
   "source": []
  },
  {
   "cell_type": "markdown",
   "id": "58a1e3a4",
   "metadata": {},
   "source": [
    "### Group the `data` DataFrame by the `'Sector'` column and assign it to a variable called `'sectors'`"
   ]
  },
  {
   "cell_type": "code",
   "execution_count": null,
   "id": "6e675e2c",
   "metadata": {},
   "outputs": [],
   "source": []
  },
  {
   "cell_type": "markdown",
   "id": "459978c7",
   "metadata": {},
   "source": [
    "### Determine the `size` of each group in the `sectors` object"
   ]
  },
  {
   "cell_type": "code",
   "execution_count": null,
   "id": "9b9779ab",
   "metadata": {},
   "outputs": [],
   "source": []
  },
  {
   "cell_type": "markdown",
   "id": "93f70a2b",
   "metadata": {},
   "source": [
    "### Extract the very `first` row belonging to each group "
   ]
  },
  {
   "cell_type": "code",
   "execution_count": null,
   "id": "8eaf20d2",
   "metadata": {},
   "outputs": [],
   "source": []
  },
  {
   "cell_type": "markdown",
   "id": "62924291",
   "metadata": {},
   "source": [
    "### Extract the very `last` row belonging to each group "
   ]
  },
  {
   "cell_type": "code",
   "execution_count": null,
   "id": "0805f64b",
   "metadata": {},
   "outputs": [],
   "source": []
  },
  {
   "cell_type": "markdown",
   "id": "4e07c849",
   "metadata": {},
   "source": [
    "### Retrieve all rows belonging to the `'Technology'` group from the `sectors` object"
   ]
  },
  {
   "cell_type": "code",
   "execution_count": null,
   "id": "5bf0b030",
   "metadata": {},
   "outputs": [],
   "source": []
  },
  {
   "cell_type": "markdown",
   "id": "d4d783f6",
   "metadata": {},
   "source": [
    "### Calculate the sum of all numeric columns for each group in the `sectors` object using an `inbuilt` function"
   ]
  },
  {
   "cell_type": "code",
   "execution_count": null,
   "id": "0684ccce",
   "metadata": {},
   "outputs": [],
   "source": []
  },
  {
   "cell_type": "markdown",
   "id": "de7f1c71",
   "metadata": {},
   "source": [
    "### Retrieve the group for `Aerospace & Defense` and calculate the total(sum) for `Revenue` and `Profits`"
   ]
  },
  {
   "cell_type": "code",
   "execution_count": null,
   "id": "d013d3c9",
   "metadata": {},
   "outputs": [],
   "source": []
  },
  {
   "cell_type": "markdown",
   "id": "2c23fb69",
   "metadata": {},
   "source": [
    "### Calculate the average `Revenue` and `Profits` for each sector"
   ]
  },
  {
   "cell_type": "code",
   "execution_count": null,
   "id": "d17ce647",
   "metadata": {},
   "outputs": [],
   "source": []
  },
  {
   "cell_type": "markdown",
   "id": "08ed2a13",
   "metadata": {},
   "source": [
    "### Aggregate `Revenue`, `Profits`, and `Employees` for each sector with different functions\n",
    "- **`Revenue`**: Sum up the values.  \n",
    "- **`Profits`**: Sum up the values.  \n",
    "- **`Employees`**: Calculate the mean"
   ]
  },
  {
   "cell_type": "code",
   "execution_count": null,
   "id": "3d15a770",
   "metadata": {},
   "outputs": [],
   "source": []
  },
  {
   "cell_type": "markdown",
   "id": "09c85c7d",
   "metadata": {},
   "source": [
    "### Retrieve the maximum value of `Profits` for each sector\n",
    "- Hint : Use `sectors.max()` to get the maximum value for each numeric column in the grouped data, and then select the `'Profits'` column."
   ]
  },
  {
   "cell_type": "code",
   "execution_count": null,
   "id": "96a7b4a9",
   "metadata": {},
   "outputs": [],
   "source": []
  }
 ],
 "metadata": {
  "kernelspec": {
   "display_name": "Python 3 (ipykernel)",
   "language": "python",
   "name": "python3"
  },
  "language_info": {
   "codemirror_mode": {
    "name": "ipython",
    "version": 3
   },
   "file_extension": ".py",
   "mimetype": "text/x-python",
   "name": "python",
   "nbconvert_exporter": "python",
   "pygments_lexer": "ipython3",
   "version": "3.9.13"
  }
 },
 "nbformat": 4,
 "nbformat_minor": 5
}
