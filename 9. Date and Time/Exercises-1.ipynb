{
 "cells": [
  {
   "cell_type": "markdown",
   "id": "14d95f95",
   "metadata": {},
   "source": [
    "## Handling date and time data, including parsing and time-based indexing "
   ]
  },
  {
   "cell_type": "markdown",
   "id": "31a67c12",
   "metadata": {},
   "source": [
    "### Import the pandas library and datetime module. Make sure to use aliases in both the cases "
   ]
  },
  {
   "cell_type": "code",
   "execution_count": null,
   "id": "3ba64c9f",
   "metadata": {},
   "outputs": [],
   "source": []
  },
  {
   "cell_type": "markdown",
   "id": "e9027813",
   "metadata": {},
   "source": [
    "### Create a date object for April 12, 2016, using the `datetime` module. Store the resulting date object in a variable called `someday`"
   ]
  },
  {
   "cell_type": "code",
   "execution_count": null,
   "id": "f9144562",
   "metadata": {},
   "outputs": [],
   "source": []
  },
  {
   "cell_type": "markdown",
   "id": "68ab16c5",
   "metadata": {},
   "source": [
    "### Display the `year`, `month` and `day` from the `someday` variable "
   ]
  },
  {
   "cell_type": "code",
   "execution_count": null,
   "id": "c61a9814",
   "metadata": {},
   "outputs": [],
   "source": []
  },
  {
   "cell_type": "code",
   "execution_count": null,
   "id": "f8a66e30",
   "metadata": {},
   "outputs": [],
   "source": []
  },
  {
   "cell_type": "code",
   "execution_count": null,
   "id": "28c0788e",
   "metadata": {},
   "outputs": [],
   "source": []
  },
  {
   "cell_type": "markdown",
   "id": "a7655ad3",
   "metadata": {},
   "source": [
    "### Create a Timestamp object for the date March 31, 2015, using pandas"
   ]
  },
  {
   "cell_type": "code",
   "execution_count": null,
   "id": "ed2f4fa4",
   "metadata": {},
   "outputs": [],
   "source": []
  },
  {
   "cell_type": "markdown",
   "id": "946ad312",
   "metadata": {},
   "source": [
    "### Write code to create a `Timestamp` object representing January 9, 2021, at 8:35:04 PM.\n"
   ]
  },
  {
   "cell_type": "code",
   "execution_count": null,
   "id": "a823d14f",
   "metadata": {},
   "outputs": [],
   "source": []
  },
  {
   "cell_type": "markdown",
   "id": "411bc7a1",
   "metadata": {},
   "source": [
    "### Create a `DatetimeIndex` from a list of date objects\n",
    "\n",
    "- Write code to create a list of date objects representing specific dates: January 1, 2016; June 13, 1994; and January 12, 2020.\n",
    "- Store the resulting index in the variable `dateIndex`."
   ]
  },
  {
   "cell_type": "code",
   "execution_count": null,
   "id": "49fcc376",
   "metadata": {},
   "outputs": [],
   "source": []
  },
  {
   "cell_type": "markdown",
   "id": "3d97376c",
   "metadata": {},
   "source": [
    "### Create a pandas Series with `DatetimeIndex` as the index\n",
    "\n",
    "- Write code to create a list of numerical values: `100`, `200`, and `400`. Store the result in a variable called `values`\n",
    "- The resulting Series will map each value to a corresponding date. <br>\n",
    "<span style=\"color:green; font-weight:bold\">Hint: Check the \"solutions\" notbeook to better understand the question</span>"
   ]
  },
  {
   "cell_type": "code",
   "execution_count": null,
   "id": "6a78ce50",
   "metadata": {},
   "outputs": [],
   "source": []
  },
  {
   "cell_type": "markdown",
   "id": "b5aa2f4f",
   "metadata": {},
   "source": [
    "### Convert a string representation of date and time into a pandas `Timestamp` object\n",
    "\n",
    "- Write code to convert the string `'2001-04-19 8:34 PM'` into a pandas `Timestamp` object."
   ]
  },
  {
   "cell_type": "code",
   "execution_count": null,
   "id": "13b8ae44",
   "metadata": {},
   "outputs": [],
   "source": []
  },
  {
   "cell_type": "markdown",
   "id": "86b31f7e",
   "metadata": {},
   "source": [
    "### Convert a list of date strings into pandas `DatetimeIndex` objects\n",
    "\n",
    "- Write code to convert a list of date strings (`'2001-01-09'`, `'2004/01/12'`, `'2005'`, and `'July 4th 1996'`) into pandas `Timestamp` objects."
   ]
  },
  {
   "cell_type": "code",
   "execution_count": null,
   "id": "4369a40d",
   "metadata": {},
   "outputs": [],
   "source": []
  },
  {
   "cell_type": "markdown",
   "id": "c6db1c9d",
   "metadata": {},
   "source": [
    "### Generate a range of dates by following the below criteria:\n",
    "\n",
    "- Write code to generate a range of dates starting from January 1, 2016, to January 10, 2016, with a frequency of one day.\n",
    "- Store the resulting `DatetimeIndex` in a variable called `times`.\n"
   ]
  },
  {
   "cell_type": "code",
   "execution_count": null,
   "id": "a2f47aca",
   "metadata": {},
   "outputs": [],
   "source": []
  },
  {
   "cell_type": "markdown",
   "id": "e1f89478",
   "metadata": {},
   "source": [
    "### Generate a range of 10 consecutive dates starting from January 1, 2001, with a daily frequency"
   ]
  },
  {
   "cell_type": "code",
   "execution_count": null,
   "id": "c373eacb",
   "metadata": {},
   "outputs": [],
   "source": []
  },
  {
   "cell_type": "markdown",
   "id": "542910f4",
   "metadata": {},
   "source": [
    "### Generate a range of dates from January 1, 2016, to January 10, 2016, including only business days"
   ]
  },
  {
   "cell_type": "code",
   "execution_count": null,
   "id": "6463345a",
   "metadata": {},
   "outputs": [],
   "source": []
  },
  {
   "cell_type": "markdown",
   "id": "4a6da8a1",
   "metadata": {},
   "source": [
    "### Generate a range of dates and times from January 1, 2016, to January 10, 2016, with intervals of 6 hours"
   ]
  },
  {
   "cell_type": "code",
   "execution_count": null,
   "id": "fbdbecc5",
   "metadata": {},
   "outputs": [],
   "source": []
  },
  {
   "cell_type": "code",
   "execution_count": null,
   "id": "465a0ba1",
   "metadata": {},
   "outputs": [],
   "source": []
  }
 ],
 "metadata": {
  "kernelspec": {
   "display_name": "Python 3 (ipykernel)",
   "language": "python",
   "name": "python3"
  },
  "language_info": {
   "codemirror_mode": {
    "name": "ipython",
    "version": 3
   },
   "file_extension": ".py",
   "mimetype": "text/x-python",
   "name": "python",
   "nbconvert_exporter": "python",
   "pygments_lexer": "ipython3",
   "version": "3.9.13"
  }
 },
 "nbformat": 4,
 "nbformat_minor": 5
}
