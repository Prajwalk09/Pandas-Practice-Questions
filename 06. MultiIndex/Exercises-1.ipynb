{
 "cells": [
  {
   "cell_type": "markdown",
   "id": "ef3c65c2",
   "metadata": {},
   "source": [
    "## Working with hierarchical (multi-level) indices in Pandas "
   ]
  },
  {
   "cell_type": "markdown",
   "id": "dad79348",
   "metadata": {},
   "source": [
    "### Import the pandas library "
   ]
  },
  {
   "cell_type": "code",
   "execution_count": null,
   "id": "2989ea81",
   "metadata": {},
   "outputs": [],
   "source": []
  },
  {
   "cell_type": "markdown",
   "id": "f4145ecc",
   "metadata": {},
   "source": [
    "### Load the CSV file from this [link](https://raw.githubusercontent.com/Prajwalk09/Data-Analysis-with-Pandas-and-Python/refs/heads/main/MultiIndex/bigmac.csv) into a DataFrame and assign it to a variable named `data` while ensuring that the `'Date'` column is parsed as datetime objects during the import"
   ]
  },
  {
   "cell_type": "code",
   "execution_count": null,
   "id": "51f9c594",
   "metadata": {},
   "outputs": [],
   "source": []
  },
  {
   "cell_type": "markdown",
   "id": "9df99ccc",
   "metadata": {},
   "source": [
    "### Display the first 5 rows of the DataFrame "
   ]
  },
  {
   "cell_type": "code",
   "execution_count": null,
   "id": "1dad788c",
   "metadata": {},
   "outputs": [],
   "source": []
  },
  {
   "cell_type": "markdown",
   "id": "b53764ce",
   "metadata": {},
   "source": [
    "### Set the `Date` and `Country` columns as a MultiIndex for the `data` DataFrame\n",
    "<span style=\"color:green; font-weight:bold; font-size:14px;\">Make sure that the changes are made inplace</span> "
   ]
  },
  {
   "cell_type": "code",
   "execution_count": null,
   "id": "bc766f4e",
   "metadata": {},
   "outputs": [],
   "source": []
  },
  {
   "cell_type": "markdown",
   "id": "90472c1a",
   "metadata": {},
   "source": [
    "### Display the first 5 rows of the DataFrame after the previous operation "
   ]
  },
  {
   "cell_type": "code",
   "execution_count": null,
   "id": "961f1e08",
   "metadata": {},
   "outputs": [],
   "source": []
  },
  {
   "cell_type": "markdown",
   "id": "b4476abc",
   "metadata": {},
   "source": [
    "### Sort the index of the `data` DataFrame in ascending order for the first level and descending order for the second level\n",
    "<span style=\"color:red; font-weight:bold; font-size:14px;\">Do not make the changes inplace</span>"
   ]
  },
  {
   "cell_type": "code",
   "execution_count": null,
   "id": "3de9f184",
   "metadata": {},
   "outputs": [],
   "source": []
  },
  {
   "cell_type": "markdown",
   "id": "57739a2d",
   "metadata": {},
   "source": [
    "### Sort the `data` DataFrame based on its MultiIndex in Ascending Order\n",
    "<span style=\"color:green; font-weight:bold; font-size:14px;\">Make sure that the changes are made inplace</span> "
   ]
  },
  {
   "cell_type": "code",
   "execution_count": null,
   "id": "db4cdb57",
   "metadata": {},
   "outputs": [],
   "source": []
  },
  {
   "cell_type": "markdown",
   "id": "3c6e97c8",
   "metadata": {},
   "source": [
    "### Understanding `get_level_values()` and Levels in a MultiIndex\n",
    "\n",
    "#### What is a Level in a MultiIndex?\n",
    "A **level** in a MultiIndex represents one layer of the hierarchical indexing in a pandas DataFrame. Each row in the DataFrame has an index that is defined by the combination of values across all levels of the MultiIndex. For example, in a MultiIndex with levels `['Date', 'Country']`, the rows are uniquely identified by a combination of both `Date` and `Country`. <br>\n",
    "<span style=\"color:blue\">Note that this method can be applied only on the index of the DataFrame and not the DataFrame itself.</span>\n",
    "\n",
    "#### Purpose of `get_level_values()`\n",
    "The `get_level_values()` method allows you to extract values from a specific level of a MultiIndex.\n",
    "\n",
    "- **Input:** It can take:\n",
    "  - The **name** of the level (e.g., `'Country'`).\n",
    "  - The **position** of the level (e.g., `1`).\n",
    "\n",
    "- **Output:** It returns the values from the specified level as a pandas Index object.\n",
    "\n",
    "#### Why Use It?\n",
    "- Simplifies working with complex MultiIndex DataFrames.\n",
    "- Allows you to focus on specific levels for analysis or data manipulation."
   ]
  },
  {
   "cell_type": "markdown",
   "id": "5c5de485",
   "metadata": {},
   "source": [
    "### Retrieve all values from the 'Date' level of the MultiIndex DataFrame"
   ]
  },
  {
   "cell_type": "code",
   "execution_count": null,
   "id": "e74b7444",
   "metadata": {},
   "outputs": [],
   "source": []
  },
  {
   "cell_type": "markdown",
   "id": "f967fcf0",
   "metadata": {},
   "source": [
    "### Retrieve all values from the level 1 of the MultiIndex DataFrame"
   ]
  },
  {
   "cell_type": "code",
   "execution_count": null,
   "id": "057f9adf",
   "metadata": {},
   "outputs": [],
   "source": []
  },
  {
   "cell_type": "markdown",
   "id": "a920e325",
   "metadata": {},
   "source": [
    "### Rename the level 0 of the MultiIndex to \"Dates\"\n",
    "<span style=\"color:red; font-weight:bold; font-size:14px;\">Do not make the changes inplace</span> "
   ]
  },
  {
   "cell_type": "code",
   "execution_count": null,
   "id": "eb838049",
   "metadata": {},
   "outputs": [],
   "source": []
  },
  {
   "cell_type": "markdown",
   "id": "32a52b7f",
   "metadata": {},
   "source": [
    "### Rename the level \"Date\" of the MultiIndex to \"Dates\"\n",
    "<span style=\"color:green; font-weight:bold; font-size:14px;\">Make sure that the changes are made inplace</span>"
   ]
  },
  {
   "cell_type": "code",
   "execution_count": null,
   "id": "296bf72f",
   "metadata": {},
   "outputs": [],
   "source": []
  },
  {
   "cell_type": "code",
   "execution_count": null,
   "id": "a5d28668",
   "metadata": {},
   "outputs": [],
   "source": []
  },
  {
   "cell_type": "markdown",
   "id": "881a4770",
   "metadata": {},
   "source": [
    "### Display the first 5 rows of the DataFrame "
   ]
  },
  {
   "cell_type": "code",
   "execution_count": null,
   "id": "99333292",
   "metadata": {},
   "outputs": [],
   "source": []
  },
  {
   "cell_type": "markdown",
   "id": "71b44657",
   "metadata": {},
   "source": [
    "### Retrieve the value for 'Price in US Dollars' on '2010-01-01' for 'Australia' in the `data` DataFrame using MultiIndex"
   ]
  },
  {
   "cell_type": "code",
   "execution_count": null,
   "id": "ea858d74",
   "metadata": {},
   "outputs": [],
   "source": []
  },
  {
   "cell_type": "markdown",
   "id": "802b95b2",
   "metadata": {},
   "source": [
    "### Retrieve the values for 'Price in US Dollars' between '2010-01-01' for 'Australia' and '2010-01-01' for 'Ukraine' in the `data` DataFrame using MultiIndex"
   ]
  },
  {
   "cell_type": "code",
   "execution_count": null,
   "id": "0aec91de",
   "metadata": {},
   "outputs": [],
   "source": []
  }
 ],
 "metadata": {
  "kernelspec": {
   "display_name": "Python 3 (ipykernel)",
   "language": "python",
   "name": "python3"
  },
  "language_info": {
   "codemirror_mode": {
    "name": "ipython",
    "version": 3
   },
   "file_extension": ".py",
   "mimetype": "text/x-python",
   "name": "python",
   "nbconvert_exporter": "python",
   "pygments_lexer": "ipython3",
   "version": "3.9.13"
  }
 },
 "nbformat": 4,
 "nbformat_minor": 5
}
