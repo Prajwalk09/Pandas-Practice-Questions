{
 "cells": [
  {
   "cell_type": "markdown",
   "id": "f06486db",
   "metadata": {},
   "source": [
    "### Extracting Series Values by Index Labels "
   ]
  },
  {
   "cell_type": "markdown",
   "id": "2cd59da2",
   "metadata": {},
   "source": [
    "### Import the necessary libraries"
   ]
  },
  {
   "cell_type": "code",
   "execution_count": null,
   "id": "f08db585",
   "metadata": {},
   "outputs": [],
   "source": []
  },
  {
   "cell_type": "markdown",
   "id": "201e9f23",
   "metadata": {},
   "source": [
    "### Load another csv file from this <a href= \"https://raw.githubusercontent.com/Prajwalk09/Data-Analysis-with-Pandas-and-Python/refs/heads/main/Series/pokemon.csv\">link</a> into a varaible called `pokemon_data`. Set the *Pokemon* column as the *Index* column and store the result as a Series"
   ]
  },
  {
   "cell_type": "code",
   "execution_count": null,
   "id": "75813217",
   "metadata": {},
   "outputs": [],
   "source": []
  },
  {
   "cell_type": "code",
   "execution_count": null,
   "id": "3f83093d",
   "metadata": {},
   "outputs": [],
   "source": []
  },
  {
   "cell_type": "markdown",
   "id": "2996737f",
   "metadata": {},
   "source": [
    "### Retrieve and display the values associated with the index `'Charizard'` and `'Pikachu'` from the `pokemon` Series"
   ]
  },
  {
   "cell_type": "code",
   "execution_count": null,
   "id": "bd17c451",
   "metadata": {},
   "outputs": [],
   "source": []
  },
  {
   "cell_type": "markdown",
   "id": "c7939f28",
   "metadata": {},
   "source": [
    "### Retrieve and display the values at the `'second'` and `'third'` indices, respectively"
   ]
  },
  {
   "cell_type": "code",
   "execution_count": null,
   "id": "2c0fd901",
   "metadata": {},
   "outputs": [],
   "source": []
  },
  {
   "cell_type": "code",
   "execution_count": null,
   "id": "ee6e7be6",
   "metadata": {},
   "outputs": [],
   "source": []
  },
  {
   "cell_type": "markdown",
   "id": "6c483eee",
   "metadata": {},
   "source": [
    "### Retrieve and display the data from the `pokemon` Series for the range of indices from `'Charmander'` to `'Weedle'`"
   ]
  },
  {
   "cell_type": "code",
   "execution_count": null,
   "id": "f2563357",
   "metadata": {},
   "outputs": [],
   "source": []
  },
  {
   "cell_type": "markdown",
   "id": "8dd4671f",
   "metadata": {},
   "source": [
    "### Sort the `pokemon` Series by its index in ascending order"
   ]
  },
  {
   "cell_type": "code",
   "execution_count": null,
   "id": "09bcc9a6",
   "metadata": {},
   "outputs": [],
   "source": []
  },
  {
   "cell_type": "markdown",
   "id": "921d560d",
   "metadata": {},
   "source": [
    "### Count and display the occurrences of each unique value in the `pokemon` Series"
   ]
  },
  {
   "cell_type": "code",
   "execution_count": null,
   "id": "951bdcee",
   "metadata": {},
   "outputs": [],
   "source": []
  },
  {
   "cell_type": "markdown",
   "id": "776c8081",
   "metadata": {},
   "source": [
    "### Load another csv file from this <a href= \"https://raw.githubusercontent.com/Prajwalk09/Data-Analysis-with-Pandas-and-Python/refs/heads/main/Series/google_stock_price.csv\">link</a> into a varaible called `stock_data`. Display the first few rows of this Series"
   ]
  },
  {
   "cell_type": "code",
   "execution_count": null,
   "id": "7241adf2",
   "metadata": {},
   "outputs": [],
   "source": []
  },
  {
   "cell_type": "code",
   "execution_count": null,
   "id": "ab1eb174",
   "metadata": {},
   "outputs": [],
   "source": []
  },
  {
   "cell_type": "markdown",
   "id": "239eb482",
   "metadata": {},
   "source": [
    "### Write a function named `classify_performance` that takes a stock price as input and returns:\n",
    "- `\"Okay\"` if the stock price is less than 300.\n",
    "- `\"Satisfactory\"` if the stock price is between 300 and 650 (inclusive).\n",
    "- `\"Incredible!\"` if the stock price is greater than 650."
   ]
  },
  {
   "cell_type": "code",
   "execution_count": null,
   "id": "d6cecb8e",
   "metadata": {},
   "outputs": [],
   "source": []
  },
  {
   "cell_type": "markdown",
   "id": "a093165b",
   "metadata": {},
   "source": [
    "### Apply the `classify_performance` function to the `stock_data` Series and count the occurrences of each performance category"
   ]
  },
  {
   "cell_type": "code",
   "execution_count": null,
   "id": "0206c7b5",
   "metadata": {},
   "outputs": [],
   "source": []
  },
  {
   "cell_type": "code",
   "execution_count": null,
   "id": "886599f0",
   "metadata": {},
   "outputs": [],
   "source": []
  },
  {
   "cell_type": "markdown",
   "id": "2f7e2f59",
   "metadata": {},
   "source": [
    "### Assignment : Try implementing the same operation using a `lambda` function"
   ]
  },
  {
   "cell_type": "code",
   "execution_count": null,
   "id": "f19874a5",
   "metadata": {},
   "outputs": [],
   "source": []
  }
 ],
 "metadata": {
  "kernelspec": {
   "display_name": "Python 3 (ipykernel)",
   "language": "python",
   "name": "python3"
  },
  "language_info": {
   "codemirror_mode": {
    "name": "ipython",
    "version": 3
   },
   "file_extension": ".py",
   "mimetype": "text/x-python",
   "name": "python",
   "nbconvert_exporter": "python",
   "pygments_lexer": "ipython3",
   "version": "3.9.13"
  }
 },
 "nbformat": 4,
 "nbformat_minor": 5
}
