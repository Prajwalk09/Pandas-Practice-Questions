{
 "cells": [
  {
   "cell_type": "markdown",
   "id": "d027e29d",
   "metadata": {},
   "source": [
    "## Series in Pandas\n",
    "In this notebook, we will be trying to understand some important concepts related to series in Pandas and how to perform various operations on them."
   ]
  },
  {
   "cell_type": "markdown",
   "id": "2f7813ed",
   "metadata": {},
   "source": [
    "### Creating a Series from a Python List"
   ]
  },
  {
   "cell_type": "markdown",
   "id": "08fb665c",
   "metadata": {},
   "source": [
    "### Import the required libraries"
   ]
  },
  {
   "cell_type": "code",
   "execution_count": null,
   "id": "7a5d918d",
   "metadata": {},
   "outputs": [],
   "source": []
  },
  {
   "cell_type": "markdown",
   "id": "92e3a625",
   "metadata": {},
   "source": [
    "### Create a list named <code>ice_cream</code> containing 4 different flavors as strings"
   ]
  },
  {
   "cell_type": "code",
   "execution_count": null,
   "id": "2a7a52fa",
   "metadata": {},
   "outputs": [],
   "source": []
  },
  {
   "cell_type": "markdown",
   "id": "5d1ae5ea",
   "metadata": {},
   "source": [
    "### Convert this list into a Series using <code>pd.Series()</code>"
   ]
  },
  {
   "cell_type": "code",
   "execution_count": null,
   "id": "a4428d9f",
   "metadata": {},
   "outputs": [],
   "source": []
  },
  {
   "cell_type": "markdown",
   "id": "0b8c78ab",
   "metadata": {},
   "source": [
    "### Create another list called <code>lottery</code> containing 5 different numbers"
   ]
  },
  {
   "cell_type": "code",
   "execution_count": null,
   "id": "0e63b1c2",
   "metadata": {},
   "outputs": [],
   "source": []
  },
  {
   "cell_type": "markdown",
   "id": "969c21aa",
   "metadata": {},
   "source": [
    "### Convert this list into a Series as well"
   ]
  },
  {
   "cell_type": "code",
   "execution_count": null,
   "id": "17c0951e",
   "metadata": {},
   "outputs": [],
   "source": []
  },
  {
   "cell_type": "markdown",
   "id": "a7d8bf37",
   "metadata": {},
   "source": [
    "### Create a Dictionary having 3 key-value pairs"
   ]
  },
  {
   "cell_type": "code",
   "execution_count": null,
   "id": "b0db51bf",
   "metadata": {},
   "outputs": [],
   "source": []
  },
  {
   "cell_type": "markdown",
   "id": "0cc3a652",
   "metadata": {},
   "source": [
    "### Convert this dictionary into a Series object"
   ]
  },
  {
   "cell_type": "markdown",
   "id": "fb213cc3",
   "metadata": {},
   "source": []
  },
  {
   "cell_type": "markdown",
   "id": "d7a59fc1",
   "metadata": {},
   "source": [
    "### Attributes and Methods Related to Series"
   ]
  },
  {
   "cell_type": "markdown",
   "id": "3290b0df",
   "metadata": {},
   "source": [
    "### Create a list called `prices` and assign it the values `[15, 46, 44, 44, 12]`."
   ]
  },
  {
   "cell_type": "code",
   "execution_count": null,
   "id": "b6f814a4",
   "metadata": {},
   "outputs": [],
   "source": []
  },
  {
   "cell_type": "markdown",
   "id": "76b07ebf",
   "metadata": {},
   "source": [
    "### Create a Series object from the <code>prices</code> list and assign it to a variable of your choice"
   ]
  },
  {
   "cell_type": "code",
   "execution_count": null,
   "id": "5a518a16",
   "metadata": {},
   "outputs": [],
   "source": []
  },
  {
   "cell_type": "markdown",
   "id": "32b804ed",
   "metadata": {},
   "source": [
    "### Print the values and the index of the newly created Series object"
   ]
  },
  {
   "cell_type": "code",
   "execution_count": null,
   "id": "e0478914",
   "metadata": {},
   "outputs": [],
   "source": []
  },
  {
   "cell_type": "code",
   "execution_count": null,
   "id": "75bc0d8c",
   "metadata": {},
   "outputs": [],
   "source": []
  },
  {
   "cell_type": "markdown",
   "id": "aca4b66c",
   "metadata": {},
   "source": [
    "### Display the data type of the Series"
   ]
  },
  {
   "cell_type": "code",
   "execution_count": null,
   "id": "28783b52",
   "metadata": {},
   "outputs": [],
   "source": []
  },
  {
   "cell_type": "markdown",
   "id": "0cef3da7",
   "metadata": {},
   "source": [
    "### Mathematical functions like <code>mean, median, mode, sum</code> etc can be applied on Series with numeric values. Apply these functions to the newly created Series"
   ]
  },
  {
   "cell_type": "code",
   "execution_count": null,
   "id": "3c77622f",
   "metadata": {},
   "outputs": [],
   "source": []
  },
  {
   "cell_type": "code",
   "execution_count": null,
   "id": "125e3713",
   "metadata": {},
   "outputs": [],
   "source": []
  },
  {
   "cell_type": "code",
   "execution_count": null,
   "id": "1ceae445",
   "metadata": {},
   "outputs": [],
   "source": []
  },
  {
   "cell_type": "code",
   "execution_count": null,
   "id": "ab87d6ff",
   "metadata": {},
   "outputs": [],
   "source": []
  },
  {
   "cell_type": "markdown",
   "id": "65e43146",
   "metadata": {},
   "source": [
    "### Create two lists:  \n",
    "1. A list named `fruits` containing the following items: `Apple`, `Orange`, `Banana`, `Kiwi`, and `Lime`.  \n",
    "2. A list named `weekdays` containing the following items: `Monday`, `Tuesday`, `Wednesday`, `Thursday`, and `Friday`.  "
   ]
  },
  {
   "cell_type": "code",
   "execution_count": null,
   "id": "b4c4da48",
   "metadata": {},
   "outputs": [],
   "source": []
  },
  {
   "cell_type": "markdown",
   "id": "49b5dd74",
   "metadata": {},
   "source": [
    "### Create a series object using the `fruits` list and set it's index to the `weekdays` list"
   ]
  },
  {
   "cell_type": "code",
   "execution_count": null,
   "id": "f2776bd4",
   "metadata": {},
   "outputs": [],
   "source": []
  }
 ],
 "metadata": {
  "kernelspec": {
   "display_name": "Python 3 (ipykernel)",
   "language": "python",
   "name": "python3"
  },
  "language_info": {
   "codemirror_mode": {
    "name": "ipython",
    "version": 3
   },
   "file_extension": ".py",
   "mimetype": "text/x-python",
   "name": "python",
   "nbconvert_exporter": "python",
   "pygments_lexer": "ipython3",
   "version": "3.9.13"
  }
 },
 "nbformat": 4,
 "nbformat_minor": 5
}
