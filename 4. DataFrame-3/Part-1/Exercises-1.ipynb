{
 "cells": [
  {
   "cell_type": "markdown",
   "id": "13fa827b",
   "metadata": {},
   "source": [
    "## Accessing rows from the DataFrame using `loc[]` and `iloc[]`"
   ]
  },
  {
   "cell_type": "markdown",
   "id": "b469a35f",
   "metadata": {},
   "source": [
    "### Import the pandas library"
   ]
  },
  {
   "cell_type": "code",
   "execution_count": null,
   "id": "e267a159",
   "metadata": {},
   "outputs": [],
   "source": []
  },
  {
   "cell_type": "markdown",
   "id": "c0d5bdb8",
   "metadata": {},
   "source": [
    "### Load the CSV file from this [link](https://raw.githubusercontent.com/Prajwalk09/Data-Analysis-with-Pandas-and-Python/refs/heads/main/DataFrame-3/jamesbond.csv) into a DataFrame and assign it to a variable named `data`"
   ]
  },
  {
   "cell_type": "code",
   "execution_count": null,
   "id": "e4223e60",
   "metadata": {},
   "outputs": [],
   "source": []
  },
  {
   "cell_type": "markdown",
   "id": "27a51d1c",
   "metadata": {},
   "source": [
    "### Display the first 5 rows of the DataFrame"
   ]
  },
  {
   "cell_type": "code",
   "execution_count": null,
   "id": "4e54844e",
   "metadata": {},
   "outputs": [],
   "source": []
  },
  {
   "cell_type": "markdown",
   "id": "89bd1157",
   "metadata": {},
   "source": [
    "### Set the `'Film'` column as the index of the `data` DataFrame and update the DataFrame in place"
   ]
  },
  {
   "cell_type": "code",
   "execution_count": null,
   "id": "0be14da1",
   "metadata": {},
   "outputs": [],
   "source": []
  },
  {
   "cell_type": "markdown",
   "id": "65b0ecd4",
   "metadata": {},
   "source": [
    "### Display the first 5 rows of the DataFrame again, once the index has been updated"
   ]
  },
  {
   "cell_type": "code",
   "execution_count": null,
   "id": "1111a863",
   "metadata": {},
   "outputs": [],
   "source": []
  },
  {
   "cell_type": "markdown",
   "id": "4ec5f013",
   "metadata": {},
   "source": [
    "### Sort the `data` DataFrame by its index in ascending order and update the DataFrame in place"
   ]
  },
  {
   "cell_type": "code",
   "execution_count": null,
   "id": "b6db63cb",
   "metadata": {},
   "outputs": [],
   "source": []
  },
  {
   "cell_type": "markdown",
   "id": "a043968d",
   "metadata": {},
   "source": [
    "### Retrieve the row from the `data` DataFrame where the index is `'Casino Royale'`"
   ]
  },
  {
   "cell_type": "code",
   "execution_count": null,
   "id": "c4105230",
   "metadata": {},
   "outputs": [],
   "source": []
  },
  {
   "cell_type": "markdown",
   "id": "569cbc11",
   "metadata": {},
   "source": [
    "### Retrieve the rows from the `data` DataFrame where the index is between `'Diamonds Are Forever'` and `'From Russia with Love'` (inclusive) using Slicing Operations"
   ]
  },
  {
   "cell_type": "code",
   "execution_count": null,
   "id": "6e6a622c",
   "metadata": {},
   "outputs": [],
   "source": []
  },
  {
   "cell_type": "markdown",
   "id": "fd378e34",
   "metadata": {},
   "source": [
    "### Retrieve all rows from the `data` DataFrame starting from the index `'GoldenEye'`"
   ]
  },
  {
   "cell_type": "code",
   "execution_count": null,
   "id": "8248a149",
   "metadata": {},
   "outputs": [],
   "source": []
  },
  {
   "cell_type": "markdown",
   "id": "bd16a552",
   "metadata": {},
   "source": [
    "### Retrieve the rows from the `data` DataFrame where the index is:\n",
    "- `'Octopussy'`\n",
    "- `'Die Another Day'`"
   ]
  },
  {
   "cell_type": "code",
   "execution_count": null,
   "id": "fd9f9e09",
   "metadata": {},
   "outputs": [],
   "source": []
  },
  {
   "cell_type": "markdown",
   "id": "9bc6fd92",
   "metadata": {},
   "source": [
    "### Reset the index of the `data` DataFrame and update the DataFrame in place"
   ]
  },
  {
   "cell_type": "code",
   "execution_count": null,
   "id": "bd4225a2",
   "metadata": {},
   "outputs": [],
   "source": []
  },
  {
   "cell_type": "markdown",
   "id": "3ebbd6a8",
   "metadata": {},
   "source": [
    "### Retrieve the row from the `data` DataFrame at index position 4 using `iloc`"
   ]
  },
  {
   "cell_type": "code",
   "execution_count": null,
   "id": "8a871f09",
   "metadata": {},
   "outputs": [],
   "source": []
  },
  {
   "cell_type": "markdown",
   "id": "af6c9d9f",
   "metadata": {},
   "source": [
    "### Retrieve the rows from the `data` DataFrame at index positions 15 and 20"
   ]
  },
  {
   "cell_type": "code",
   "execution_count": null,
   "id": "1833277d",
   "metadata": {},
   "outputs": [],
   "source": []
  },
  {
   "cell_type": "markdown",
   "id": "6af788f2",
   "metadata": {},
   "source": [
    "### Retrieve every second row from the `data` DataFrame"
   ]
  },
  {
   "cell_type": "markdown",
   "id": "0e199349",
   "metadata": {},
   "source": [
    "<span style=\"color:blue; font-size:14px\">**Hint:** Use the concept of \"step\" in slicing to achieve this</span>"
   ]
  },
  {
   "cell_type": "code",
   "execution_count": null,
   "id": "b1722da2",
   "metadata": {},
   "outputs": [],
   "source": []
  }
 ],
 "metadata": {
  "kernelspec": {
   "display_name": "Python 3 (ipykernel)",
   "language": "python",
   "name": "python3"
  },
  "language_info": {
   "codemirror_mode": {
    "name": "ipython",
    "version": 3
   },
   "file_extension": ".py",
   "mimetype": "text/x-python",
   "name": "python",
   "nbconvert_exporter": "python",
   "pygments_lexer": "ipython3",
   "version": "3.9.13"
  }
 },
 "nbformat": 4,
 "nbformat_minor": 5
}
