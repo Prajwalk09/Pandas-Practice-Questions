{
 "cells": [
  {
   "cell_type": "markdown",
   "id": "dd465c63",
   "metadata": {},
   "source": [
    "### Import the pandas library"
   ]
  },
  {
   "cell_type": "code",
   "execution_count": null,
   "id": "802b82fb",
   "metadata": {},
   "outputs": [],
   "source": []
  },
  {
   "cell_type": "markdown",
   "id": "cb22ece0",
   "metadata": {},
   "source": [
    "### Load the CSV file from this [link](https://raw.githubusercontent.com/Prajwalk09/Data-Analysis-with-Pandas-and-Python/refs/heads/main/DataFrame-3/jamesbond.csv) into a DataFrame and assign it to a variable named `data`"
   ]
  },
  {
   "cell_type": "code",
   "execution_count": null,
   "id": "fe13ca0a",
   "metadata": {},
   "outputs": [],
   "source": []
  },
  {
   "cell_type": "markdown",
   "id": "ee117f45",
   "metadata": {},
   "source": [
    "### Display the first 5 rows of the DataFrame"
   ]
  },
  {
   "cell_type": "code",
   "execution_count": null,
   "id": "64a41840",
   "metadata": {},
   "outputs": [],
   "source": []
  },
  {
   "cell_type": "markdown",
   "id": "d54bf9fd",
   "metadata": {},
   "source": [
    "### Set the `'Film'` column as the index of the `data` DataFrame. Next, sort the index and make sure that these changes are reflected in the original DataFrame"
   ]
  },
  {
   "cell_type": "code",
   "execution_count": null,
   "id": "60e618e8",
   "metadata": {},
   "outputs": [],
   "source": []
  },
  {
   "cell_type": "code",
   "execution_count": null,
   "id": "aa1e77fa",
   "metadata": {},
   "outputs": [],
   "source": []
  },
  {
   "cell_type": "markdown",
   "id": "c39bbfe2",
   "metadata": {},
   "source": [
    "### Retrieve the rows from the `data` DataFrame where the index is one of the following:\n",
    "- `'Die Another Day'`\n",
    "- `'Casino Royale'`\n",
    "\n",
    "And display the columns:\n",
    "- `'Actor'`\n",
    "- `'Director'`\n",
    "- `'Box Office'`"
   ]
  },
  {
   "cell_type": "code",
   "execution_count": null,
   "id": "90fdcc5d",
   "metadata": {},
   "outputs": [],
   "source": []
  },
  {
   "cell_type": "markdown",
   "id": "5c168305",
   "metadata": {},
   "source": [
    "### Retrieve the rows from the `data` DataFrame where the index is between `'Casino Royale'` and `'Die Another Day'`, and display the columns from `'Director'` to `'Budget'`"
   ]
  },
  {
   "cell_type": "code",
   "execution_count": null,
   "id": "c29b7e2e",
   "metadata": {},
   "outputs": [],
   "source": []
  },
  {
   "cell_type": "markdown",
   "id": "02e7c0f4",
   "metadata": {},
   "source": [
    "#### Update the value in the `data` DataFrame where the index is `'Dr. No'` and the column is `'Actor'` to `'Sir Sean Connery'`.\n",
    "\n",
    "After updating, display the entire row for `'Dr. No'`."
   ]
  },
  {
   "cell_type": "code",
   "execution_count": null,
   "id": "1800c802",
   "metadata": {},
   "outputs": [],
   "source": []
  },
  {
   "cell_type": "code",
   "execution_count": null,
   "id": "89ced931",
   "metadata": {},
   "outputs": [],
   "source": []
  },
  {
   "cell_type": "markdown",
   "id": "8ce5f856",
   "metadata": {},
   "source": [
    "### Filter the `data` DataFrame to find rows where the `Actor` is `'Sean Connery'` and update the `Actor` value to `'Sir Sean Connery'`.\n",
    "\n",
    "After updating, display all rows where the `Actor` is `'Sir Sean Connery'`."
   ]
  },
  {
   "cell_type": "code",
   "execution_count": null,
   "id": "f4cab7b6",
   "metadata": {},
   "outputs": [],
   "source": []
  },
  {
   "cell_type": "code",
   "execution_count": null,
   "id": "42d5c928",
   "metadata": {},
   "outputs": [],
   "source": []
  },
  {
   "cell_type": "markdown",
   "id": "8b9038a8",
   "metadata": {},
   "source": [
    "### Rename the columns in the `data` DataFrame:\n",
    "- Change `\"Year\"` to `\"Release Date\"`\n",
    "- Change `\"Box Office\"` to `\"Revenue\"`"
   ]
  },
  {
   "cell_type": "code",
   "execution_count": null,
   "id": "bb2b6a1e",
   "metadata": {},
   "outputs": [],
   "source": []
  },
  {
   "cell_type": "markdown",
   "id": "843ce589",
   "metadata": {},
   "source": [
    "### Rename the indices in the `data` DataFrame:\n",
    "- Change `\"GoldenEye\"` to `'Golden Eye'`\n",
    "- Change `'The World Is Not Enough'` to `'Best Bond Movie'`"
   ]
  },
  {
   "cell_type": "code",
   "execution_count": null,
   "id": "f8ba1d75",
   "metadata": {},
   "outputs": [],
   "source": []
  },
  {
   "cell_type": "markdown",
   "id": "ad8eb0c8",
   "metadata": {},
   "source": [
    "### Drop the rows from the `data` DataFrame where the index is either `'A View to a Kill'` or `'Casino Royale'` along the horizontal axis. \n",
    "<span style = \"color:red; font-weight:bold; font-size:14px\">Do not make the changes inplace</span>"
   ]
  },
  {
   "cell_type": "code",
   "execution_count": null,
   "id": "6ee21766",
   "metadata": {},
   "outputs": [],
   "source": []
  },
  {
   "cell_type": "markdown",
   "id": "cdb8aba8",
   "metadata": {},
   "source": [
    "### Drop the columns from the `data` DataFrame:\n",
    "- `'Revenue'`\n",
    "- `'Bond Actor Salary'`\n",
    "- `'Actor'` <br>\n",
    "<span style = \"color:red; font-weight:bold; font-size:14px\">Do not make the changes inplace</span>"
   ]
  },
  {
   "cell_type": "code",
   "execution_count": null,
   "id": "c35d7a15",
   "metadata": {},
   "outputs": [],
   "source": []
  },
  {
   "cell_type": "markdown",
   "id": "f7050bd7",
   "metadata": {},
   "source": [
    "### Use an <span style=\"color:blue\">inbuilt</span> function to randomly select 5 rows from the `data` DataFrame"
   ]
  },
  {
   "cell_type": "code",
   "execution_count": null,
   "id": "306dfdfd",
   "metadata": {},
   "outputs": [],
   "source": []
  },
  {
   "cell_type": "markdown",
   "id": "d0957368",
   "metadata": {},
   "source": [
    "### Use an <span style=\"color:blue\">inbuilt</span> function to randomly select 5 columns from the `data` DataFrame"
   ]
  },
  {
   "cell_type": "code",
   "execution_count": null,
   "id": "8274007c",
   "metadata": {},
   "outputs": [],
   "source": []
  },
  {
   "cell_type": "markdown",
   "id": "7854246f",
   "metadata": {},
   "source": [
    "### Use an <span style=\"color:blue\">inbuilt</span> function to get the top 5 rows with the highest values in the `'Revenue'` column from the `data` DataFrame"
   ]
  },
  {
   "cell_type": "code",
   "execution_count": null,
   "id": "fad8f8a0",
   "metadata": {},
   "outputs": [],
   "source": []
  },
  {
   "cell_type": "markdown",
   "id": "17d1c154",
   "metadata": {},
   "source": [
    "### Use an <span style=\"color:blue\">inbuilt</span> function to get the top 5 rows with the lowest values in the `'Revenue'` column from the `data` DataFrame"
   ]
  },
  {
   "cell_type": "code",
   "execution_count": null,
   "id": "ea520e69",
   "metadata": {},
   "outputs": [],
   "source": []
  },
  {
   "cell_type": "markdown",
   "id": "1b8f884f",
   "metadata": {},
   "source": [
    "### Understanding the `query()` Method in Pandas\n",
    "\n",
    "The `query()` method in Pandas allows you to filter rows of a DataFrame using a query string. It provides a more readable and concise alternative to traditional boolean indexing.  \n",
    "\n",
    "#### Key Points:  \n",
    "- Column names used in the query must **<span style=\"color:red\">not</span> contain spaces**.  \n",
    "- The query is passed as a string and is evaluated against the DataFrame.  \n",
    "- Logical operators such as `and`, `or`, and `not` are used instead of `&`, `|`, and `~`.  \n",
    "\n",
    "#### Example:\n",
    "```python\n",
    "data.query(\"Box_Office > 500 and Actor == 'Sean Connery'\")\n",
    "```"
   ]
  },
  {
   "cell_type": "markdown",
   "id": "dffc0c4d",
   "metadata": {},
   "source": [
    "### Rename Columns in the DataFrame  \n",
    "\n",
    "Use the `rename()` method to change the column names:  \n",
    "- `\"Bond Actor Salary\"` to `\"Bond_Actor_Salary\"`  \n",
    "\n",
    "Ensure that the changes are made inplace"
   ]
  },
  {
   "cell_type": "code",
   "execution_count": null,
   "id": "7f61defb",
   "metadata": {},
   "outputs": [],
   "source": []
  },
  {
   "cell_type": "markdown",
   "id": "0e0b3ecf",
   "metadata": {},
   "source": [
    "### Filter and display rows where the value in the `\"Actor\"` column is `\"Sir Sean Connery\"`"
   ]
  },
  {
   "cell_type": "code",
   "execution_count": null,
   "id": "65984ade",
   "metadata": {},
   "outputs": [],
   "source": []
  },
  {
   "cell_type": "markdown",
   "id": "e2a8e389",
   "metadata": {},
   "source": [
    "### Filter rows where the `\"Actor\"` is `\"Sir Sean Connery\"` and the `\"Director\"` is `\"Guy Hamilton\"`"
   ]
  },
  {
   "cell_type": "code",
   "execution_count": null,
   "id": "90af89be",
   "metadata": {},
   "outputs": [],
   "source": []
  },
  {
   "cell_type": "markdown",
   "id": "ef8bb3ef",
   "metadata": {},
   "source": [
    "### Filter rows where the `\"Actor\"` is neither `\"Timothy Dalton\"` nor `\"George Lazenby\"`"
   ]
  },
  {
   "cell_type": "code",
   "execution_count": null,
   "id": "22b29cfc",
   "metadata": {},
   "outputs": [],
   "source": []
  }
 ],
 "metadata": {
  "kernelspec": {
   "display_name": "Python 3 (ipykernel)",
   "language": "python",
   "name": "python3"
  },
  "language_info": {
   "codemirror_mode": {
    "name": "ipython",
    "version": 3
   },
   "file_extension": ".py",
   "mimetype": "text/x-python",
   "name": "python",
   "nbconvert_exporter": "python",
   "pygments_lexer": "ipython3",
   "version": "3.9.13"
  }
 },
 "nbformat": 4,
 "nbformat_minor": 5
}
