{
 "cells": [
  {
   "cell_type": "markdown",
   "id": "6d9832f6",
   "metadata": {},
   "source": [
    "### Reading Files in Pandas"
   ]
  },
  {
   "cell_type": "markdown",
   "id": "ee7d3959",
   "metadata": {},
   "source": [
    "### Import the necessary libraries"
   ]
  },
  {
   "cell_type": "code",
   "execution_count": null,
   "id": "7a3d2af0",
   "metadata": {},
   "outputs": [],
   "source": []
  },
  {
   "cell_type": "markdown",
   "id": "ecb6c8f0",
   "metadata": {},
   "source": [
    "### Load the csv file from this <a href = \"https://raw.githubusercontent.com/Prajwalk09/Data-Analysis-with-Pandas-and-Python/refs/heads/main/Series/google_stock_price.csv\">link</a> into a variable called `stock_data` as a Series"
   ]
  },
  {
   "cell_type": "code",
   "execution_count": null,
   "id": "d91a41a8",
   "metadata": {},
   "outputs": [],
   "source": []
  },
  {
   "cell_type": "markdown",
   "id": "21045762",
   "metadata": {},
   "source": [
    "### Load another csv file from this <a href= \"https://raw.githubusercontent.com/Prajwalk09/Data-Analysis-with-Pandas-and-Python/refs/heads/main/Series/pokemon.csv\">link</a> into a varaible called `pokemon_data`. Use only the *Pokemon* column and store the result as a Series"
   ]
  },
  {
   "cell_type": "code",
   "execution_count": null,
   "id": "a7fd5c26",
   "metadata": {},
   "outputs": [],
   "source": []
  },
  {
   "cell_type": "markdown",
   "id": "f1085999",
   "metadata": {},
   "source": [
    "### Display the first 5 rows from both the variables"
   ]
  },
  {
   "cell_type": "code",
   "execution_count": null,
   "id": "2912e6dc",
   "metadata": {},
   "outputs": [],
   "source": []
  },
  {
   "cell_type": "code",
   "execution_count": null,
   "id": "60e69623",
   "metadata": {},
   "outputs": [],
   "source": []
  },
  {
   "cell_type": "markdown",
   "id": "17c97cfa",
   "metadata": {},
   "source": [
    "### Display the length of the `pokemon_data` variable"
   ]
  },
  {
   "cell_type": "code",
   "execution_count": null,
   "id": "59823bb5",
   "metadata": {},
   "outputs": [],
   "source": []
  },
  {
   "cell_type": "markdown",
   "id": "d8132295",
   "metadata": {},
   "source": [
    "### Use the `min()` and `max()` functions on `stock_data` and `pokemon_data`"
   ]
  },
  {
   "cell_type": "markdown",
   "id": "9a327233",
   "metadata": {},
   "source": [
    "<span style=\"font-size:14px; color:blue;\">What conclusions can you make about the behavior of `min()` and `max()` when applied to non-numeric data?</span>"
   ]
  },
  {
   "cell_type": "code",
   "execution_count": null,
   "id": "c946c03c",
   "metadata": {},
   "outputs": [],
   "source": []
  },
  {
   "cell_type": "code",
   "execution_count": null,
   "id": "438b9ead",
   "metadata": {},
   "outputs": [],
   "source": []
  },
  {
   "cell_type": "code",
   "execution_count": null,
   "id": "dfed1f53",
   "metadata": {},
   "outputs": [],
   "source": []
  },
  {
   "cell_type": "code",
   "execution_count": null,
   "id": "d09261dc",
   "metadata": {},
   "outputs": [],
   "source": []
  },
  {
   "cell_type": "markdown",
   "id": "056fdea0",
   "metadata": {},
   "source": [
    "### Sort the values in the `pokemon_data` in ascending order and the values in `stock_data` in descending order"
   ]
  },
  {
   "cell_type": "code",
   "execution_count": null,
   "id": "a8b54aae",
   "metadata": {},
   "outputs": [],
   "source": []
  },
  {
   "cell_type": "code",
   "execution_count": null,
   "id": "7f8c1d53",
   "metadata": {},
   "outputs": [],
   "source": []
  },
  {
   "cell_type": "markdown",
   "id": "77d3336c",
   "metadata": {},
   "source": [
    "### Extract the 5th value from the `pokemon_data` Series"
   ]
  },
  {
   "cell_type": "code",
   "execution_count": null,
   "id": "a6fcd5e5",
   "metadata": {},
   "outputs": [],
   "source": []
  },
  {
   "cell_type": "markdown",
   "id": "904f9342",
   "metadata": {},
   "source": [
    "### Extract the 10th, 15th and 20th value from the `pokemon_data` Series"
   ]
  },
  {
   "cell_type": "code",
   "execution_count": null,
   "id": "c951646f",
   "metadata": {},
   "outputs": [],
   "source": []
  },
  {
   "cell_type": "markdown",
   "id": "6a692729",
   "metadata": {},
   "source": [
    "### Extract all the values between the 10th and 20th index in the `pokemon_data` Series"
   ]
  },
  {
   "cell_type": "code",
   "execution_count": null,
   "id": "51bb5b3b",
   "metadata": {},
   "outputs": [],
   "source": []
  },
  {
   "cell_type": "code",
   "execution_count": null,
   "id": "8c6cd5a0",
   "metadata": {},
   "outputs": [],
   "source": []
  }
 ],
 "metadata": {
  "kernelspec": {
   "display_name": "Python 3 (ipykernel)",
   "language": "python",
   "name": "python3"
  },
  "language_info": {
   "codemirror_mode": {
    "name": "ipython",
    "version": 3
   },
   "file_extension": ".py",
   "mimetype": "text/x-python",
   "name": "python",
   "nbconvert_exporter": "python",
   "pygments_lexer": "ipython3",
   "version": "3.9.13"
  }
 },
 "nbformat": 4,
 "nbformat_minor": 5
}
