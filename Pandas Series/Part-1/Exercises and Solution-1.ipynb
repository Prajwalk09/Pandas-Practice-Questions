{
 "cells": [
  {
   "cell_type": "markdown",
   "id": "b55f0138",
   "metadata": {},
   "source": [
    "## Series in Pandas\n",
    "In this notebook, we will be trying to understand some important concepts related to series in Pandas and how to perform various operations on them."
   ]
  },
  {
   "cell_type": "markdown",
   "id": "36c5b367",
   "metadata": {},
   "source": [
    "### Creating a Series from a Python List"
   ]
  },
  {
   "cell_type": "markdown",
   "id": "1a1a46a4",
   "metadata": {},
   "source": [
    "### Import the required libraries"
   ]
  },
  {
   "cell_type": "code",
   "execution_count": 1,
   "id": "342bf423",
   "metadata": {},
   "outputs": [],
   "source": [
    "import pandas as pd"
   ]
  },
  {
   "cell_type": "markdown",
   "id": "920c5163",
   "metadata": {},
   "source": [
    "### Create a list named <code>ice_cream</code> containing 4 different flavors as strings"
   ]
  },
  {
   "cell_type": "code",
   "execution_count": 2,
   "id": "ba539270",
   "metadata": {},
   "outputs": [],
   "source": [
    "ice_cream = ['chocolate', 'vanilla', 'starwberry', 'rum raisin']"
   ]
  },
  {
   "cell_type": "markdown",
   "id": "e83c891e",
   "metadata": {},
   "source": [
    "### Convert this list into a Series using <code>pd.Series()</code>"
   ]
  },
  {
   "cell_type": "code",
   "execution_count": 3,
   "id": "9d5ce05f",
   "metadata": {},
   "outputs": [
    {
     "data": {
      "text/plain": [
       "0     chocolate\n",
       "1       vanilla\n",
       "2    starwberry\n",
       "3    rum raisin\n",
       "dtype: object"
      ]
     },
     "execution_count": 3,
     "metadata": {},
     "output_type": "execute_result"
    }
   ],
   "source": [
    "pd.Series(data = ice_cream)"
   ]
  },
  {
   "cell_type": "markdown",
   "id": "4a9d350e",
   "metadata": {},
   "source": [
    "### Create another list called <code>lottery</code> containing 5 different numbers"
   ]
  },
  {
   "cell_type": "code",
   "execution_count": 4,
   "id": "3458c95e",
   "metadata": {},
   "outputs": [],
   "source": [
    "lottery = [56,45,98,10,23,87]"
   ]
  },
  {
   "cell_type": "markdown",
   "id": "e6f7c876",
   "metadata": {},
   "source": [
    "### Convert this list into a Series as well"
   ]
  },
  {
   "cell_type": "code",
   "execution_count": 5,
   "id": "75092788",
   "metadata": {},
   "outputs": [
    {
     "data": {
      "text/plain": [
       "0    56\n",
       "1    45\n",
       "2    98\n",
       "3    10\n",
       "4    23\n",
       "5    87\n",
       "dtype: int64"
      ]
     },
     "execution_count": 5,
     "metadata": {},
     "output_type": "execute_result"
    }
   ],
   "source": [
    "pd.Series(data = lottery)"
   ]
  },
  {
   "cell_type": "markdown",
   "id": "1d395ffa",
   "metadata": {},
   "source": [
    "### Create a Dictionary having 3 key-value pairs"
   ]
  },
  {
   "cell_type": "code",
   "execution_count": 6,
   "id": "a8393bb0",
   "metadata": {},
   "outputs": [],
   "source": [
    "capitals = {\n",
    "    \"India\" : \"New Delhi\",\n",
    "    \"Russia\" : \"Moscow\",\n",
    "    \"USA\" : \"Washington\"\n",
    "}"
   ]
  },
  {
   "cell_type": "markdown",
   "id": "d10efcc6",
   "metadata": {},
   "source": [
    "### Convert this dictionary into a Series object"
   ]
  },
  {
   "cell_type": "code",
   "execution_count": 7,
   "id": "5f34ab4a",
   "metadata": {},
   "outputs": [
    {
     "data": {
      "text/plain": [
       "India      New Delhi\n",
       "Russia        Moscow\n",
       "USA       Washington\n",
       "dtype: object"
      ]
     },
     "execution_count": 7,
     "metadata": {},
     "output_type": "execute_result"
    }
   ],
   "source": [
    "pd.Series(data = capitals)"
   ]
  },
  {
   "cell_type": "markdown",
   "id": "3bfe5673",
   "metadata": {},
   "source": [
    "<hr>"
   ]
  },
  {
   "cell_type": "markdown",
   "id": "fc808b93",
   "metadata": {},
   "source": [
    "### Attributes and Methods Related to Series"
   ]
  },
  {
   "cell_type": "markdown",
   "id": "7fe79391",
   "metadata": {},
   "source": [
    "### Create a list called `prices` and assign it the values `[15, 46, 44, 44, 12]`.\n"
   ]
  },
  {
   "cell_type": "code",
   "execution_count": 8,
   "id": "b4bda432",
   "metadata": {},
   "outputs": [],
   "source": [
    "prices = [15, 46, 44, 44, 12]"
   ]
  },
  {
   "cell_type": "markdown",
   "id": "e38b27a5",
   "metadata": {},
   "source": [
    "### Create a Series object from the <code>prices</code> list and assign it to a variable of your choice"
   ]
  },
  {
   "cell_type": "code",
   "execution_count": 9,
   "id": "9b761b17",
   "metadata": {},
   "outputs": [
    {
     "data": {
      "text/plain": [
       "0    15\n",
       "1    46\n",
       "2    44\n",
       "3    44\n",
       "4    12\n",
       "dtype: int64"
      ]
     },
     "execution_count": 9,
     "metadata": {},
     "output_type": "execute_result"
    }
   ],
   "source": [
    "prices_series = pd.Series(data = prices)\n",
    "prices_series"
   ]
  },
  {
   "cell_type": "markdown",
   "id": "50093de3",
   "metadata": {},
   "source": [
    "### Print the values and the index of the newly created Series object"
   ]
  },
  {
   "cell_type": "code",
   "execution_count": 10,
   "id": "3470bd43",
   "metadata": {},
   "outputs": [
    {
     "name": "stdout",
     "output_type": "stream",
     "text": [
      "RangeIndex(start=0, stop=5, step=1)\n"
     ]
    }
   ],
   "source": [
    "print(prices_series.index)"
   ]
  },
  {
   "cell_type": "code",
   "execution_count": 11,
   "id": "4ca0267c",
   "metadata": {},
   "outputs": [
    {
     "name": "stdout",
     "output_type": "stream",
     "text": [
      "[15 46 44 44 12]\n"
     ]
    }
   ],
   "source": [
    "print(prices_series.values)"
   ]
  },
  {
   "cell_type": "markdown",
   "id": "670f8f21",
   "metadata": {},
   "source": [
    "### Display the data type of the Series"
   ]
  },
  {
   "cell_type": "code",
   "execution_count": 12,
   "id": "a61f174c",
   "metadata": {},
   "outputs": [
    {
     "data": {
      "text/plain": [
       "dtype('int64')"
      ]
     },
     "execution_count": 12,
     "metadata": {},
     "output_type": "execute_result"
    }
   ],
   "source": [
    "prices_series.dtype"
   ]
  },
  {
   "cell_type": "markdown",
   "id": "3a395961",
   "metadata": {},
   "source": [
    "### Mathematical functions like <code>mean, median, mode, sum</code> etc can be applied on Series with numeric values. Apply these functions to the newly created Series"
   ]
  },
  {
   "cell_type": "code",
   "execution_count": 13,
   "id": "c84bae7c",
   "metadata": {},
   "outputs": [
    {
     "name": "stdout",
     "output_type": "stream",
     "text": [
      "161\n"
     ]
    }
   ],
   "source": [
    "print(prices_series.sum())"
   ]
  },
  {
   "cell_type": "code",
   "execution_count": 14,
   "id": "deae2a98",
   "metadata": {},
   "outputs": [
    {
     "name": "stdout",
     "output_type": "stream",
     "text": [
      "32.2\n"
     ]
    }
   ],
   "source": [
    "print(prices_series.mean())"
   ]
  },
  {
   "cell_type": "code",
   "execution_count": 15,
   "id": "e0928960",
   "metadata": {},
   "outputs": [
    {
     "name": "stdout",
     "output_type": "stream",
     "text": [
      "44.0\n"
     ]
    }
   ],
   "source": [
    "print(prices_series.median())"
   ]
  },
  {
   "cell_type": "code",
   "execution_count": 16,
   "id": "df456cdd",
   "metadata": {},
   "outputs": [
    {
     "name": "stdout",
     "output_type": "stream",
     "text": [
      "0    44\n",
      "dtype: int64\n"
     ]
    }
   ],
   "source": [
    "print(prices_series.mode())"
   ]
  },
  {
   "cell_type": "markdown",
   "id": "a6d78c2c",
   "metadata": {},
   "source": [
    "### Create two lists:  \n",
    "1. A list named `fruits` containing the following items: `Apple`, `Orange`, `Banana`, `Kiwi`, and `Lime`.  \n",
    "2. A list named `weekdays` containing the following items: `Monday`, `Tuesday`, `Wednesday`, `Thursday`, and `Friday`.  "
   ]
  },
  {
   "cell_type": "code",
   "execution_count": 17,
   "id": "d0abb354",
   "metadata": {},
   "outputs": [],
   "source": [
    "fruits = ['Apple', 'Orange', 'Banana', 'Kiwi', 'Lime']\n",
    "weekdays = ['Monday', 'Tuesday', 'Wednesday', 'Thursday', 'Friday']"
   ]
  },
  {
   "cell_type": "markdown",
   "id": "e12b8ed8",
   "metadata": {},
   "source": [
    "### Create a series object using the `fruits` list and set it's index as the `weekdays` list"
   ]
  },
  {
   "cell_type": "code",
   "execution_count": 18,
   "id": "0878adb4",
   "metadata": {},
   "outputs": [
    {
     "data": {
      "text/plain": [
       "Monday        Apple\n",
       "Tuesday      Orange\n",
       "Wednesday    Banana\n",
       "Thursday       Kiwi\n",
       "Friday         Lime\n",
       "dtype: object"
      ]
     },
     "execution_count": 18,
     "metadata": {},
     "output_type": "execute_result"
    }
   ],
   "source": [
    "pd.Series(data = fruits, index = weekdays)"
   ]
  },
  {
   "cell_type": "code",
   "execution_count": null,
   "id": "076910b1",
   "metadata": {},
   "outputs": [],
   "source": []
  }
 ],
 "metadata": {
  "kernelspec": {
   "display_name": "Python 3 (ipykernel)",
   "language": "python",
   "name": "python3"
  },
  "language_info": {
   "codemirror_mode": {
    "name": "ipython",
    "version": 3
   },
   "file_extension": ".py",
   "mimetype": "text/x-python",
   "name": "python",
   "nbconvert_exporter": "python",
   "pygments_lexer": "ipython3",
   "version": "3.9.13"
  }
 },
 "nbformat": 4,
 "nbformat_minor": 5
}
