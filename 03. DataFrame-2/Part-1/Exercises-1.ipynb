{
 "cells": [
  {
   "cell_type": "markdown",
   "id": "db9cb064",
   "metadata": {},
   "source": [
    "## Intermediate DataFrame operations like filtering and sorting"
   ]
  },
  {
   "cell_type": "markdown",
   "id": "bccbb42d",
   "metadata": {},
   "source": [
    "### Import the pandas library"
   ]
  },
  {
   "cell_type": "code",
   "execution_count": null,
   "id": "276d6035",
   "metadata": {},
   "outputs": [],
   "source": []
  },
  {
   "cell_type": "markdown",
   "id": "60249edb",
   "metadata": {},
   "source": [
    "### Load the CSV file from this [link](https://raw.githubusercontent.com/Prajwalk09/Data-Analysis-with-Pandas-and-Python/refs/heads/main/DataFrame-2/employees.csv) into a DataFrame and assign it to a variable named `data`"
   ]
  },
  {
   "cell_type": "code",
   "execution_count": null,
   "id": "8301e33b",
   "metadata": {},
   "outputs": [],
   "source": []
  },
  {
   "cell_type": "markdown",
   "id": "7aa2ccf2",
   "metadata": {},
   "source": [
    "### Display the first 5 rows of the DataFrame"
   ]
  },
  {
   "cell_type": "code",
   "execution_count": null,
   "id": "e0361cad",
   "metadata": {},
   "outputs": [],
   "source": []
  },
  {
   "cell_type": "markdown",
   "id": "02b0bf4e",
   "metadata": {},
   "source": [
    "### Convert the `'Start Date'` and `'Last Login Time'` columns in the `data` DataFrame to datetime format"
   ]
  },
  {
   "cell_type": "markdown",
   "id": "2c77ebc7",
   "metadata": {},
   "source": [
    "### Purpose of Converting Datetime Variables Stored as Objects to Datetime Objects\n",
    "\n",
    "Converting datetime variables stored as objects (strings) to actual `datetime` objects allows for more efficient and accurate manipulation of date and time data. It enables:\n",
    "\n",
    "- **Date-based operations**: You can perform operations like filtering, sorting, and calculating date differences.\n",
    "- **Better performance**: Datetime objects are optimized for time-related calculations and comparisons, improving computational efficiency.\n",
    "- **Consistency**: Ensures consistency in how dates are represented and handled across the dataset.\n",
    "- **Advanced functionality**: Enables access to datetime-specific methods and attributes, such as extracting year, month, day, and performing time-based aggregations."
   ]
  },
  {
   "cell_type": "code",
   "execution_count": null,
   "id": "24adcb76",
   "metadata": {},
   "outputs": [],
   "source": []
  },
  {
   "cell_type": "code",
   "execution_count": null,
   "id": "7bd7377e",
   "metadata": {},
   "outputs": [],
   "source": []
  },
  {
   "cell_type": "markdown",
   "id": "7c383a7f",
   "metadata": {},
   "source": [
    "### Convert the `'Senior Management'` column in the `data` DataFrame to boolean type"
   ]
  },
  {
   "cell_type": "code",
   "execution_count": null,
   "id": "8a029379",
   "metadata": {},
   "outputs": [],
   "source": []
  },
  {
   "cell_type": "markdown",
   "id": "c0e41733",
   "metadata": {},
   "source": [
    "### Display a summary of the `data` DataFrame, including column names, non-null counts, and data types"
   ]
  },
  {
   "cell_type": "code",
   "execution_count": null,
   "id": "5b981f77",
   "metadata": {},
   "outputs": [],
   "source": []
  },
  {
   "cell_type": "markdown",
   "id": "085389af",
   "metadata": {},
   "source": [
    "### Filter and display rows from the `data` DataFrame where the value in the `'Gender'` column is `'Male`"
   ]
  },
  {
   "cell_type": "code",
   "execution_count": null,
   "id": "df7738a4",
   "metadata": {},
   "outputs": [],
   "source": []
  },
  {
   "cell_type": "markdown",
   "id": "c20304b0",
   "metadata": {},
   "source": [
    "### Filter and display rows from the `data` DataFrame where the `'Senior Management'` column has a value of `True`"
   ]
  },
  {
   "cell_type": "code",
   "execution_count": null,
   "id": "0d5401dd",
   "metadata": {},
   "outputs": [],
   "source": []
  },
  {
   "cell_type": "markdown",
   "id": "8d9d48d2",
   "metadata": {},
   "source": [
    "### Filter and display rows from the `data` DataFrame where the value in the `'Team'` column is not `'Marketing'`"
   ]
  },
  {
   "cell_type": "code",
   "execution_count": null,
   "id": "72f9c0a3",
   "metadata": {},
   "outputs": [],
   "source": []
  },
  {
   "cell_type": "markdown",
   "id": "6d4b456d",
   "metadata": {},
   "source": [
    "### Filter and display rows from the `data` DataFrame where the value in the `'Salary'` column is greater than 110,000"
   ]
  },
  {
   "cell_type": "code",
   "execution_count": null,
   "id": "f05ef5de",
   "metadata": {},
   "outputs": [],
   "source": []
  },
  {
   "cell_type": "markdown",
   "id": "93efcce7",
   "metadata": {},
   "source": [
    "### Filter and display rows from the `data` DataFrame where the value in the `'Start Date'` column is earlier than or equal to `'1985-01-01'`"
   ]
  },
  {
   "cell_type": "code",
   "execution_count": null,
   "id": "bc753b9a",
   "metadata": {},
   "outputs": [],
   "source": []
  },
  {
   "cell_type": "code",
   "execution_count": null,
   "id": "83b7ba35",
   "metadata": {},
   "outputs": [],
   "source": []
  }
 ],
 "metadata": {
  "kernelspec": {
   "display_name": "Python 3 (ipykernel)",
   "language": "python",
   "name": "python3"
  },
  "language_info": {
   "codemirror_mode": {
    "name": "ipython",
    "version": 3
   },
   "file_extension": ".py",
   "mimetype": "text/x-python",
   "name": "python",
   "nbconvert_exporter": "python",
   "pygments_lexer": "ipython3",
   "version": "3.9.13"
  }
 },
 "nbformat": 4,
 "nbformat_minor": 5
}
