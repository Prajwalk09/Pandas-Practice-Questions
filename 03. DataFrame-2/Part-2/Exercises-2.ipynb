{
 "cells": [
  {
   "cell_type": "markdown",
   "id": "ad706b1a",
   "metadata": {},
   "source": [
    "### Import the pandas library"
   ]
  },
  {
   "cell_type": "code",
   "execution_count": null,
   "id": "2726d55e",
   "metadata": {},
   "outputs": [],
   "source": []
  },
  {
   "cell_type": "markdown",
   "id": "01d62006",
   "metadata": {},
   "source": [
    "### Load the csv file from this [link](https://raw.githubusercontent.com/Prajwalk09/Data-Analysis-with-Pandas-and-Python/refs/heads/main/DataFrame-2/employees.csv) called `data` and parse the columns `'Start Date'` and `'Last Login Time'` as datetime objects during the import"
   ]
  },
  {
   "cell_type": "code",
   "execution_count": null,
   "id": "a5e51731",
   "metadata": {},
   "outputs": [],
   "source": []
  },
  {
   "cell_type": "markdown",
   "id": "8f63dcb5",
   "metadata": {},
   "source": [
    "### Display the first 5 rows of the DataFrame"
   ]
  },
  {
   "cell_type": "code",
   "execution_count": null,
   "id": "441db02a",
   "metadata": {},
   "outputs": [],
   "source": []
  },
  {
   "cell_type": "markdown",
   "id": "4706f0c7",
   "metadata": {},
   "source": [
    "### Filter and display rows from the `data` DataFrame where the value in the `'Gender'` column is `'Male'` and the value in the `'Team'` column is `'Marketing'`"
   ]
  },
  {
   "cell_type": "code",
   "execution_count": null,
   "id": "88bf4a66",
   "metadata": {},
   "outputs": [],
   "source": []
  },
  {
   "cell_type": "markdown",
   "id": "07c39ec9",
   "metadata": {},
   "source": [
    "### Define two conditions: \n",
    "1. `first_condition` checks if the `'Gender'` column is `'Male'`.\n",
    "2. `second_condition` checks if the `'Team'` column is `'Marketing'`.\n",
    "\n",
    "Then, filter and display rows from the `data` DataFrame where <span style=\"color:blue; font-weight:bold\">both</span> conditions are <span style=\"color:green; font-weight:bold\">TRUE</span>"
   ]
  },
  {
   "cell_type": "code",
   "execution_count": null,
   "id": "e50d2177",
   "metadata": {},
   "outputs": [],
   "source": []
  },
  {
   "cell_type": "markdown",
   "id": "b4eecd48",
   "metadata": {},
   "source": [
    "### Define two conditions:\n",
    "1. `management_condition` checks if the `'Senior Management'` column is `True`.\n",
    "2. `start_date_condition` checks if the `'Start Date'` column is earlier than or equal to `'1990-01-01'`.\n",
    "\n",
    "Then, filter and display rows from the `data` DataFrame where <span style=\"color:blue; font-weight:bold\">either</span> condition is <span style=\"color:green; font-weight:bold\">TRUE</span>"
   ]
  },
  {
   "cell_type": "code",
   "execution_count": null,
   "id": "42fe68be",
   "metadata": {},
   "outputs": [],
   "source": []
  },
  {
   "cell_type": "markdown",
   "id": "2a578d8f",
   "metadata": {},
   "source": [
    "### Filter and display rows from the `data` DataFrame where:\n",
    "1. The value in the `'First Name'` column is `'Robert'` and the value in the `'Team'` column is `'Client Services'`.\n",
    "2. OR, the value in the `'Start Date'` column is later than or equal to `'2016-06-01'`."
   ]
  },
  {
   "cell_type": "code",
   "execution_count": null,
   "id": "637f3abe",
   "metadata": {},
   "outputs": [],
   "source": []
  },
  {
   "cell_type": "markdown",
   "id": "375109c3",
   "metadata": {},
   "source": [
    "### Filter and display rows from the `data` DataFrame where the value in the `'Team'` column is either `'Legal'`, `'Sales'`, or `'Product'` using boolean conditions"
   ]
  },
  {
   "cell_type": "code",
   "execution_count": null,
   "id": "6c156d38",
   "metadata": {},
   "outputs": [],
   "source": []
  },
  {
   "cell_type": "markdown",
   "id": "095b6e66",
   "metadata": {},
   "source": [
    "### Disadvantage of Using Multiple Boolean Conditions\n",
    "\n",
    "Using multiple conditions like:\n",
    "\n",
    "```python\n",
    "data[(data['Team'] == 'Legal') | (data['Team'] == 'Sales') | (data['Team'] == 'Product')]\n",
    "```\n",
    "can lead to cluttered syntax and reduced readability. As conditions increase, the expression becomes harder to manage and maintain. It also may result in inefficient evaluations.\n",
    "\n",
    "A cleaner and more efficient alternative is using the `isin()` method."
   ]
  },
  {
   "cell_type": "markdown",
   "id": "fdf364bf",
   "metadata": {},
   "source": [
    "### Filter and display rows from the `data` DataFrame where the value in the `'Team'` column is either `'Legal'`, `'Sales'`, or `'Product'` without using multiple boolean conditions"
   ]
  },
  {
   "cell_type": "code",
   "execution_count": null,
   "id": "b2014111",
   "metadata": {},
   "outputs": [],
   "source": []
  },
  {
   "cell_type": "markdown",
   "id": "e7f4166b",
   "metadata": {},
   "source": [
    "### Filter and display rows from the `data` DataFrame where the value in the `'Team'` column is `null`"
   ]
  },
  {
   "cell_type": "code",
   "execution_count": null,
   "id": "9542e8fe",
   "metadata": {},
   "outputs": [],
   "source": []
  },
  {
   "cell_type": "markdown",
   "id": "f78eecf9",
   "metadata": {},
   "source": [
    "### Filter and display rows from the `data` DataFrame where the value in the `'Gender'` column is not `null`"
   ]
  },
  {
   "cell_type": "code",
   "execution_count": null,
   "id": "dca729cc",
   "metadata": {},
   "outputs": [],
   "source": []
  },
  {
   "cell_type": "markdown",
   "id": "7a625cd1",
   "metadata": {},
   "source": [
    "### Filter and display rows from the `data` DataFrame where the value in the `'Salary'` column is between 60,000 and 70,000 (inclusive)"
   ]
  },
  {
   "cell_type": "code",
   "execution_count": null,
   "id": "724482d9",
   "metadata": {},
   "outputs": [],
   "source": []
  },
  {
   "cell_type": "markdown",
   "id": "ab17093a",
   "metadata": {},
   "source": [
    "### Filter and display rows from the `data` DataFrame where the value in the `'Salary'` column is between 60,000 and 70,000 (inclusive) using the `between()` method."
   ]
  },
  {
   "cell_type": "code",
   "execution_count": null,
   "id": "89008f15",
   "metadata": {},
   "outputs": [],
   "source": []
  },
  {
   "cell_type": "markdown",
   "id": "e4b0dce7",
   "metadata": {},
   "source": [
    "### Sort the `data` DataFrame by the `'First Name'` column in ascending order and update the DataFrame in place"
   ]
  },
  {
   "cell_type": "code",
   "execution_count": null,
   "id": "988d490f",
   "metadata": {},
   "outputs": [],
   "source": []
  },
  {
   "cell_type": "markdown",
   "id": "8c87cac0",
   "metadata": {},
   "source": [
    "### Remove duplicate rows from the `data` DataFrame based on the `'First Name'` column, keeping only the first occurrence of each unique value. (Do not make these changes inplace)"
   ]
  },
  {
   "cell_type": "code",
   "execution_count": null,
   "id": "bd3f3304",
   "metadata": {},
   "outputs": [],
   "source": []
  },
  {
   "cell_type": "markdown",
   "id": "32b5adc7",
   "metadata": {},
   "source": [
    "### Remove duplicate rows from the `data` DataFrame based on the `'First Name'` column, keeping only the last occurrence of each unique value. (Do not make these changes inplace)"
   ]
  },
  {
   "cell_type": "code",
   "execution_count": null,
   "id": "6accfbf9",
   "metadata": {},
   "outputs": [],
   "source": []
  }
 ],
 "metadata": {
  "kernelspec": {
   "display_name": "Python 3 (ipykernel)",
   "language": "python",
   "name": "python3"
  },
  "language_info": {
   "codemirror_mode": {
    "name": "ipython",
    "version": 3
   },
   "file_extension": ".py",
   "mimetype": "text/x-python",
   "name": "python",
   "nbconvert_exporter": "python",
   "pygments_lexer": "ipython3",
   "version": "3.9.13"
  }
 },
 "nbformat": 4,
 "nbformat_minor": 5
}
