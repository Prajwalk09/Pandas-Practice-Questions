{
 "cells": [
  {
   "cell_type": "markdown",
   "id": "5c8ab92f",
   "metadata": {},
   "source": [
    "## Creating Plots and Charts to Visualize Data in Pandas "
   ]
  },
  {
   "cell_type": "markdown",
   "id": "12cf6dd0",
   "metadata": {},
   "source": [
    "### Import the pandas library for data manipulation and the matplotlib library for creating visualizations. Make sure to set the matplotlib to inline so that all plots are displayed directly within this Notebook"
   ]
  },
  {
   "cell_type": "code",
   "execution_count": null,
   "id": "c802c4d8",
   "metadata": {},
   "outputs": [],
   "source": []
  },
  {
   "cell_type": "markdown",
   "id": "8fad5bec",
   "metadata": {},
   "source": [
    "### Execute the following code snippet to load the data into the Notebook "
   ]
  },
  {
   "cell_type": "code",
   "execution_count": 2,
   "id": "f11cbe1f",
   "metadata": {},
   "outputs": [
    {
     "name": "stdout",
     "output_type": "stream",
     "text": [
      "[*********************100%***********************]  1 of 1 completed\n"
     ]
    },
    {
     "data": {
      "text/html": [
       "<div>\n",
       "<style scoped>\n",
       "    .dataframe tbody tr th:only-of-type {\n",
       "        vertical-align: middle;\n",
       "    }\n",
       "\n",
       "    .dataframe tbody tr th {\n",
       "        vertical-align: top;\n",
       "    }\n",
       "\n",
       "    .dataframe thead th {\n",
       "        text-align: right;\n",
       "    }\n",
       "</style>\n",
       "<table border=\"1\" class=\"dataframe\">\n",
       "  <thead>\n",
       "    <tr style=\"text-align: right;\">\n",
       "      <th></th>\n",
       "      <th>Open</th>\n",
       "      <th>High</th>\n",
       "      <th>Low</th>\n",
       "      <th>Close</th>\n",
       "      <th>Adj Close</th>\n",
       "      <th>Volume</th>\n",
       "    </tr>\n",
       "    <tr>\n",
       "      <th>Date</th>\n",
       "      <th></th>\n",
       "      <th></th>\n",
       "      <th></th>\n",
       "      <th></th>\n",
       "      <th></th>\n",
       "      <th></th>\n",
       "    </tr>\n",
       "  </thead>\n",
       "  <tbody>\n",
       "    <tr>\n",
       "      <th>2007-01-03</th>\n",
       "      <td>43.086666</td>\n",
       "      <td>44.026669</td>\n",
       "      <td>41.703335</td>\n",
       "      <td>42.849998</td>\n",
       "      <td>42.849998</td>\n",
       "      <td>34739100</td>\n",
       "    </tr>\n",
       "    <tr>\n",
       "      <th>2007-01-04</th>\n",
       "      <td>42.953335</td>\n",
       "      <td>46.316666</td>\n",
       "      <td>42.423332</td>\n",
       "      <td>46.189999</td>\n",
       "      <td>46.189999</td>\n",
       "      <td>46007700</td>\n",
       "    </tr>\n",
       "    <tr>\n",
       "      <th>2007-01-05</th>\n",
       "      <td>45.500000</td>\n",
       "      <td>47.306667</td>\n",
       "      <td>45.166668</td>\n",
       "      <td>47.099998</td>\n",
       "      <td>47.099998</td>\n",
       "      <td>41453400</td>\n",
       "    </tr>\n",
       "    <tr>\n",
       "      <th>2007-01-08</th>\n",
       "      <td>47.283333</td>\n",
       "      <td>48.410000</td>\n",
       "      <td>46.606667</td>\n",
       "      <td>47.386665</td>\n",
       "      <td>47.386665</td>\n",
       "      <td>38547300</td>\n",
       "    </tr>\n",
       "    <tr>\n",
       "      <th>2007-01-09</th>\n",
       "      <td>47.570000</td>\n",
       "      <td>47.666668</td>\n",
       "      <td>43.263332</td>\n",
       "      <td>43.666668</td>\n",
       "      <td>43.666668</td>\n",
       "      <td>74142000</td>\n",
       "    </tr>\n",
       "  </tbody>\n",
       "</table>\n",
       "</div>"
      ],
      "text/plain": [
       "                 Open       High        Low      Close  Adj Close    Volume\n",
       "Date                                                                       \n",
       "2007-01-03  43.086666  44.026669  41.703335  42.849998  42.849998  34739100\n",
       "2007-01-04  42.953335  46.316666  42.423332  46.189999  46.189999  46007700\n",
       "2007-01-05  45.500000  47.306667  45.166668  47.099998  47.099998  41453400\n",
       "2007-01-08  47.283333  48.410000  46.606667  47.386665  47.386665  38547300\n",
       "2007-01-09  47.570000  47.666668  43.263332  43.666668  43.666668  74142000"
      ]
     },
     "execution_count": 2,
     "metadata": {},
     "output_type": "execute_result"
    }
   ],
   "source": [
    "from pandas_datareader import data as pdr\n",
    "import yfinance as yf\n",
    "yf.pdr_override()\n",
    "\n",
    "stocks = pdr.get_data_yahoo(tickers = 'BB', start = '2007-01-01', end = '2020-12-31')\n",
    "stocks.head()"
   ]
  },
  {
   "cell_type": "markdown",
   "id": "a4c3864d",
   "metadata": {},
   "source": [
    "### Overview of the Code Snippet\n",
    "\n",
    "This code snippet retrieves historical stock market data for a specific company (`BB` for BlackBerry) from Yahoo Finance using the `pandas_datareader` and `yfinance` libraries.\n",
    "\n",
    "#### Breakdown:\n",
    "1. **Importing Libraries**:\n",
    "   - `pandas_datareader` is imported as `pdr` to fetch data from online sources like Yahoo Finance.\n",
    "   - `yfinance` (Yahoo Finance API) is imported to handle data retrieval, as `pandas_datareader`'s direct Yahoo Finance functionality is deprecated.\n",
    "   - `yf.pdr_override()`: Overrides the default behavior of `pandas_datareader` to use `yfinance` for fetching data.\n",
    "\n",
    "2. **Fetching Stock Data**:\n",
    "   - `pdr.get_data_yahoo(...)`: Retrieves stock data for the specified ticker (`BB`), start date (`2007-01-01`), and end date (`2020-12-31`).\n",
    "   - The data includes attributes like open, high, low, close prices, adjusted close prices, and trading volume for each day in the specified range.\n",
    "\n",
    "3. **Previewing the Data**:\n",
    "   - `stocks.head()`: Displays the first five rows of the retrieved data for inspection."
   ]
  },
  {
   "cell_type": "markdown",
   "id": "f0e92d20",
   "metadata": {},
   "source": [
    "### How can you create a line plot to visualize the \"High\" prices from the `stocks` DataFrame over time? "
   ]
  },
  {
   "cell_type": "code",
   "execution_count": null,
   "id": "525d5912",
   "metadata": {},
   "outputs": [],
   "source": []
  },
  {
   "cell_type": "markdown",
   "id": "79bb9e54",
   "metadata": {},
   "source": [
    "### Plot the High and Close prices of stock data with customization\n",
    "\n",
    "- How can you create a line plot to visualize both the \"High\" and \"Close\" prices from the `stocks` DataFrame, add a title to the plot, and enable a grid for better readability? "
   ]
  },
  {
   "cell_type": "code",
   "execution_count": null,
   "id": "ccd736c5",
   "metadata": {},
   "outputs": [],
   "source": []
  },
  {
   "cell_type": "markdown",
   "id": "1a3fc5a0",
   "metadata": {},
   "source": [
    "### Visualize all columns of stock data as individual subplots\n",
    "\n",
    "- How can you plot all columns of the `stocks` DataFrame as separate `subplots` arranged in a 3x3 grid layout, with a customized figure size for better visualization? "
   ]
  },
  {
   "cell_type": "code",
   "execution_count": null,
   "id": "eb71f622",
   "metadata": {},
   "outputs": [],
   "source": []
  },
  {
   "cell_type": "markdown",
   "id": "0237a205",
   "metadata": {},
   "source": [
    "### Perform the following operations:\n",
    "\n",
    "- Create a line plot to visualize the \"High\" and \"Close\" prices from the `stocks` DataFrame  \n",
    "- Set a custom title for the plot and customize its color  \n",
    "- Use methods to set custom labels for the x-axis and y-axis and customize their text color  \n",
    "- Modify the colors of the tick labels on both axes  \n",
    "- Customize the legend to display labels with a specific text color  \n"
   ]
  },
  {
   "cell_type": "code",
   "execution_count": null,
   "id": "323ccd51",
   "metadata": {},
   "outputs": [],
   "source": []
  },
  {
   "cell_type": "markdown",
   "id": "4c42ae5d",
   "metadata": {},
   "source": [
    "### Define a function `classify_stock_price` that classifies the stock price as \n",
    "- `\"Poor\"` if the price is less than or equal to 10, \n",
    "- `\"Satisfactory\"` if the price is between 10 and 50, and \n",
    "- `\"Stellar\"` if the price is greater than 50.  "
   ]
  },
  {
   "cell_type": "code",
   "execution_count": null,
   "id": "516d6e84",
   "metadata": {},
   "outputs": [],
   "source": []
  },
  {
   "cell_type": "markdown",
   "id": "3c46bc5d",
   "metadata": {},
   "source": [
    "### Perform the following operations:\n",
    "\n",
    "- Apply the `classify_stock_price` function to the 'Close' column of the `stocks` DataFrame and count the occurrences of each category.  \n",
    "- Sort the value counts in ascending order and plot them as a bar chart.  \n",
    "- Customize the x-axis and y-axis tick colors, and set the x-axis tick labels to a horizontal orientation.  \n",
    "- Set a title for the bar chart as \"Stock Performance\" and display the plot.  \n"
   ]
  },
  {
   "cell_type": "code",
   "execution_count": null,
   "id": "0df884e5",
   "metadata": {},
   "outputs": [],
   "source": []
  },
  {
   "cell_type": "markdown",
   "id": "18771e43",
   "metadata": {},
   "source": [
    "### Perform the following operations:\n",
    "- Calculate the mean of the 'Close' prices in the `stocks` DataFrame and store it in a variable called `mean_stock_price`.  \n",
    "- Define a function `rank_stock_performance` that classifies stock prices as \"Below Average\" if they are lower than the mean price and \"Above Average\" if they are higher or equal to the mean price."
   ]
  },
  {
   "cell_type": "code",
   "execution_count": null,
   "id": "612f81e1",
   "metadata": {},
   "outputs": [],
   "source": []
  },
  {
   "cell_type": "code",
   "execution_count": null,
   "id": "4f3b71b0",
   "metadata": {},
   "outputs": [],
   "source": []
  },
  {
   "cell_type": "markdown",
   "id": "92deb6dc",
   "metadata": {},
   "source": [
    "### Perform the following operations:\n",
    "\n",
    "- Apply the `rank_stock_performance` function to the 'Close' column of the `stocks` DataFrame \n",
    "- Count the occurrences of each category so formed.  \n",
    "- Plot the result as a pie chart.  \n",
    "- Remove the ylabel and set a title for the pie chart as \"Stock Price Comparison\".  \n",
    "- Display the pie chart with the applied customizations."
   ]
  },
  {
   "cell_type": "code",
   "execution_count": null,
   "id": "674f236f",
   "metadata": {},
   "outputs": [],
   "source": []
  }
 ],
 "metadata": {
  "kernelspec": {
   "display_name": "Python 3 (ipykernel)",
   "language": "python",
   "name": "python3"
  },
  "language_info": {
   "codemirror_mode": {
    "name": "ipython",
    "version": 3
   },
   "file_extension": ".py",
   "mimetype": "text/x-python",
   "name": "python",
   "nbconvert_exporter": "python",
   "pygments_lexer": "ipython3",
   "version": "3.9.13"
  }
 },
 "nbformat": 4,
 "nbformat_minor": 5
}
