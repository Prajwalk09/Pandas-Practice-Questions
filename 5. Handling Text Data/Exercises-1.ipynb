{
 "cells": [
  {
   "cell_type": "markdown",
   "id": "b1de1078",
   "metadata": {},
   "source": [
    "## Processing and manipulating text data in Pandas "
   ]
  },
  {
   "cell_type": "markdown",
   "id": "ec994d45",
   "metadata": {},
   "source": [
    "### Import the pandas library "
   ]
  },
  {
   "cell_type": "code",
   "execution_count": null,
   "id": "e88883dd",
   "metadata": {},
   "outputs": [],
   "source": []
  },
  {
   "cell_type": "markdown",
   "id": "46b8be75",
   "metadata": {},
   "source": [
    "### Load the CSV file from this [link](https://raw.githubusercontent.com/Prajwalk09/Data-Analysis-with-Pandas-and-Python/refs/heads/main/Working%20with%20Text%20Data/chicago.csv) into a DataFrame and assign it to a variable named `data`"
   ]
  },
  {
   "cell_type": "code",
   "execution_count": null,
   "id": "55617306",
   "metadata": {},
   "outputs": [],
   "source": []
  },
  {
   "cell_type": "markdown",
   "id": "12852b04",
   "metadata": {},
   "source": [
    "### Display the first 5 rows of the DataFrame "
   ]
  },
  {
   "cell_type": "code",
   "execution_count": null,
   "id": "12ac6bd4",
   "metadata": {},
   "outputs": [],
   "source": []
  },
  {
   "cell_type": "markdown",
   "id": "0258c080",
   "metadata": {},
   "source": [
    "### Display a concise summary of the `data` DataFrame, including the number of entries, column data types, and memory usage"
   ]
  },
  {
   "cell_type": "code",
   "execution_count": null,
   "id": "b5971d1e",
   "metadata": {},
   "outputs": [],
   "source": []
  },
  {
   "cell_type": "markdown",
   "id": "bfe115b2",
   "metadata": {},
   "source": [
    "### Important Note:  \n",
    "When applying string methods to text data in a column, always prefix the column with the `str` keyword.  \n",
    "For example:  \n",
    "```python\n",
    "data['Column_Name'].str.method()\n",
    "```"
   ]
  },
  {
   "cell_type": "markdown",
   "id": "6e61afa1",
   "metadata": {},
   "source": [
    "### Convert all the values in the `Name` column of the `data` DataFrame to lowercase using an appropriate string method\n",
    "<span style=\"color:blue; font-size:14px\">Do <span style=\"color:red; font-weight:bold\">not</span> make the changes in place</span>"
   ]
  },
  {
   "cell_type": "code",
   "execution_count": null,
   "id": "65788b8c",
   "metadata": {},
   "outputs": [],
   "source": []
  },
  {
   "cell_type": "markdown",
   "id": "fe2801a5",
   "metadata": {},
   "source": [
    "### Format all the values in the `Name` column of the `data` DataFrame to title case using an appropriate string method\n",
    "<span style=\"color:blue; font-size:14px\">Do <span style=\"color:red; font-weight:bold\">not</span> make the changes in place</span>"
   ]
  },
  {
   "cell_type": "code",
   "execution_count": null,
   "id": "a52a2071",
   "metadata": {},
   "outputs": [],
   "source": []
  },
  {
   "cell_type": "markdown",
   "id": "098a4975",
   "metadata": {},
   "source": [
    "### Compute the length of each string in the `Position Title` column of the `data` DataFrame"
   ]
  },
  {
   "cell_type": "code",
   "execution_count": null,
   "id": "3a495bcb",
   "metadata": {},
   "outputs": [],
   "source": []
  },
  {
   "cell_type": "markdown",
   "id": "e2458890",
   "metadata": {},
   "source": [
    "### Replace occurrences of `'MGMNT'` with `'MANAGEMENT'` in the `Department` column of the `data` DataFrame"
   ]
  },
  {
   "cell_type": "code",
   "execution_count": null,
   "id": "db00cd7c",
   "metadata": {},
   "outputs": [],
   "source": []
  },
  {
   "cell_type": "markdown",
   "id": "4dc1a168",
   "metadata": {},
   "source": [
    "### Display the first 5 rows of the DataFrame once the previous change has been made "
   ]
  },
  {
   "cell_type": "code",
   "execution_count": null,
   "id": "3b84452e",
   "metadata": {},
   "outputs": [],
   "source": []
  },
  {
   "cell_type": "markdown",
   "id": "4d90fc83",
   "metadata": {},
   "source": [
    "### Transform the `'Employee Annual Salary'` column in the `data` DataFrame:\n",
    "1. Remove the dollar sign (`$`) from its values.  \n",
    "2. Convert the resulting values to the `float` data type."
   ]
  },
  {
   "cell_type": "code",
   "execution_count": null,
   "id": "1cb90e3a",
   "metadata": {},
   "outputs": [],
   "source": []
  },
  {
   "cell_type": "code",
   "execution_count": null,
   "id": "94fbef88",
   "metadata": {},
   "outputs": [],
   "source": []
  },
  {
   "cell_type": "markdown",
   "id": "ed032db4",
   "metadata": {},
   "source": [
    "### Remove rows from the `data` DataFrame where all the values are missing (NaN).\n",
    "<span style=\"color:blue; font-weight:bold; font-size:14px\">Make sure that the changes are done inplace</span>"
   ]
  },
  {
   "cell_type": "code",
   "execution_count": null,
   "id": "05402e41",
   "metadata": {},
   "outputs": [],
   "source": []
  },
  {
   "cell_type": "markdown",
   "id": "afb22058",
   "metadata": {},
   "source": [
    "### Convert the text in the `'Position Title'` column to lowercase and extract rows where it contains the word `'water'`"
   ]
  },
  {
   "cell_type": "code",
   "execution_count": null,
   "id": "acd2ba92",
   "metadata": {},
   "outputs": [],
   "source": []
  },
  {
   "cell_type": "markdown",
   "id": "52c055c4",
   "metadata": {},
   "source": [
    "### Filter the rows where the `'Position Title'` starts with the word `'WATER'`"
   ]
  },
  {
   "cell_type": "code",
   "execution_count": null,
   "id": "05e38080",
   "metadata": {},
   "outputs": [],
   "source": []
  },
  {
   "cell_type": "markdown",
   "id": "11c826c7",
   "metadata": {},
   "source": [
    "### Filter the rows where the `'Position Title'` ends with the word `'MANAGEMENT'`"
   ]
  },
  {
   "cell_type": "code",
   "execution_count": null,
   "id": "07b8f6b1",
   "metadata": {},
   "outputs": [],
   "source": []
  },
  {
   "cell_type": "markdown",
   "id": "fb06b2b7",
   "metadata": {},
   "source": [
    "### Split the `'Name'` column by commas, get the first part of each name, convert it to title case, and display the count of each unique value"
   ]
  },
  {
   "cell_type": "code",
   "execution_count": null,
   "id": "9a707e40",
   "metadata": {},
   "outputs": [],
   "source": []
  },
  {
   "cell_type": "code",
   "execution_count": null,
   "id": "60330b30",
   "metadata": {},
   "outputs": [],
   "source": []
  },
  {
   "cell_type": "markdown",
   "id": "397b4039",
   "metadata": {},
   "source": [
    "### Split the `'Name'` column into two new columns: `'First Name'` and `'Last Name'`, using a comma as the delimiter"
   ]
  },
  {
   "cell_type": "code",
   "execution_count": null,
   "id": "d399929b",
   "metadata": {},
   "outputs": [],
   "source": []
  },
  {
   "cell_type": "markdown",
   "id": "f94f12da",
   "metadata": {},
   "source": [
    "### Display the first 5 rows of the DataFrame after making the previous change "
   ]
  },
  {
   "cell_type": "code",
   "execution_count": null,
   "id": "877e8b23",
   "metadata": {},
   "outputs": [],
   "source": []
  }
 ],
 "metadata": {
  "kernelspec": {
   "display_name": "Python 3 (ipykernel)",
   "language": "python",
   "name": "python3"
  },
  "language_info": {
   "codemirror_mode": {
    "name": "ipython",
    "version": 3
   },
   "file_extension": ".py",
   "mimetype": "text/x-python",
   "name": "python",
   "nbconvert_exporter": "python",
   "pygments_lexer": "ipython3",
   "version": "3.9.13"
  }
 },
 "nbformat": 4,
 "nbformat_minor": 5
}
