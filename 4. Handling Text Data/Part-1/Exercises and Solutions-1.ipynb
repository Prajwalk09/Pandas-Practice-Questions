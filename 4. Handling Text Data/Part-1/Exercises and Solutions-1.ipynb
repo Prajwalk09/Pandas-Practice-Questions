{
 "cells": [
  {
   "cell_type": "markdown",
   "id": "ee36764a",
   "metadata": {},
   "source": [
    "## Processing and manipulating text data in Pandas "
   ]
  },
  {
   "cell_type": "markdown",
   "id": "06ee0c66",
   "metadata": {},
   "source": [
    "### Import the pandas library "
   ]
  },
  {
   "cell_type": "code",
   "execution_count": 1,
   "id": "8e58742f",
   "metadata": {},
   "outputs": [],
   "source": [
    "import pandas as pd"
   ]
  },
  {
   "cell_type": "markdown",
   "id": "2e5da4ad",
   "metadata": {},
   "source": [
    "### Load the CSV file from this [link](https://raw.githubusercontent.com/Prajwalk09/Data-Analysis-with-Pandas-and-Python/refs/heads/main/Working%20with%20Text%20Data/chicago.csv) into a DataFrame and assign it to a variable named `data`"
   ]
  },
  {
   "cell_type": "code",
   "execution_count": 2,
   "id": "54bee7c5",
   "metadata": {},
   "outputs": [],
   "source": [
    "url = \"https://raw.githubusercontent.com/Prajwalk09/Data-Analysis-with-Pandas-and-Python/refs/heads/main/Working%20with%20Text%20Data/chicago.csv\"\n",
    "data = pd.read_csv(url)"
   ]
  },
  {
   "cell_type": "markdown",
   "id": "68447b5f",
   "metadata": {},
   "source": [
    "### Display the first 5 rows of the DataFrame "
   ]
  },
  {
   "cell_type": "code",
   "execution_count": 3,
   "id": "e5b3d500",
   "metadata": {},
   "outputs": [
    {
     "data": {
      "text/html": [
       "<div>\n",
       "<style scoped>\n",
       "    .dataframe tbody tr th:only-of-type {\n",
       "        vertical-align: middle;\n",
       "    }\n",
       "\n",
       "    .dataframe tbody tr th {\n",
       "        vertical-align: top;\n",
       "    }\n",
       "\n",
       "    .dataframe thead th {\n",
       "        text-align: right;\n",
       "    }\n",
       "</style>\n",
       "<table border=\"1\" class=\"dataframe\">\n",
       "  <thead>\n",
       "    <tr style=\"text-align: right;\">\n",
       "      <th></th>\n",
       "      <th>Name</th>\n",
       "      <th>Position Title</th>\n",
       "      <th>Department</th>\n",
       "      <th>Employee Annual Salary</th>\n",
       "    </tr>\n",
       "  </thead>\n",
       "  <tbody>\n",
       "    <tr>\n",
       "      <th>0</th>\n",
       "      <td>AARON,  ELVIA J</td>\n",
       "      <td>WATER RATE TAKER</td>\n",
       "      <td>WATER MGMNT</td>\n",
       "      <td>$90744.00</td>\n",
       "    </tr>\n",
       "    <tr>\n",
       "      <th>1</th>\n",
       "      <td>AARON,  JEFFERY M</td>\n",
       "      <td>POLICE OFFICER</td>\n",
       "      <td>POLICE</td>\n",
       "      <td>$84450.00</td>\n",
       "    </tr>\n",
       "    <tr>\n",
       "      <th>2</th>\n",
       "      <td>AARON,  KARINA</td>\n",
       "      <td>POLICE OFFICER</td>\n",
       "      <td>POLICE</td>\n",
       "      <td>$84450.00</td>\n",
       "    </tr>\n",
       "    <tr>\n",
       "      <th>3</th>\n",
       "      <td>AARON,  KIMBERLEI R</td>\n",
       "      <td>CHIEF CONTRACT EXPEDITER</td>\n",
       "      <td>GENERAL SERVICES</td>\n",
       "      <td>$89880.00</td>\n",
       "    </tr>\n",
       "    <tr>\n",
       "      <th>4</th>\n",
       "      <td>ABAD JR,  VICENTE M</td>\n",
       "      <td>CIVIL ENGINEER IV</td>\n",
       "      <td>WATER MGMNT</td>\n",
       "      <td>$106836.00</td>\n",
       "    </tr>\n",
       "  </tbody>\n",
       "</table>\n",
       "</div>"
      ],
      "text/plain": [
       "                  Name            Position Title        Department  \\\n",
       "0      AARON,  ELVIA J          WATER RATE TAKER       WATER MGMNT   \n",
       "1    AARON,  JEFFERY M            POLICE OFFICER            POLICE   \n",
       "2       AARON,  KARINA            POLICE OFFICER            POLICE   \n",
       "3  AARON,  KIMBERLEI R  CHIEF CONTRACT EXPEDITER  GENERAL SERVICES   \n",
       "4  ABAD JR,  VICENTE M         CIVIL ENGINEER IV       WATER MGMNT   \n",
       "\n",
       "  Employee Annual Salary  \n",
       "0              $90744.00  \n",
       "1              $84450.00  \n",
       "2              $84450.00  \n",
       "3              $89880.00  \n",
       "4             $106836.00  "
      ]
     },
     "execution_count": 3,
     "metadata": {},
     "output_type": "execute_result"
    }
   ],
   "source": [
    "data.head()"
   ]
  },
  {
   "cell_type": "markdown",
   "id": "6b26da08",
   "metadata": {},
   "source": [
    "### Display a concise summary of the `data` DataFrame, including the number of entries, column data types, and memory usage"
   ]
  },
  {
   "cell_type": "code",
   "execution_count": 4,
   "id": "74ac6d2f",
   "metadata": {},
   "outputs": [
    {
     "name": "stdout",
     "output_type": "stream",
     "text": [
      "<class 'pandas.core.frame.DataFrame'>\n",
      "RangeIndex: 32063 entries, 0 to 32062\n",
      "Data columns (total 4 columns):\n",
      " #   Column                  Non-Null Count  Dtype \n",
      "---  ------                  --------------  ----- \n",
      " 0   Name                    32062 non-null  object\n",
      " 1   Position Title          32062 non-null  object\n",
      " 2   Department              32062 non-null  object\n",
      " 3   Employee Annual Salary  32062 non-null  object\n",
      "dtypes: object(4)\n",
      "memory usage: 1002.1+ KB\n"
     ]
    }
   ],
   "source": [
    "data.info()"
   ]
  },
  {
   "cell_type": "markdown",
   "id": "f9481429",
   "metadata": {},
   "source": [
    "### Important Note:  \n",
    "When applying string methods to text data in a column, always prefix the column with the `str` keyword.  \n",
    "For example:  \n",
    "```python\n",
    "data['Column_Name'].str.method()\n",
    "```"
   ]
  },
  {
   "cell_type": "markdown",
   "id": "d74dc7f5",
   "metadata": {},
   "source": [
    "### Convert all the values in the `Name` column of the `data` DataFrame to lowercase using an appropriate string method\n",
    "<span style=\"color:blue; font-size:14px\">Do <span style=\"color:red; font-weight:bold\">not</span> make the changes in place</span>"
   ]
  },
  {
   "cell_type": "code",
   "execution_count": 5,
   "id": "cec09ecb",
   "metadata": {},
   "outputs": [
    {
     "data": {
      "text/plain": [
       "0            aaron,  elvia j\n",
       "1          aaron,  jeffery m\n",
       "2             aaron,  karina\n",
       "3        aaron,  kimberlei r\n",
       "4        abad jr,  vicente m\n",
       "                ...         \n",
       "32058     zygowicz,  peter j\n",
       "32059      zymantas,  mark e\n",
       "32060    zyrkowski,  carlo e\n",
       "32061    zyskowski,  dariusz\n",
       "32062                    NaN\n",
       "Name: Name, Length: 32063, dtype: object"
      ]
     },
     "execution_count": 5,
     "metadata": {},
     "output_type": "execute_result"
    }
   ],
   "source": [
    "data['Name'].str.lower()"
   ]
  },
  {
   "cell_type": "markdown",
   "id": "60d91b5e",
   "metadata": {},
   "source": [
    "### Format all the values in the `Name` column of the `data` DataFrame to title case using an appropriate string method\n",
    "<span style=\"color:blue; font-size:14px\">Do <span style=\"color:red; font-weight:bold\">not</span> make the changes in place</span>"
   ]
  },
  {
   "cell_type": "code",
   "execution_count": 6,
   "id": "b8d81ada",
   "metadata": {},
   "outputs": [
    {
     "data": {
      "text/plain": [
       "0            Aaron,  Elvia J\n",
       "1          Aaron,  Jeffery M\n",
       "2             Aaron,  Karina\n",
       "3        Aaron,  Kimberlei R\n",
       "4        Abad Jr,  Vicente M\n",
       "                ...         \n",
       "32058     Zygowicz,  Peter J\n",
       "32059      Zymantas,  Mark E\n",
       "32060    Zyrkowski,  Carlo E\n",
       "32061    Zyskowski,  Dariusz\n",
       "32062                    NaN\n",
       "Name: Name, Length: 32063, dtype: object"
      ]
     },
     "execution_count": 6,
     "metadata": {},
     "output_type": "execute_result"
    }
   ],
   "source": [
    "data['Name'].str.title()"
   ]
  },
  {
   "cell_type": "markdown",
   "id": "24382003",
   "metadata": {},
   "source": [
    "### Compute the length of each string in the `Position Title` column of the `data` DataFrame"
   ]
  },
  {
   "cell_type": "code",
   "execution_count": 7,
   "id": "bade9683",
   "metadata": {},
   "outputs": [
    {
     "data": {
      "text/plain": [
       "0        16.0\n",
       "1        14.0\n",
       "2        14.0\n",
       "3        24.0\n",
       "4        17.0\n",
       "         ... \n",
       "32058    14.0\n",
       "32059    14.0\n",
       "32060    14.0\n",
       "32061    23.0\n",
       "32062     NaN\n",
       "Name: Position Title, Length: 32063, dtype: float64"
      ]
     },
     "execution_count": 7,
     "metadata": {},
     "output_type": "execute_result"
    }
   ],
   "source": [
    "data['Position Title'].str.len()"
   ]
  },
  {
   "cell_type": "markdown",
   "id": "bc82ddd0",
   "metadata": {},
   "source": [
    "### Replace occurrences of `'MGMNT'` with `'MANAGEMENT'` in the `Department` column of the `data` DataFrame"
   ]
  },
  {
   "cell_type": "code",
   "execution_count": 8,
   "id": "a2b0d221",
   "metadata": {},
   "outputs": [],
   "source": [
    "data['Department'] = data['Department'].str.replace(\"MGMNT\", \"MANAGEMENT\")"
   ]
  },
  {
   "cell_type": "markdown",
   "id": "b082a510",
   "metadata": {},
   "source": [
    "### Display the first 5 rows of the DataFrame once the previous change has been made "
   ]
  },
  {
   "cell_type": "code",
   "execution_count": 9,
   "id": "037c74c5",
   "metadata": {},
   "outputs": [
    {
     "data": {
      "text/html": [
       "<div>\n",
       "<style scoped>\n",
       "    .dataframe tbody tr th:only-of-type {\n",
       "        vertical-align: middle;\n",
       "    }\n",
       "\n",
       "    .dataframe tbody tr th {\n",
       "        vertical-align: top;\n",
       "    }\n",
       "\n",
       "    .dataframe thead th {\n",
       "        text-align: right;\n",
       "    }\n",
       "</style>\n",
       "<table border=\"1\" class=\"dataframe\">\n",
       "  <thead>\n",
       "    <tr style=\"text-align: right;\">\n",
       "      <th></th>\n",
       "      <th>Name</th>\n",
       "      <th>Position Title</th>\n",
       "      <th>Department</th>\n",
       "      <th>Employee Annual Salary</th>\n",
       "    </tr>\n",
       "  </thead>\n",
       "  <tbody>\n",
       "    <tr>\n",
       "      <th>0</th>\n",
       "      <td>AARON,  ELVIA J</td>\n",
       "      <td>WATER RATE TAKER</td>\n",
       "      <td>WATER MANAGEMENT</td>\n",
       "      <td>$90744.00</td>\n",
       "    </tr>\n",
       "    <tr>\n",
       "      <th>1</th>\n",
       "      <td>AARON,  JEFFERY M</td>\n",
       "      <td>POLICE OFFICER</td>\n",
       "      <td>POLICE</td>\n",
       "      <td>$84450.00</td>\n",
       "    </tr>\n",
       "    <tr>\n",
       "      <th>2</th>\n",
       "      <td>AARON,  KARINA</td>\n",
       "      <td>POLICE OFFICER</td>\n",
       "      <td>POLICE</td>\n",
       "      <td>$84450.00</td>\n",
       "    </tr>\n",
       "    <tr>\n",
       "      <th>3</th>\n",
       "      <td>AARON,  KIMBERLEI R</td>\n",
       "      <td>CHIEF CONTRACT EXPEDITER</td>\n",
       "      <td>GENERAL SERVICES</td>\n",
       "      <td>$89880.00</td>\n",
       "    </tr>\n",
       "    <tr>\n",
       "      <th>4</th>\n",
       "      <td>ABAD JR,  VICENTE M</td>\n",
       "      <td>CIVIL ENGINEER IV</td>\n",
       "      <td>WATER MANAGEMENT</td>\n",
       "      <td>$106836.00</td>\n",
       "    </tr>\n",
       "  </tbody>\n",
       "</table>\n",
       "</div>"
      ],
      "text/plain": [
       "                  Name            Position Title        Department  \\\n",
       "0      AARON,  ELVIA J          WATER RATE TAKER  WATER MANAGEMENT   \n",
       "1    AARON,  JEFFERY M            POLICE OFFICER            POLICE   \n",
       "2       AARON,  KARINA            POLICE OFFICER            POLICE   \n",
       "3  AARON,  KIMBERLEI R  CHIEF CONTRACT EXPEDITER  GENERAL SERVICES   \n",
       "4  ABAD JR,  VICENTE M         CIVIL ENGINEER IV  WATER MANAGEMENT   \n",
       "\n",
       "  Employee Annual Salary  \n",
       "0              $90744.00  \n",
       "1              $84450.00  \n",
       "2              $84450.00  \n",
       "3              $89880.00  \n",
       "4             $106836.00  "
      ]
     },
     "execution_count": 9,
     "metadata": {},
     "output_type": "execute_result"
    }
   ],
   "source": [
    "data.head()"
   ]
  },
  {
   "cell_type": "markdown",
   "id": "b1bdbb6e",
   "metadata": {},
   "source": [
    "### Transform the `'Employee Annual Salary'` column in the `data` DataFrame:\n",
    "1. Remove the dollar sign (`$`) from its values.  \n",
    "2. Convert the resulting values to the `float` data type."
   ]
  },
  {
   "cell_type": "code",
   "execution_count": 10,
   "id": "b82766ab",
   "metadata": {},
   "outputs": [],
   "source": [
    "data['Employee Annual Salary'] = data['Employee Annual Salary'].str.replace('$', '', regex = False)"
   ]
  },
  {
   "cell_type": "code",
   "execution_count": 11,
   "id": "58066777",
   "metadata": {},
   "outputs": [],
   "source": [
    "data['Employee Annual Salary'] = data['Employee Annual Salary'].astype(float)"
   ]
  },
  {
   "cell_type": "markdown",
   "id": "211610c6",
   "metadata": {},
   "source": [
    "### Remove rows from the `data` DataFrame where all the values are missing (NaN).\n",
    "<span style=\"color:blue; font-weight:bold; font-size:14px\">Make sure that the changes are done inplace</span>"
   ]
  },
  {
   "cell_type": "code",
   "execution_count": 12,
   "id": "d20668d5",
   "metadata": {},
   "outputs": [],
   "source": [
    "data.dropna(how = 'all', inplace = True)"
   ]
  },
  {
   "cell_type": "markdown",
   "id": "a93338c0",
   "metadata": {},
   "source": [
    "### Convert the text in the `'Position Title'` column to lowercase and extract rows where it contains the word `'water'`"
   ]
  },
  {
   "cell_type": "code",
   "execution_count": 13,
   "id": "2fc2405f",
   "metadata": {},
   "outputs": [
    {
     "data": {
      "text/html": [
       "<div>\n",
       "<style scoped>\n",
       "    .dataframe tbody tr th:only-of-type {\n",
       "        vertical-align: middle;\n",
       "    }\n",
       "\n",
       "    .dataframe tbody tr th {\n",
       "        vertical-align: top;\n",
       "    }\n",
       "\n",
       "    .dataframe thead th {\n",
       "        text-align: right;\n",
       "    }\n",
       "</style>\n",
       "<table border=\"1\" class=\"dataframe\">\n",
       "  <thead>\n",
       "    <tr style=\"text-align: right;\">\n",
       "      <th></th>\n",
       "      <th>Name</th>\n",
       "      <th>Position Title</th>\n",
       "      <th>Department</th>\n",
       "      <th>Employee Annual Salary</th>\n",
       "    </tr>\n",
       "  </thead>\n",
       "  <tbody>\n",
       "    <tr>\n",
       "      <th>0</th>\n",
       "      <td>AARON,  ELVIA J</td>\n",
       "      <td>WATER RATE TAKER</td>\n",
       "      <td>WATER MANAGEMENT</td>\n",
       "      <td>90744.0</td>\n",
       "    </tr>\n",
       "    <tr>\n",
       "      <th>554</th>\n",
       "      <td>ALUISE,  VINCENT G</td>\n",
       "      <td>FOREMAN OF WATER PIPE CONSTRUCTION</td>\n",
       "      <td>WATER MANAGEMENT</td>\n",
       "      <td>102440.0</td>\n",
       "    </tr>\n",
       "    <tr>\n",
       "      <th>671</th>\n",
       "      <td>ANDER,  PERRY A</td>\n",
       "      <td>WATER CHEMIST II</td>\n",
       "      <td>WATER MANAGEMENT</td>\n",
       "      <td>82044.0</td>\n",
       "    </tr>\n",
       "    <tr>\n",
       "      <th>685</th>\n",
       "      <td>ANDERSON,  ANDREW J</td>\n",
       "      <td>DISTRICT SUPERINTENDENT OF WATER DISTRIBUTION</td>\n",
       "      <td>WATER MANAGEMENT</td>\n",
       "      <td>109272.0</td>\n",
       "    </tr>\n",
       "    <tr>\n",
       "      <th>702</th>\n",
       "      <td>ANDERSON,  DONALD</td>\n",
       "      <td>FOREMAN OF WATER PIPE CONSTRUCTION</td>\n",
       "      <td>WATER MANAGEMENT</td>\n",
       "      <td>102440.0</td>\n",
       "    </tr>\n",
       "    <tr>\n",
       "      <th>...</th>\n",
       "      <td>...</td>\n",
       "      <td>...</td>\n",
       "      <td>...</td>\n",
       "      <td>...</td>\n",
       "    </tr>\n",
       "    <tr>\n",
       "      <th>29669</th>\n",
       "      <td>VERMA,  ANUPAM</td>\n",
       "      <td>MANAGING ENGINEER - WATER MANAGEMENT</td>\n",
       "      <td>WATER MANAGEMENT</td>\n",
       "      <td>111192.0</td>\n",
       "    </tr>\n",
       "    <tr>\n",
       "      <th>30239</th>\n",
       "      <td>WASHINGTON,  JOSEPH</td>\n",
       "      <td>WATER CHEMIST III</td>\n",
       "      <td>WATER MANAGEMENT</td>\n",
       "      <td>89676.0</td>\n",
       "    </tr>\n",
       "    <tr>\n",
       "      <th>30544</th>\n",
       "      <td>WEST,  THOMAS R</td>\n",
       "      <td>GEN SUPT OF WATER MANAGEMENT</td>\n",
       "      <td>WATER MANAGEMENT</td>\n",
       "      <td>115704.0</td>\n",
       "    </tr>\n",
       "    <tr>\n",
       "      <th>30991</th>\n",
       "      <td>WILLIAMS,  MATTHEW</td>\n",
       "      <td>FOREMAN OF WATER PIPE CONSTRUCTION</td>\n",
       "      <td>WATER MANAGEMENT</td>\n",
       "      <td>102440.0</td>\n",
       "    </tr>\n",
       "    <tr>\n",
       "      <th>31405</th>\n",
       "      <td>WOODRIDGE,  ROBERT L</td>\n",
       "      <td>FOREMAN OF WATER PIPE CONSTRUCTION</td>\n",
       "      <td>WATER MANAGEMENT</td>\n",
       "      <td>102440.0</td>\n",
       "    </tr>\n",
       "  </tbody>\n",
       "</table>\n",
       "<p>111 rows × 4 columns</p>\n",
       "</div>"
      ],
      "text/plain": [
       "                       Name                                 Position Title  \\\n",
       "0           AARON,  ELVIA J                               WATER RATE TAKER   \n",
       "554      ALUISE,  VINCENT G             FOREMAN OF WATER PIPE CONSTRUCTION   \n",
       "671         ANDER,  PERRY A                               WATER CHEMIST II   \n",
       "685     ANDERSON,  ANDREW J  DISTRICT SUPERINTENDENT OF WATER DISTRIBUTION   \n",
       "702       ANDERSON,  DONALD             FOREMAN OF WATER PIPE CONSTRUCTION   \n",
       "...                     ...                                            ...   \n",
       "29669        VERMA,  ANUPAM           MANAGING ENGINEER - WATER MANAGEMENT   \n",
       "30239   WASHINGTON,  JOSEPH                              WATER CHEMIST III   \n",
       "30544       WEST,  THOMAS R                   GEN SUPT OF WATER MANAGEMENT   \n",
       "30991    WILLIAMS,  MATTHEW             FOREMAN OF WATER PIPE CONSTRUCTION   \n",
       "31405  WOODRIDGE,  ROBERT L             FOREMAN OF WATER PIPE CONSTRUCTION   \n",
       "\n",
       "             Department  Employee Annual Salary  \n",
       "0      WATER MANAGEMENT                 90744.0  \n",
       "554    WATER MANAGEMENT                102440.0  \n",
       "671    WATER MANAGEMENT                 82044.0  \n",
       "685    WATER MANAGEMENT                109272.0  \n",
       "702    WATER MANAGEMENT                102440.0  \n",
       "...                 ...                     ...  \n",
       "29669  WATER MANAGEMENT                111192.0  \n",
       "30239  WATER MANAGEMENT                 89676.0  \n",
       "30544  WATER MANAGEMENT                115704.0  \n",
       "30991  WATER MANAGEMENT                102440.0  \n",
       "31405  WATER MANAGEMENT                102440.0  \n",
       "\n",
       "[111 rows x 4 columns]"
      ]
     },
     "execution_count": 13,
     "metadata": {},
     "output_type": "execute_result"
    }
   ],
   "source": [
    "data[data['Position Title'].str.lower().str.contains('water')]"
   ]
  },
  {
   "cell_type": "markdown",
   "id": "9da6c21a",
   "metadata": {},
   "source": [
    "### Filter the rows where the `'Position Title'` starts with the word `'WATER'`"
   ]
  },
  {
   "cell_type": "code",
   "execution_count": 14,
   "id": "05fa3e14",
   "metadata": {},
   "outputs": [
    {
     "data": {
      "text/html": [
       "<div>\n",
       "<style scoped>\n",
       "    .dataframe tbody tr th:only-of-type {\n",
       "        vertical-align: middle;\n",
       "    }\n",
       "\n",
       "    .dataframe tbody tr th {\n",
       "        vertical-align: top;\n",
       "    }\n",
       "\n",
       "    .dataframe thead th {\n",
       "        text-align: right;\n",
       "    }\n",
       "</style>\n",
       "<table border=\"1\" class=\"dataframe\">\n",
       "  <thead>\n",
       "    <tr style=\"text-align: right;\">\n",
       "      <th></th>\n",
       "      <th>Name</th>\n",
       "      <th>Position Title</th>\n",
       "      <th>Department</th>\n",
       "      <th>Employee Annual Salary</th>\n",
       "    </tr>\n",
       "  </thead>\n",
       "  <tbody>\n",
       "    <tr>\n",
       "      <th>0</th>\n",
       "      <td>AARON,  ELVIA J</td>\n",
       "      <td>WATER RATE TAKER</td>\n",
       "      <td>WATER MANAGEMENT</td>\n",
       "      <td>90744.0</td>\n",
       "    </tr>\n",
       "    <tr>\n",
       "      <th>671</th>\n",
       "      <td>ANDER,  PERRY A</td>\n",
       "      <td>WATER CHEMIST II</td>\n",
       "      <td>WATER MANAGEMENT</td>\n",
       "      <td>82044.0</td>\n",
       "    </tr>\n",
       "    <tr>\n",
       "      <th>1054</th>\n",
       "      <td>ASHLEY,  KARMA T</td>\n",
       "      <td>WATER CHEMIST II</td>\n",
       "      <td>WATER MANAGEMENT</td>\n",
       "      <td>82044.0</td>\n",
       "    </tr>\n",
       "    <tr>\n",
       "      <th>1079</th>\n",
       "      <td>ATKINS,  JOANNA M</td>\n",
       "      <td>WATER CHEMIST II</td>\n",
       "      <td>WATER MANAGEMENT</td>\n",
       "      <td>82044.0</td>\n",
       "    </tr>\n",
       "    <tr>\n",
       "      <th>1181</th>\n",
       "      <td>AZEEM,  MOHAMMED A</td>\n",
       "      <td>WATER CHEMIST II</td>\n",
       "      <td>WATER MANAGEMENT</td>\n",
       "      <td>53172.0</td>\n",
       "    </tr>\n",
       "    <tr>\n",
       "      <th>...</th>\n",
       "      <td>...</td>\n",
       "      <td>...</td>\n",
       "      <td>...</td>\n",
       "      <td>...</td>\n",
       "    </tr>\n",
       "    <tr>\n",
       "      <th>28574</th>\n",
       "      <td>THREATT,  DENISE R</td>\n",
       "      <td>WATER QUALITY INSPECTOR</td>\n",
       "      <td>WATER MANAGEMENT</td>\n",
       "      <td>62004.0</td>\n",
       "    </tr>\n",
       "    <tr>\n",
       "      <th>28602</th>\n",
       "      <td>TIGNOR,  DARRYL B</td>\n",
       "      <td>WATER RATE TAKER</td>\n",
       "      <td>WATER MANAGEMENT</td>\n",
       "      <td>78948.0</td>\n",
       "    </tr>\n",
       "    <tr>\n",
       "      <th>28955</th>\n",
       "      <td>TRAVIS COOK,  LESLIE R</td>\n",
       "      <td>WATER RATE TAKER</td>\n",
       "      <td>WATER MANAGEMENT</td>\n",
       "      <td>78948.0</td>\n",
       "    </tr>\n",
       "    <tr>\n",
       "      <th>29584</th>\n",
       "      <td>VELAZQUEZ,  JOHN</td>\n",
       "      <td>WATER RATE TAKER</td>\n",
       "      <td>WATER MANAGEMENT</td>\n",
       "      <td>78948.0</td>\n",
       "    </tr>\n",
       "    <tr>\n",
       "      <th>30239</th>\n",
       "      <td>WASHINGTON,  JOSEPH</td>\n",
       "      <td>WATER CHEMIST III</td>\n",
       "      <td>WATER MANAGEMENT</td>\n",
       "      <td>89676.0</td>\n",
       "    </tr>\n",
       "  </tbody>\n",
       "</table>\n",
       "<p>75 rows × 4 columns</p>\n",
       "</div>"
      ],
      "text/plain": [
       "                         Name           Position Title        Department  \\\n",
       "0             AARON,  ELVIA J         WATER RATE TAKER  WATER MANAGEMENT   \n",
       "671           ANDER,  PERRY A         WATER CHEMIST II  WATER MANAGEMENT   \n",
       "1054         ASHLEY,  KARMA T         WATER CHEMIST II  WATER MANAGEMENT   \n",
       "1079        ATKINS,  JOANNA M         WATER CHEMIST II  WATER MANAGEMENT   \n",
       "1181       AZEEM,  MOHAMMED A         WATER CHEMIST II  WATER MANAGEMENT   \n",
       "...                       ...                      ...               ...   \n",
       "28574      THREATT,  DENISE R  WATER QUALITY INSPECTOR  WATER MANAGEMENT   \n",
       "28602       TIGNOR,  DARRYL B         WATER RATE TAKER  WATER MANAGEMENT   \n",
       "28955  TRAVIS COOK,  LESLIE R         WATER RATE TAKER  WATER MANAGEMENT   \n",
       "29584        VELAZQUEZ,  JOHN         WATER RATE TAKER  WATER MANAGEMENT   \n",
       "30239     WASHINGTON,  JOSEPH        WATER CHEMIST III  WATER MANAGEMENT   \n",
       "\n",
       "       Employee Annual Salary  \n",
       "0                     90744.0  \n",
       "671                   82044.0  \n",
       "1054                  82044.0  \n",
       "1079                  82044.0  \n",
       "1181                  53172.0  \n",
       "...                       ...  \n",
       "28574                 62004.0  \n",
       "28602                 78948.0  \n",
       "28955                 78948.0  \n",
       "29584                 78948.0  \n",
       "30239                 89676.0  \n",
       "\n",
       "[75 rows x 4 columns]"
      ]
     },
     "execution_count": 14,
     "metadata": {},
     "output_type": "execute_result"
    }
   ],
   "source": [
    "data[data['Position Title'].str.startswith('WATER')]"
   ]
  },
  {
   "cell_type": "markdown",
   "id": "6a750f14",
   "metadata": {},
   "source": [
    "### Filter the rows where the `'Position Title'` ends with the word `'MANAGEMENT'`"
   ]
  },
  {
   "cell_type": "code",
   "execution_count": 15,
   "id": "b7b3007f",
   "metadata": {},
   "outputs": [
    {
     "data": {
      "text/html": [
       "<div>\n",
       "<style scoped>\n",
       "    .dataframe tbody tr th:only-of-type {\n",
       "        vertical-align: middle;\n",
       "    }\n",
       "\n",
       "    .dataframe tbody tr th {\n",
       "        vertical-align: top;\n",
       "    }\n",
       "\n",
       "    .dataframe thead th {\n",
       "        text-align: right;\n",
       "    }\n",
       "</style>\n",
       "<table border=\"1\" class=\"dataframe\">\n",
       "  <thead>\n",
       "    <tr style=\"text-align: right;\">\n",
       "      <th></th>\n",
       "      <th>Name</th>\n",
       "      <th>Position Title</th>\n",
       "      <th>Department</th>\n",
       "      <th>Employee Annual Salary</th>\n",
       "    </tr>\n",
       "  </thead>\n",
       "  <tbody>\n",
       "    <tr>\n",
       "      <th>619</th>\n",
       "      <td>AMADO,  BONITA S</td>\n",
       "      <td>DIR OF FACILITIES MANAGEMENT</td>\n",
       "      <td>POLICE</td>\n",
       "      <td>109008.0</td>\n",
       "    </tr>\n",
       "    <tr>\n",
       "      <th>1645</th>\n",
       "      <td>BATIE,  FERRIS C</td>\n",
       "      <td>DIR OF FACILITIES MANAGEMENT</td>\n",
       "      <td>GENERAL SERVICES</td>\n",
       "      <td>112308.0</td>\n",
       "    </tr>\n",
       "    <tr>\n",
       "      <th>4484</th>\n",
       "      <td>CHAO,  JOSE A</td>\n",
       "      <td>DIR OF FACILITIES MANAGEMENT</td>\n",
       "      <td>CULTURAL AFFAIRS</td>\n",
       "      <td>95820.0</td>\n",
       "    </tr>\n",
       "    <tr>\n",
       "      <th>6421</th>\n",
       "      <td>DAVIS III,  WALLACE</td>\n",
       "      <td>GEN SUPT OF WATER MANAGEMENT</td>\n",
       "      <td>WATER MANAGEMENT</td>\n",
       "      <td>119208.0</td>\n",
       "    </tr>\n",
       "    <tr>\n",
       "      <th>9751</th>\n",
       "      <td>GASPAR,  RICARDO</td>\n",
       "      <td>DIR OF FACILITIES MANAGEMENT</td>\n",
       "      <td>AVIATION</td>\n",
       "      <td>106848.0</td>\n",
       "    </tr>\n",
       "    <tr>\n",
       "      <th>11466</th>\n",
       "      <td>HARDY,  MARIE E</td>\n",
       "      <td>ASST COORD OF COLLECTION MANAGEMENT</td>\n",
       "      <td>PUBLIC LIBRARY</td>\n",
       "      <td>83340.0</td>\n",
       "    </tr>\n",
       "    <tr>\n",
       "      <th>12412</th>\n",
       "      <td>HNATKO,  WAYNE S</td>\n",
       "      <td>ASST DIR OF BUILDINGS MANAGEMENT</td>\n",
       "      <td>GENERAL SERVICES</td>\n",
       "      <td>110088.0</td>\n",
       "    </tr>\n",
       "    <tr>\n",
       "      <th>14897</th>\n",
       "      <td>KING,  JOHN T</td>\n",
       "      <td>GEN SUPT OF WATER MANAGEMENT</td>\n",
       "      <td>WATER MANAGEMENT</td>\n",
       "      <td>114204.0</td>\n",
       "    </tr>\n",
       "    <tr>\n",
       "      <th>18237</th>\n",
       "      <td>MCFARLAND,  ANDREW S</td>\n",
       "      <td>MANAGING ENGINEER - WATER MANAGEMENT</td>\n",
       "      <td>WATER MANAGEMENT</td>\n",
       "      <td>111192.0</td>\n",
       "    </tr>\n",
       "    <tr>\n",
       "      <th>23792</th>\n",
       "      <td>REYNOLDS,  DAVID J</td>\n",
       "      <td>COMMISSIONER OF FLEET &amp; FACILITY MANAGEMENT</td>\n",
       "      <td>GENERAL SERVICES</td>\n",
       "      <td>157092.0</td>\n",
       "    </tr>\n",
       "    <tr>\n",
       "      <th>25160</th>\n",
       "      <td>SACHS,  LARRY E</td>\n",
       "      <td>DIR OF GRANTS MANAGEMENT</td>\n",
       "      <td>POLICE</td>\n",
       "      <td>97860.0</td>\n",
       "    </tr>\n",
       "    <tr>\n",
       "      <th>26171</th>\n",
       "      <td>SHAW,  DORELLE L</td>\n",
       "      <td>COORD OF GRANTS MANAGEMENT</td>\n",
       "      <td>HEALTH</td>\n",
       "      <td>89880.0</td>\n",
       "    </tr>\n",
       "    <tr>\n",
       "      <th>27599</th>\n",
       "      <td>STEWART,  VIRGINIA L</td>\n",
       "      <td>COORD OF GRANTS MANAGEMENT</td>\n",
       "      <td>TRANSPORTN</td>\n",
       "      <td>89880.0</td>\n",
       "    </tr>\n",
       "    <tr>\n",
       "      <th>29669</th>\n",
       "      <td>VERMA,  ANUPAM</td>\n",
       "      <td>MANAGING ENGINEER - WATER MANAGEMENT</td>\n",
       "      <td>WATER MANAGEMENT</td>\n",
       "      <td>111192.0</td>\n",
       "    </tr>\n",
       "    <tr>\n",
       "      <th>30544</th>\n",
       "      <td>WEST,  THOMAS R</td>\n",
       "      <td>GEN SUPT OF WATER MANAGEMENT</td>\n",
       "      <td>WATER MANAGEMENT</td>\n",
       "      <td>115704.0</td>\n",
       "    </tr>\n",
       "  </tbody>\n",
       "</table>\n",
       "</div>"
      ],
      "text/plain": [
       "                       Name                               Position Title  \\\n",
       "619        AMADO,  BONITA S                 DIR OF FACILITIES MANAGEMENT   \n",
       "1645       BATIE,  FERRIS C                 DIR OF FACILITIES MANAGEMENT   \n",
       "4484          CHAO,  JOSE A                 DIR OF FACILITIES MANAGEMENT   \n",
       "6421    DAVIS III,  WALLACE                 GEN SUPT OF WATER MANAGEMENT   \n",
       "9751       GASPAR,  RICARDO                 DIR OF FACILITIES MANAGEMENT   \n",
       "11466       HARDY,  MARIE E          ASST COORD OF COLLECTION MANAGEMENT   \n",
       "12412      HNATKO,  WAYNE S             ASST DIR OF BUILDINGS MANAGEMENT   \n",
       "14897         KING,  JOHN T                 GEN SUPT OF WATER MANAGEMENT   \n",
       "18237  MCFARLAND,  ANDREW S         MANAGING ENGINEER - WATER MANAGEMENT   \n",
       "23792    REYNOLDS,  DAVID J  COMMISSIONER OF FLEET & FACILITY MANAGEMENT   \n",
       "25160       SACHS,  LARRY E                     DIR OF GRANTS MANAGEMENT   \n",
       "26171      SHAW,  DORELLE L                   COORD OF GRANTS MANAGEMENT   \n",
       "27599  STEWART,  VIRGINIA L                   COORD OF GRANTS MANAGEMENT   \n",
       "29669        VERMA,  ANUPAM         MANAGING ENGINEER - WATER MANAGEMENT   \n",
       "30544       WEST,  THOMAS R                 GEN SUPT OF WATER MANAGEMENT   \n",
       "\n",
       "             Department  Employee Annual Salary  \n",
       "619              POLICE                109008.0  \n",
       "1645   GENERAL SERVICES                112308.0  \n",
       "4484   CULTURAL AFFAIRS                 95820.0  \n",
       "6421   WATER MANAGEMENT                119208.0  \n",
       "9751           AVIATION                106848.0  \n",
       "11466    PUBLIC LIBRARY                 83340.0  \n",
       "12412  GENERAL SERVICES                110088.0  \n",
       "14897  WATER MANAGEMENT                114204.0  \n",
       "18237  WATER MANAGEMENT                111192.0  \n",
       "23792  GENERAL SERVICES                157092.0  \n",
       "25160            POLICE                 97860.0  \n",
       "26171            HEALTH                 89880.0  \n",
       "27599        TRANSPORTN                 89880.0  \n",
       "29669  WATER MANAGEMENT                111192.0  \n",
       "30544  WATER MANAGEMENT                115704.0  "
      ]
     },
     "execution_count": 15,
     "metadata": {},
     "output_type": "execute_result"
    }
   ],
   "source": [
    "data[data['Position Title'].str.endswith('MANAGEMENT')]"
   ]
  },
  {
   "cell_type": "markdown",
   "id": "8bf572d4",
   "metadata": {},
   "source": [
    "### Split the `'Name'` column by commas, get the first part of each name, convert it to title case, and display the count of each unique value"
   ]
  },
  {
   "cell_type": "code",
   "execution_count": 16,
   "id": "fae70c13",
   "metadata": {},
   "outputs": [
    {
     "data": {
      "text/plain": [
       "Williams     293\n",
       "Johnson      244\n",
       "Smith        241\n",
       "Brown        185\n",
       "Jones        183\n",
       "            ... \n",
       "Horkavy        1\n",
       "Horn           1\n",
       "Horne Jr       1\n",
       "Horner         1\n",
       "Zyskowski      1\n",
       "Name: Name, Length: 13829, dtype: int64"
      ]
     },
     "execution_count": 16,
     "metadata": {},
     "output_type": "execute_result"
    }
   ],
   "source": [
    "data['Name'].str.split(',').str.get(0).str.title().value_counts()"
   ]
  },
  {
   "cell_type": "markdown",
   "id": "95b6274c",
   "metadata": {},
   "source": [
    "### Split the `'Name'` column into two new columns: `'First Name'` and `'Last Name'`, using a comma as the delimiter"
   ]
  },
  {
   "cell_type": "code",
   "execution_count": 17,
   "id": "4794be56",
   "metadata": {},
   "outputs": [],
   "source": [
    "data[['First Name', 'Last Name']] = data['Name'].str.split(',', expand = True)"
   ]
  },
  {
   "cell_type": "markdown",
   "id": "c7f4bedf",
   "metadata": {},
   "source": [
    "### Display the first 5 rows of the DataFrame after making the previous change "
   ]
  },
  {
   "cell_type": "code",
   "execution_count": 18,
   "id": "6cdbd9a0",
   "metadata": {},
   "outputs": [
    {
     "data": {
      "text/html": [
       "<div>\n",
       "<style scoped>\n",
       "    .dataframe tbody tr th:only-of-type {\n",
       "        vertical-align: middle;\n",
       "    }\n",
       "\n",
       "    .dataframe tbody tr th {\n",
       "        vertical-align: top;\n",
       "    }\n",
       "\n",
       "    .dataframe thead th {\n",
       "        text-align: right;\n",
       "    }\n",
       "</style>\n",
       "<table border=\"1\" class=\"dataframe\">\n",
       "  <thead>\n",
       "    <tr style=\"text-align: right;\">\n",
       "      <th></th>\n",
       "      <th>Name</th>\n",
       "      <th>Position Title</th>\n",
       "      <th>Department</th>\n",
       "      <th>Employee Annual Salary</th>\n",
       "      <th>First Name</th>\n",
       "      <th>Last Name</th>\n",
       "    </tr>\n",
       "  </thead>\n",
       "  <tbody>\n",
       "    <tr>\n",
       "      <th>0</th>\n",
       "      <td>AARON,  ELVIA J</td>\n",
       "      <td>WATER RATE TAKER</td>\n",
       "      <td>WATER MANAGEMENT</td>\n",
       "      <td>90744.0</td>\n",
       "      <td>AARON</td>\n",
       "      <td>ELVIA J</td>\n",
       "    </tr>\n",
       "    <tr>\n",
       "      <th>1</th>\n",
       "      <td>AARON,  JEFFERY M</td>\n",
       "      <td>POLICE OFFICER</td>\n",
       "      <td>POLICE</td>\n",
       "      <td>84450.0</td>\n",
       "      <td>AARON</td>\n",
       "      <td>JEFFERY M</td>\n",
       "    </tr>\n",
       "    <tr>\n",
       "      <th>2</th>\n",
       "      <td>AARON,  KARINA</td>\n",
       "      <td>POLICE OFFICER</td>\n",
       "      <td>POLICE</td>\n",
       "      <td>84450.0</td>\n",
       "      <td>AARON</td>\n",
       "      <td>KARINA</td>\n",
       "    </tr>\n",
       "    <tr>\n",
       "      <th>3</th>\n",
       "      <td>AARON,  KIMBERLEI R</td>\n",
       "      <td>CHIEF CONTRACT EXPEDITER</td>\n",
       "      <td>GENERAL SERVICES</td>\n",
       "      <td>89880.0</td>\n",
       "      <td>AARON</td>\n",
       "      <td>KIMBERLEI R</td>\n",
       "    </tr>\n",
       "    <tr>\n",
       "      <th>4</th>\n",
       "      <td>ABAD JR,  VICENTE M</td>\n",
       "      <td>CIVIL ENGINEER IV</td>\n",
       "      <td>WATER MANAGEMENT</td>\n",
       "      <td>106836.0</td>\n",
       "      <td>ABAD JR</td>\n",
       "      <td>VICENTE M</td>\n",
       "    </tr>\n",
       "  </tbody>\n",
       "</table>\n",
       "</div>"
      ],
      "text/plain": [
       "                  Name            Position Title        Department  \\\n",
       "0      AARON,  ELVIA J          WATER RATE TAKER  WATER MANAGEMENT   \n",
       "1    AARON,  JEFFERY M            POLICE OFFICER            POLICE   \n",
       "2       AARON,  KARINA            POLICE OFFICER            POLICE   \n",
       "3  AARON,  KIMBERLEI R  CHIEF CONTRACT EXPEDITER  GENERAL SERVICES   \n",
       "4  ABAD JR,  VICENTE M         CIVIL ENGINEER IV  WATER MANAGEMENT   \n",
       "\n",
       "   Employee Annual Salary First Name      Last Name  \n",
       "0                 90744.0      AARON        ELVIA J  \n",
       "1                 84450.0      AARON      JEFFERY M  \n",
       "2                 84450.0      AARON         KARINA  \n",
       "3                 89880.0      AARON    KIMBERLEI R  \n",
       "4                106836.0    ABAD JR      VICENTE M  "
      ]
     },
     "execution_count": 18,
     "metadata": {},
     "output_type": "execute_result"
    }
   ],
   "source": [
    "data.head()"
   ]
  },
  {
   "cell_type": "code",
   "execution_count": null,
   "id": "c2ec5634",
   "metadata": {},
   "outputs": [],
   "source": []
  }
 ],
 "metadata": {
  "kernelspec": {
   "display_name": "Python 3 (ipykernel)",
   "language": "python",
   "name": "python3"
  },
  "language_info": {
   "codemirror_mode": {
    "name": "ipython",
    "version": 3
   },
   "file_extension": ".py",
   "mimetype": "text/x-python",
   "name": "python",
   "nbconvert_exporter": "python",
   "pygments_lexer": "ipython3",
   "version": "3.9.13"
  }
 },
 "nbformat": 4,
 "nbformat_minor": 5
}
