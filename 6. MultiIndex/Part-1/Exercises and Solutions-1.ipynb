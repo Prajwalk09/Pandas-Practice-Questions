{
 "cells": [
  {
   "cell_type": "markdown",
   "id": "9a76c126",
   "metadata": {},
   "source": [
    "## Working with hierarchical (multi-level) indices in Pandas "
   ]
  },
  {
   "cell_type": "markdown",
   "id": "cf5e7e88",
   "metadata": {},
   "source": [
    "### Import the pandas library "
   ]
  },
  {
   "cell_type": "code",
   "execution_count": 1,
   "id": "08401da5",
   "metadata": {},
   "outputs": [],
   "source": [
    "import pandas as pd"
   ]
  },
  {
   "cell_type": "markdown",
   "id": "db84a28a",
   "metadata": {},
   "source": [
    "### Load the CSV file from this [link](https://raw.githubusercontent.com/Prajwalk09/Data-Analysis-with-Pandas-and-Python/refs/heads/main/MultiIndex/bigmac.csv) into a DataFrame and assign it to a variable named `data` while ensuring that the `'Date'` column is parsed as datetime objects during the import"
   ]
  },
  {
   "cell_type": "code",
   "execution_count": 3,
   "id": "97f4af03",
   "metadata": {},
   "outputs": [],
   "source": [
    "url = \"https://raw.githubusercontent.com/Prajwalk09/Data-Analysis-with-Pandas-and-Python/refs/heads/main/MultiIndex/bigmac.csv\"\n",
    "data = pd.read_csv(url, parse_dates = ['Date'])"
   ]
  },
  {
   "cell_type": "markdown",
   "id": "e11fc4e4",
   "metadata": {},
   "source": [
    "### Display the first 5 rows of the DataFrame "
   ]
  },
  {
   "cell_type": "code",
   "execution_count": 4,
   "id": "1d5ca38b",
   "metadata": {},
   "outputs": [
    {
     "data": {
      "text/html": [
       "<div>\n",
       "<style scoped>\n",
       "    .dataframe tbody tr th:only-of-type {\n",
       "        vertical-align: middle;\n",
       "    }\n",
       "\n",
       "    .dataframe tbody tr th {\n",
       "        vertical-align: top;\n",
       "    }\n",
       "\n",
       "    .dataframe thead th {\n",
       "        text-align: right;\n",
       "    }\n",
       "</style>\n",
       "<table border=\"1\" class=\"dataframe\">\n",
       "  <thead>\n",
       "    <tr style=\"text-align: right;\">\n",
       "      <th></th>\n",
       "      <th>Date</th>\n",
       "      <th>Country</th>\n",
       "      <th>Price in US Dollars</th>\n",
       "    </tr>\n",
       "  </thead>\n",
       "  <tbody>\n",
       "    <tr>\n",
       "      <th>0</th>\n",
       "      <td>2016-01-01</td>\n",
       "      <td>Argentina</td>\n",
       "      <td>2.39</td>\n",
       "    </tr>\n",
       "    <tr>\n",
       "      <th>1</th>\n",
       "      <td>2016-01-01</td>\n",
       "      <td>Australia</td>\n",
       "      <td>3.74</td>\n",
       "    </tr>\n",
       "    <tr>\n",
       "      <th>2</th>\n",
       "      <td>2016-01-01</td>\n",
       "      <td>Brazil</td>\n",
       "      <td>3.35</td>\n",
       "    </tr>\n",
       "    <tr>\n",
       "      <th>3</th>\n",
       "      <td>2016-01-01</td>\n",
       "      <td>Britain</td>\n",
       "      <td>4.22</td>\n",
       "    </tr>\n",
       "    <tr>\n",
       "      <th>4</th>\n",
       "      <td>2016-01-01</td>\n",
       "      <td>Canada</td>\n",
       "      <td>4.14</td>\n",
       "    </tr>\n",
       "  </tbody>\n",
       "</table>\n",
       "</div>"
      ],
      "text/plain": [
       "        Date    Country  Price in US Dollars\n",
       "0 2016-01-01  Argentina                 2.39\n",
       "1 2016-01-01  Australia                 3.74\n",
       "2 2016-01-01     Brazil                 3.35\n",
       "3 2016-01-01    Britain                 4.22\n",
       "4 2016-01-01     Canada                 4.14"
      ]
     },
     "execution_count": 4,
     "metadata": {},
     "output_type": "execute_result"
    }
   ],
   "source": [
    "data.head()"
   ]
  },
  {
   "cell_type": "markdown",
   "id": "037dcabe",
   "metadata": {},
   "source": [
    "### Set the `Date` and `Country` columns as a MultiIndex for the `data` DataFrame\n",
    "<span style=\"color:green; font-weight:bold; font-size:14px;\">Make sure that the changes are made inplace</span> "
   ]
  },
  {
   "cell_type": "code",
   "execution_count": 5,
   "id": "58e7a96d",
   "metadata": {},
   "outputs": [],
   "source": [
    "data.set_index(keys = ['Date', 'Country'], inplace = True)"
   ]
  },
  {
   "cell_type": "markdown",
   "id": "00f87f43",
   "metadata": {},
   "source": [
    "### Display the first 5 rows of the DataFrame after the previous operation "
   ]
  },
  {
   "cell_type": "code",
   "execution_count": 6,
   "id": "9e7a0a8f",
   "metadata": {},
   "outputs": [
    {
     "data": {
      "text/html": [
       "<div>\n",
       "<style scoped>\n",
       "    .dataframe tbody tr th:only-of-type {\n",
       "        vertical-align: middle;\n",
       "    }\n",
       "\n",
       "    .dataframe tbody tr th {\n",
       "        vertical-align: top;\n",
       "    }\n",
       "\n",
       "    .dataframe thead th {\n",
       "        text-align: right;\n",
       "    }\n",
       "</style>\n",
       "<table border=\"1\" class=\"dataframe\">\n",
       "  <thead>\n",
       "    <tr style=\"text-align: right;\">\n",
       "      <th></th>\n",
       "      <th></th>\n",
       "      <th>Price in US Dollars</th>\n",
       "    </tr>\n",
       "    <tr>\n",
       "      <th>Date</th>\n",
       "      <th>Country</th>\n",
       "      <th></th>\n",
       "    </tr>\n",
       "  </thead>\n",
       "  <tbody>\n",
       "    <tr>\n",
       "      <th rowspan=\"5\" valign=\"top\">2016-01-01</th>\n",
       "      <th>Argentina</th>\n",
       "      <td>2.39</td>\n",
       "    </tr>\n",
       "    <tr>\n",
       "      <th>Australia</th>\n",
       "      <td>3.74</td>\n",
       "    </tr>\n",
       "    <tr>\n",
       "      <th>Brazil</th>\n",
       "      <td>3.35</td>\n",
       "    </tr>\n",
       "    <tr>\n",
       "      <th>Britain</th>\n",
       "      <td>4.22</td>\n",
       "    </tr>\n",
       "    <tr>\n",
       "      <th>Canada</th>\n",
       "      <td>4.14</td>\n",
       "    </tr>\n",
       "  </tbody>\n",
       "</table>\n",
       "</div>"
      ],
      "text/plain": [
       "                      Price in US Dollars\n",
       "Date       Country                       \n",
       "2016-01-01 Argentina                 2.39\n",
       "           Australia                 3.74\n",
       "           Brazil                    3.35\n",
       "           Britain                   4.22\n",
       "           Canada                    4.14"
      ]
     },
     "execution_count": 6,
     "metadata": {},
     "output_type": "execute_result"
    }
   ],
   "source": [
    "data.head()"
   ]
  },
  {
   "cell_type": "markdown",
   "id": "28262a55",
   "metadata": {},
   "source": [
    "### Sort the index of the `data` DataFrame in ascending order for the first level and descending order for the second level\n",
    "<span style=\"color:red; font-weight:bold; font-size:14px;\">Do not make the changes inplace</span>"
   ]
  },
  {
   "cell_type": "code",
   "execution_count": 7,
   "id": "00563004",
   "metadata": {},
   "outputs": [
    {
     "data": {
      "text/html": [
       "<div>\n",
       "<style scoped>\n",
       "    .dataframe tbody tr th:only-of-type {\n",
       "        vertical-align: middle;\n",
       "    }\n",
       "\n",
       "    .dataframe tbody tr th {\n",
       "        vertical-align: top;\n",
       "    }\n",
       "\n",
       "    .dataframe thead th {\n",
       "        text-align: right;\n",
       "    }\n",
       "</style>\n",
       "<table border=\"1\" class=\"dataframe\">\n",
       "  <thead>\n",
       "    <tr style=\"text-align: right;\">\n",
       "      <th></th>\n",
       "      <th></th>\n",
       "      <th>Price in US Dollars</th>\n",
       "    </tr>\n",
       "    <tr>\n",
       "      <th>Date</th>\n",
       "      <th>Country</th>\n",
       "      <th></th>\n",
       "    </tr>\n",
       "  </thead>\n",
       "  <tbody>\n",
       "    <tr>\n",
       "      <th rowspan=\"5\" valign=\"top\">2010-01-01</th>\n",
       "      <th>Uruguay</th>\n",
       "      <td>3.32</td>\n",
       "    </tr>\n",
       "    <tr>\n",
       "      <th>United States</th>\n",
       "      <td>3.58</td>\n",
       "    </tr>\n",
       "    <tr>\n",
       "      <th>Ukraine</th>\n",
       "      <td>1.83</td>\n",
       "    </tr>\n",
       "    <tr>\n",
       "      <th>UAE</th>\n",
       "      <td>2.99</td>\n",
       "    </tr>\n",
       "    <tr>\n",
       "      <th>Turkey</th>\n",
       "      <td>3.83</td>\n",
       "    </tr>\n",
       "    <tr>\n",
       "      <th>...</th>\n",
       "      <th>...</th>\n",
       "      <td>...</td>\n",
       "    </tr>\n",
       "    <tr>\n",
       "      <th rowspan=\"5\" valign=\"top\">2016-01-01</th>\n",
       "      <th>Brazil</th>\n",
       "      <td>3.35</td>\n",
       "    </tr>\n",
       "    <tr>\n",
       "      <th>Belgium</th>\n",
       "      <td>4.25</td>\n",
       "    </tr>\n",
       "    <tr>\n",
       "      <th>Austria</th>\n",
       "      <td>3.76</td>\n",
       "    </tr>\n",
       "    <tr>\n",
       "      <th>Australia</th>\n",
       "      <td>3.74</td>\n",
       "    </tr>\n",
       "    <tr>\n",
       "      <th>Argentina</th>\n",
       "      <td>2.39</td>\n",
       "    </tr>\n",
       "  </tbody>\n",
       "</table>\n",
       "<p>652 rows × 1 columns</p>\n",
       "</div>"
      ],
      "text/plain": [
       "                          Price in US Dollars\n",
       "Date       Country                           \n",
       "2010-01-01 Uruguay                       3.32\n",
       "           United States                 3.58\n",
       "           Ukraine                       1.83\n",
       "           UAE                           2.99\n",
       "           Turkey                        3.83\n",
       "...                                       ...\n",
       "2016-01-01 Brazil                        3.35\n",
       "           Belgium                       4.25\n",
       "           Austria                       3.76\n",
       "           Australia                     3.74\n",
       "           Argentina                     2.39\n",
       "\n",
       "[652 rows x 1 columns]"
      ]
     },
     "execution_count": 7,
     "metadata": {},
     "output_type": "execute_result"
    }
   ],
   "source": [
    "data.sort_index(ascending = [True, False])"
   ]
  },
  {
   "cell_type": "markdown",
   "id": "34d191e4",
   "metadata": {},
   "source": [
    "### Sort the `data` DataFrame based on its MultiIndex in Ascending Order\n",
    "<span style=\"color:green; font-weight:bold; font-size:14px;\">Make sure that the changes are made inplace</span> "
   ]
  },
  {
   "cell_type": "code",
   "execution_count": 9,
   "id": "8c9b3779",
   "metadata": {},
   "outputs": [],
   "source": [
    "data.sort_index(ascending = [True, True], inplace = True)"
   ]
  },
  {
   "cell_type": "markdown",
   "id": "9b786351",
   "metadata": {},
   "source": [
    "### Understanding `get_level_values()` and Levels in a MultiIndex\n",
    "\n",
    "#### What is a Level in a MultiIndex?\n",
    "A **level** in a MultiIndex represents one layer of the hierarchical indexing in a pandas DataFrame. Each row in the DataFrame has an index that is defined by the combination of values across all levels of the MultiIndex. For example, in a MultiIndex with levels `['Date', 'Country']`, the rows are uniquely identified by a combination of both `Date` and `Country`. <br>\n",
    "<span style=\"color:blue\">Note that this method can be applied only on the index of the DataFrame and not the DataFrame itself.</span>\n",
    "\n",
    "#### Purpose of `get_level_values()`\n",
    "The `get_level_values()` method allows you to extract values from a specific level of a MultiIndex.\n",
    "\n",
    "- **Input:** It can take:\n",
    "  - The **name** of the level (e.g., `'Country'`).\n",
    "  - The **position** of the level (e.g., `1`).\n",
    "\n",
    "- **Output:** It returns the values from the specified level as a pandas Index object.\n",
    "\n",
    "#### Why Use It?\n",
    "- Simplifies working with complex MultiIndex DataFrames.\n",
    "- Allows you to focus on specific levels for analysis or data manipulation."
   ]
  },
  {
   "cell_type": "markdown",
   "id": "06397b52",
   "metadata": {},
   "source": [
    "### Retrieve all values from the 'Date' level of the MultiIndex DataFrame"
   ]
  },
  {
   "cell_type": "code",
   "execution_count": 10,
   "id": "0ccc1843",
   "metadata": {},
   "outputs": [
    {
     "data": {
      "text/plain": [
       "DatetimeIndex(['2010-01-01', '2010-01-01', '2010-01-01', '2010-01-01',\n",
       "               '2010-01-01', '2010-01-01', '2010-01-01', '2010-01-01',\n",
       "               '2010-01-01', '2010-01-01',\n",
       "               ...\n",
       "               '2016-01-01', '2016-01-01', '2016-01-01', '2016-01-01',\n",
       "               '2016-01-01', '2016-01-01', '2016-01-01', '2016-01-01',\n",
       "               '2016-01-01', '2016-01-01'],\n",
       "              dtype='datetime64[ns]', name='Date', length=652, freq=None)"
      ]
     },
     "execution_count": 10,
     "metadata": {},
     "output_type": "execute_result"
    }
   ],
   "source": [
    "data.index.get_level_values(level = 'Date')"
   ]
  },
  {
   "cell_type": "markdown",
   "id": "0bc0daf3",
   "metadata": {},
   "source": [
    "### Retrieve all values from the level 1 of the MultiIndex DataFrame"
   ]
  },
  {
   "cell_type": "code",
   "execution_count": 11,
   "id": "3f36908b",
   "metadata": {},
   "outputs": [
    {
     "data": {
      "text/plain": [
       "Index(['Argentina', 'Australia', 'Brazil', 'Britain', 'Canada', 'Chile',\n",
       "       'China', 'Colombia', 'Costa Rica', 'Czech Republic',\n",
       "       ...\n",
       "       'Switzerland', 'Taiwan', 'Thailand', 'Turkey', 'UAE', 'Ukraine',\n",
       "       'United States', 'Uruguay', 'Venezuela', 'Vietnam'],\n",
       "      dtype='object', name='Country', length=652)"
      ]
     },
     "execution_count": 11,
     "metadata": {},
     "output_type": "execute_result"
    }
   ],
   "source": [
    "data.index.get_level_values(level = 1)"
   ]
  },
  {
   "cell_type": "markdown",
   "id": "d4e6e5ad",
   "metadata": {},
   "source": [
    "### Rename the level 0 of the MultiIndex to \"Dates\"\n",
    "<span style=\"color:red; font-weight:bold; font-size:14px;\">Do not make the changes inplace</span> "
   ]
  },
  {
   "cell_type": "code",
   "execution_count": 12,
   "id": "fdc3a4b2",
   "metadata": {},
   "outputs": [
    {
     "data": {
      "text/plain": [
       "MultiIndex([('2010-01-01',      'Argentina'),\n",
       "            ('2010-01-01',      'Australia'),\n",
       "            ('2010-01-01',         'Brazil'),\n",
       "            ('2010-01-01',        'Britain'),\n",
       "            ('2010-01-01',         'Canada'),\n",
       "            ('2010-01-01',          'Chile'),\n",
       "            ('2010-01-01',          'China'),\n",
       "            ('2010-01-01',       'Colombia'),\n",
       "            ('2010-01-01',     'Costa Rica'),\n",
       "            ('2010-01-01', 'Czech Republic'),\n",
       "            ...\n",
       "            ('2016-01-01',    'Switzerland'),\n",
       "            ('2016-01-01',         'Taiwan'),\n",
       "            ('2016-01-01',       'Thailand'),\n",
       "            ('2016-01-01',         'Turkey'),\n",
       "            ('2016-01-01',            'UAE'),\n",
       "            ('2016-01-01',        'Ukraine'),\n",
       "            ('2016-01-01',  'United States'),\n",
       "            ('2016-01-01',        'Uruguay'),\n",
       "            ('2016-01-01',      'Venezuela'),\n",
       "            ('2016-01-01',        'Vietnam')],\n",
       "           names=['Dates', 'Country'], length=652)"
      ]
     },
     "execution_count": 12,
     "metadata": {},
     "output_type": "execute_result"
    }
   ],
   "source": [
    "data.index.rename(names = 'Dates', level = 0)"
   ]
  },
  {
   "cell_type": "markdown",
   "id": "7318b1ab",
   "metadata": {},
   "source": [
    "### Rename the level \"Date\" of the MultiIndex to \"Dates\"\n",
    "<span style=\"color:green; font-weight:bold; font-size:14px;\">Make sure that the changes are made inplace</span>"
   ]
  },
  {
   "cell_type": "code",
   "execution_count": 14,
   "id": "9e1bdfb1",
   "metadata": {},
   "outputs": [],
   "source": [
    "data.index.rename(names = 'Dates', level = 'Date', inplace = True)"
   ]
  },
  {
   "cell_type": "markdown",
   "id": "c8193da0",
   "metadata": {},
   "source": [
    "### Display the first 5 rows of the DataFrame "
   ]
  },
  {
   "cell_type": "code",
   "execution_count": 15,
   "id": "4d852337",
   "metadata": {},
   "outputs": [
    {
     "data": {
      "text/html": [
       "<div>\n",
       "<style scoped>\n",
       "    .dataframe tbody tr th:only-of-type {\n",
       "        vertical-align: middle;\n",
       "    }\n",
       "\n",
       "    .dataframe tbody tr th {\n",
       "        vertical-align: top;\n",
       "    }\n",
       "\n",
       "    .dataframe thead th {\n",
       "        text-align: right;\n",
       "    }\n",
       "</style>\n",
       "<table border=\"1\" class=\"dataframe\">\n",
       "  <thead>\n",
       "    <tr style=\"text-align: right;\">\n",
       "      <th></th>\n",
       "      <th></th>\n",
       "      <th>Price in US Dollars</th>\n",
       "    </tr>\n",
       "    <tr>\n",
       "      <th>Dates</th>\n",
       "      <th>Country</th>\n",
       "      <th></th>\n",
       "    </tr>\n",
       "  </thead>\n",
       "  <tbody>\n",
       "    <tr>\n",
       "      <th rowspan=\"5\" valign=\"top\">2010-01-01</th>\n",
       "      <th>Argentina</th>\n",
       "      <td>1.84</td>\n",
       "    </tr>\n",
       "    <tr>\n",
       "      <th>Australia</th>\n",
       "      <td>3.98</td>\n",
       "    </tr>\n",
       "    <tr>\n",
       "      <th>Brazil</th>\n",
       "      <td>4.76</td>\n",
       "    </tr>\n",
       "    <tr>\n",
       "      <th>Britain</th>\n",
       "      <td>3.67</td>\n",
       "    </tr>\n",
       "    <tr>\n",
       "      <th>Canada</th>\n",
       "      <td>3.97</td>\n",
       "    </tr>\n",
       "  </tbody>\n",
       "</table>\n",
       "</div>"
      ],
      "text/plain": [
       "                      Price in US Dollars\n",
       "Dates      Country                       \n",
       "2010-01-01 Argentina                 1.84\n",
       "           Australia                 3.98\n",
       "           Brazil                    4.76\n",
       "           Britain                   3.67\n",
       "           Canada                    3.97"
      ]
     },
     "execution_count": 15,
     "metadata": {},
     "output_type": "execute_result"
    }
   ],
   "source": [
    "data.head()"
   ]
  },
  {
   "cell_type": "markdown",
   "id": "60a0b63d",
   "metadata": {},
   "source": [
    "### Retrieve the value for 'Price in US Dollars' on '2010-01-01' for 'Australia' in the `data` DataFrame using MultiIndex"
   ]
  },
  {
   "cell_type": "code",
   "execution_count": 16,
   "id": "158c34be",
   "metadata": {},
   "outputs": [
    {
     "data": {
      "text/plain": [
       "3.98"
      ]
     },
     "execution_count": 16,
     "metadata": {},
     "output_type": "execute_result"
    }
   ],
   "source": [
    "data.loc[('2010-01-01', 'Australia'), ('Price in US Dollars')]"
   ]
  },
  {
   "cell_type": "markdown",
   "id": "ad61b3ba",
   "metadata": {},
   "source": [
    "### Retrieve the values for 'Price in US Dollars' between '2010-01-01' for 'Australia' and '2010-01-01' for 'Ukraine' in the `data` DataFrame using MultiIndex"
   ]
  },
  {
   "cell_type": "code",
   "execution_count": 17,
   "id": "d29b662a",
   "metadata": {},
   "outputs": [
    {
     "data": {
      "text/plain": [
       "Dates       Country       \n",
       "2010-01-01  Australia         3.98\n",
       "            Brazil            4.76\n",
       "            Britain           3.67\n",
       "            Canada            3.97\n",
       "            Chile             3.18\n",
       "            China             1.83\n",
       "            Colombia          3.91\n",
       "            Costa Rica        3.52\n",
       "            Czech Republic    3.71\n",
       "            Denmark           5.99\n",
       "            Egypt             2.38\n",
       "            Euro area         4.84\n",
       "            Hong Kong         1.91\n",
       "            Hungary           3.86\n",
       "            Indonesia         2.24\n",
       "            Israel            3.99\n",
       "            Japan             3.50\n",
       "            Latvia            3.09\n",
       "            Lithuania         2.87\n",
       "            Malaysia          2.08\n",
       "            Mexico            2.50\n",
       "            New Zealand       3.61\n",
       "            Norway            7.02\n",
       "            Pakistan          2.42\n",
       "            Peru              2.81\n",
       "            Philippines       2.21\n",
       "            Poland            2.86\n",
       "            Russia            2.34\n",
       "            Saudi Arabia      2.67\n",
       "            Singapore         3.19\n",
       "            South Africa      2.46\n",
       "            South Korea       2.98\n",
       "            Sri Lanka         1.83\n",
       "            Sweden            5.51\n",
       "            Switzerland       6.30\n",
       "            Taiwan            2.36\n",
       "            Thailand          2.11\n",
       "            Turkey            3.83\n",
       "            UAE               2.99\n",
       "            Ukraine           1.83\n",
       "Name: Price in US Dollars, dtype: float64"
      ]
     },
     "execution_count": 17,
     "metadata": {},
     "output_type": "execute_result"
    }
   ],
   "source": [
    "data.loc[('2010-01-01', 'Australia'):('2010-01-01', 'Ukraine'), ('Price in US Dollars')]"
   ]
  }
 ],
 "metadata": {
  "kernelspec": {
   "display_name": "Python 3 (ipykernel)",
   "language": "python",
   "name": "python3"
  },
  "language_info": {
   "codemirror_mode": {
    "name": "ipython",
    "version": 3
   },
   "file_extension": ".py",
   "mimetype": "text/x-python",
   "name": "python",
   "nbconvert_exporter": "python",
   "pygments_lexer": "ipython3",
   "version": "3.9.13"
  }
 },
 "nbformat": 4,
 "nbformat_minor": 5
}
