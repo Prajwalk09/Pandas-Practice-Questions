{
 "cells": [
  {
   "cell_type": "markdown",
   "id": "7e729d30",
   "metadata": {},
   "source": [
    "## Working with hierarchical (multi-level) indices in Pandas "
   ]
  },
  {
   "cell_type": "markdown",
   "id": "4ea7d32f",
   "metadata": {},
   "source": [
    "### Import the pandas library "
   ]
  },
  {
   "cell_type": "code",
   "execution_count": null,
   "id": "95a1d8ae",
   "metadata": {},
   "outputs": [],
   "source": []
  },
  {
   "cell_type": "markdown",
   "id": "a0922c15",
   "metadata": {},
   "source": [
    "### Load the CSV file from this [link](https://raw.githubusercontent.com/Prajwalk09/Data-Analysis-with-Pandas-and-Python/refs/heads/main/MultiIndex/bigmac.csv) into a DataFrame and assign it to a variable named `data` while ensuring that the `'Date'` column is parsed as datetime objects during the import"
   ]
  },
  {
   "cell_type": "code",
   "execution_count": null,
   "id": "312f7f3b",
   "metadata": {},
   "outputs": [],
   "source": []
  },
  {
   "cell_type": "markdown",
   "id": "37d92cf9",
   "metadata": {},
   "source": [
    "### Display the first 5 rows of the DataFrame "
   ]
  },
  {
   "cell_type": "code",
   "execution_count": null,
   "id": "bb6475c6",
   "metadata": {},
   "outputs": [],
   "source": []
  },
  {
   "cell_type": "markdown",
   "id": "444ef754",
   "metadata": {},
   "source": [
    "### Set the `Date` and `Country` columns as a MultiIndex for the `data` DataFrame\n",
    "<span style=\"color:green; font-weight:bold; font-size:14px;\">Make sure that the changes are made inplace</span> "
   ]
  },
  {
   "cell_type": "code",
   "execution_count": null,
   "id": "08a517da",
   "metadata": {},
   "outputs": [],
   "source": []
  },
  {
   "cell_type": "markdown",
   "id": "a8561fc8",
   "metadata": {},
   "source": [
    "### Display the first 5 rows of the DataFrame after the previous operation "
   ]
  },
  {
   "cell_type": "code",
   "execution_count": null,
   "id": "1e486a99",
   "metadata": {},
   "outputs": [],
   "source": []
  },
  {
   "cell_type": "markdown",
   "id": "c1028e45",
   "metadata": {},
   "source": [
    "### Sort the index of the `data` DataFrame in ascending order for the first level and descending order for the second level\n",
    "<span style=\"color:red; font-weight:bold; font-size:14px;\">Do not make the changes inplace</span>"
   ]
  },
  {
   "cell_type": "code",
   "execution_count": null,
   "id": "73bba87f",
   "metadata": {},
   "outputs": [],
   "source": []
  },
  {
   "cell_type": "markdown",
   "id": "a7a7d908",
   "metadata": {},
   "source": [
    "### Sort the `data` DataFrame based on its MultiIndex in Ascending Order\n",
    "<span style=\"color:green; font-weight:bold; font-size:14px;\">Make sure that the changes are made inplace</span> "
   ]
  },
  {
   "cell_type": "code",
   "execution_count": null,
   "id": "a17fbd61",
   "metadata": {},
   "outputs": [],
   "source": []
  },
  {
   "cell_type": "markdown",
   "id": "d0ca473b",
   "metadata": {},
   "source": [
    "### Understanding `get_level_values()` and Levels in a MultiIndex\n",
    "\n",
    "#### What is a Level in a MultiIndex?\n",
    "A **level** in a MultiIndex represents one layer of the hierarchical indexing in a pandas DataFrame. Each row in the DataFrame has an index that is defined by the combination of values across all levels of the MultiIndex. For example, in a MultiIndex with levels `['Date', 'Country']`, the rows are uniquely identified by a combination of both `Date` and `Country`. <br>\n",
    "<span style=\"color:blue\">Note that this method can be applied only on the index of the DataFrame and not the DataFrame itself.</span>\n",
    "\n",
    "#### Purpose of `get_level_values()`\n",
    "The `get_level_values()` method allows you to extract values from a specific level of a MultiIndex.\n",
    "\n",
    "- **Input:** It can take:\n",
    "  - The **name** of the level (e.g., `'Country'`).\n",
    "  - The **position** of the level (e.g., `1`).\n",
    "\n",
    "- **Output:** It returns the values from the specified level as a pandas Index object.\n",
    "\n",
    "#### Why Use It?\n",
    "- Simplifies working with complex MultiIndex DataFrames.\n",
    "- Allows you to focus on specific levels for analysis or data manipulation."
   ]
  },
  {
   "cell_type": "markdown",
   "id": "840f8458",
   "metadata": {},
   "source": [
    "### Retrieve all values from the 'Date' level of the MultiIndex DataFrame"
   ]
  },
  {
   "cell_type": "code",
   "execution_count": null,
   "id": "238213a5",
   "metadata": {},
   "outputs": [],
   "source": []
  },
  {
   "cell_type": "markdown",
   "id": "d77747e8",
   "metadata": {},
   "source": [
    "### Retrieve all values from the level 1 of the MultiIndex DataFrame"
   ]
  },
  {
   "cell_type": "code",
   "execution_count": null,
   "id": "12392881",
   "metadata": {},
   "outputs": [],
   "source": []
  },
  {
   "cell_type": "markdown",
   "id": "ef0bd87f",
   "metadata": {},
   "source": [
    "### Rename the level 0 of the MultiIndex to \"Dates\"\n",
    "<span style=\"color:red; font-weight:bold; font-size:14px;\">Do not make the changes inplace</span> "
   ]
  },
  {
   "cell_type": "code",
   "execution_count": null,
   "id": "2f0cfa8b",
   "metadata": {},
   "outputs": [],
   "source": []
  },
  {
   "cell_type": "markdown",
   "id": "ef44bd32",
   "metadata": {},
   "source": [
    "### Rename the level \"Date\" of the MultiIndex to \"Dates\"\n",
    "<span style=\"color:green; font-weight:bold; font-size:14px;\">Make sure that the changes are made inplace</span>"
   ]
  },
  {
   "cell_type": "code",
   "execution_count": null,
   "id": "c8987174",
   "metadata": {},
   "outputs": [],
   "source": []
  },
  {
   "cell_type": "code",
   "execution_count": null,
   "id": "d5edbb2f",
   "metadata": {},
   "outputs": [],
   "source": []
  },
  {
   "cell_type": "markdown",
   "id": "bed89848",
   "metadata": {},
   "source": [
    "### Display the first 5 rows of the DataFrame "
   ]
  },
  {
   "cell_type": "code",
   "execution_count": null,
   "id": "6005868f",
   "metadata": {},
   "outputs": [],
   "source": []
  },
  {
   "cell_type": "markdown",
   "id": "9b3e2df3",
   "metadata": {},
   "source": [
    "### Retrieve the value for 'Price in US Dollars' on '2010-01-01' for 'Australia' in the `data` DataFrame using MultiIndex"
   ]
  },
  {
   "cell_type": "code",
   "execution_count": null,
   "id": "b5132147",
   "metadata": {},
   "outputs": [],
   "source": []
  },
  {
   "cell_type": "markdown",
   "id": "9e8aeaa3",
   "metadata": {},
   "source": [
    "### Retrieve the values for 'Price in US Dollars' between '2010-01-01' for 'Australia' and '2010-01-01' for 'Ukraine' in the `data` DataFrame using MultiIndex"
   ]
  },
  {
   "cell_type": "code",
   "execution_count": null,
   "id": "3f87d1fd",
   "metadata": {},
   "outputs": [],
   "source": []
  }
 ],
 "metadata": {
  "kernelspec": {
   "display_name": "Python 3 (ipykernel)",
   "language": "python",
   "name": "python3"
  },
  "language_info": {
   "codemirror_mode": {
    "name": "ipython",
    "version": 3
   },
   "file_extension": ".py",
   "mimetype": "text/x-python",
   "name": "python",
   "nbconvert_exporter": "python",
   "pygments_lexer": "ipython3",
   "version": "3.9.13"
  }
 },
 "nbformat": 4,
 "nbformat_minor": 5
}
