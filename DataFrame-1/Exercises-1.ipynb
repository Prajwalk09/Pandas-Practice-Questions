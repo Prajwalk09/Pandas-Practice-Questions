{
 "cells": [
  {
   "cell_type": "markdown",
   "id": "3d397f0a",
   "metadata": {},
   "source": [
    "## Introduction to DataFrames"
   ]
  },
  {
   "cell_type": "markdown",
   "id": "5bb1d5cf",
   "metadata": {},
   "source": [
    "### Import the Pandas library"
   ]
  },
  {
   "cell_type": "code",
   "execution_count": null,
   "id": "b5a9992c",
   "metadata": {},
   "outputs": [],
   "source": []
  },
  {
   "cell_type": "markdown",
   "id": "2fd72111",
   "metadata": {},
   "source": [
    "### Load the CSV file from this [link](https://raw.githubusercontent.com/Prajwalk09/Data-Analysis-with-Pandas-and-Python/refs/heads/main/DataFrame-1/nba.csv) into a DataFrame and assign it to a variable named `nba`"
   ]
  },
  {
   "cell_type": "code",
   "execution_count": null,
   "id": "15413180",
   "metadata": {},
   "outputs": [],
   "source": []
  },
  {
   "cell_type": "markdown",
   "id": "9e55f6df",
   "metadata": {},
   "source": [
    "### Display the first five rows of the `nba` DataFrame"
   ]
  },
  {
   "cell_type": "code",
   "execution_count": null,
   "id": "19c0802e",
   "metadata": {},
   "outputs": [],
   "source": []
  },
  {
   "cell_type": "markdown",
   "id": "51bf790c",
   "metadata": {},
   "source": [
    "### Display the last five rows of the `nba` DataFrame"
   ]
  },
  {
   "cell_type": "code",
   "execution_count": null,
   "id": "802b6e67",
   "metadata": {},
   "outputs": [],
   "source": []
  },
  {
   "cell_type": "markdown",
   "id": "ba59cb08",
   "metadata": {},
   "source": [
    "### Find and display the total number of rows in the `nba` DataFrame"
   ]
  },
  {
   "cell_type": "code",
   "execution_count": null,
   "id": "eacd41be",
   "metadata": {},
   "outputs": [],
   "source": []
  },
  {
   "cell_type": "markdown",
   "id": "d5bec7a1",
   "metadata": {},
   "source": [
    "### Display the dimensions of the `nba` DataFrame"
   ]
  },
  {
   "cell_type": "code",
   "execution_count": null,
   "id": "532c0bf2",
   "metadata": {},
   "outputs": [],
   "source": []
  },
  {
   "cell_type": "markdown",
   "id": "253d3444",
   "metadata": {},
   "source": [
    "### Display the index of the data types of the columns in the `nba` DataFrame"
   ]
  },
  {
   "cell_type": "code",
   "execution_count": null,
   "id": "c908959a",
   "metadata": {},
   "outputs": [],
   "source": []
  },
  {
   "cell_type": "markdown",
   "id": "a0c4b286",
   "metadata": {},
   "source": [
    "### Display the summary information of the `nba` DataFrame, including the column names, non-null counts, and data types"
   ]
  },
  {
   "cell_type": "code",
   "execution_count": null,
   "id": "8c5d14ee",
   "metadata": {},
   "outputs": [],
   "source": []
  },
  {
   "cell_type": "markdown",
   "id": "45722031",
   "metadata": {},
   "source": [
    "### Select and display the columns `'Salary'`, `'Team'`, and `'Name'` from the `nba` DataFrame."
   ]
  },
  {
   "cell_type": "code",
   "execution_count": null,
   "id": "87a38776",
   "metadata": {},
   "outputs": [],
   "source": []
  },
  {
   "cell_type": "markdown",
   "id": "65f017cd",
   "metadata": {},
   "source": [
    "### Add a new column named `'Sport'` to the `nba` DataFrame and assign the value `\"Basketball\"` to all the rows in that column"
   ]
  },
  {
   "cell_type": "code",
   "execution_count": null,
   "id": "469d023b",
   "metadata": {},
   "outputs": [],
   "source": []
  },
  {
   "cell_type": "markdown",
   "id": "28cc986a",
   "metadata": {},
   "source": [
    "### Add a new column named `'League'` to the `nba` DataFrame and assign the value `\"National Basketball Association\"` to all the rows in that column"
   ]
  },
  {
   "cell_type": "code",
   "execution_count": null,
   "id": "7756f674",
   "metadata": {},
   "outputs": [],
   "source": []
  },
  {
   "cell_type": "markdown",
   "id": "c0faf9a5",
   "metadata": {},
   "source": [
    "### Delete the two newly inserted columns"
   ]
  },
  {
   "cell_type": "code",
   "execution_count": null,
   "id": "ce6b4244",
   "metadata": {},
   "outputs": [],
   "source": []
  },
  {
   "cell_type": "markdown",
   "id": "6636f530",
   "metadata": {},
   "source": [
    "### Insert a new column named `'Sport'` at the 3rd position in the `nba` DataFrame, with the value `\"Basketball\"` assigned to all the rows in that column using the `insert()` function"
   ]
  },
  {
   "cell_type": "code",
   "execution_count": null,
   "id": "588b9edc",
   "metadata": {},
   "outputs": [],
   "source": []
  }
 ],
 "metadata": {
  "kernelspec": {
   "display_name": "Python 3 (ipykernel)",
   "language": "python",
   "name": "python3"
  },
  "language_info": {
   "codemirror_mode": {
    "name": "ipython",
    "version": 3
   },
   "file_extension": ".py",
   "mimetype": "text/x-python",
   "name": "python",
   "nbconvert_exporter": "python",
   "pygments_lexer": "ipython3",
   "version": "3.9.13"
  }
 },
 "nbformat": 4,
 "nbformat_minor": 5
}
