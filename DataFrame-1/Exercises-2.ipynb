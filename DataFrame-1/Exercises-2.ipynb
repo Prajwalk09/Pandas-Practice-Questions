{
 "cells": [
  {
   "cell_type": "markdown",
   "id": "35ccd3a1",
   "metadata": {},
   "source": [
    "## Broadcasting Operators"
   ]
  },
  {
   "cell_type": "markdown",
   "id": "6eb75338",
   "metadata": {},
   "source": [
    "### Import the pandas library"
   ]
  },
  {
   "cell_type": "code",
   "execution_count": null,
   "id": "bf2303b1",
   "metadata": {},
   "outputs": [],
   "source": []
  },
  {
   "cell_type": "markdown",
   "id": "ec052045",
   "metadata": {},
   "source": [
    "### Load the CSV file from this [link](https://raw.githubusercontent.com/Prajwalk09/Data-Analysis-with-Pandas-and-Python/refs/heads/main/DataFrame-1/nba.csv) into a DataFrame and assign it to a variable named `nba`"
   ]
  },
  {
   "cell_type": "code",
   "execution_count": null,
   "id": "94a6a98d",
   "metadata": {},
   "outputs": [],
   "source": []
  },
  {
   "cell_type": "markdown",
   "id": "60d617e0",
   "metadata": {},
   "source": [
    "### Display the first 5 rows of the DataFrame"
   ]
  },
  {
   "cell_type": "code",
   "execution_count": null,
   "id": "9b368731",
   "metadata": {},
   "outputs": [],
   "source": []
  },
  {
   "cell_type": "markdown",
   "id": "8959cc12",
   "metadata": {},
   "source": [
    "### Add 5 to the values in the `'Age'` column of the `nba` DataFrame and display the result"
   ]
  },
  {
   "cell_type": "code",
   "execution_count": null,
   "id": "f8bc439a",
   "metadata": {},
   "outputs": [],
   "source": []
  },
  {
   "cell_type": "markdown",
   "id": "880eae59",
   "metadata": {},
   "source": [
    "### Create a new column `'Weight in Kilograms'` in the `nba` DataFrame by converting the values in the `'Weight'` column from pounds to kilograms (using the conversion factor 1 kg =  0.45 pound)"
   ]
  },
  {
   "cell_type": "code",
   "execution_count": null,
   "id": "18898678",
   "metadata": {},
   "outputs": [],
   "source": []
  },
  {
   "cell_type": "markdown",
   "id": "7fae041d",
   "metadata": {},
   "source": [
    "### Add a new column named `'Salary in Millions'` to the `nba` DataFrame by dividing the values in the `'Salary'` column by 1,000,000"
   ]
  },
  {
   "cell_type": "code",
   "execution_count": null,
   "id": "1dcbe061",
   "metadata": {},
   "outputs": [],
   "source": []
  },
  {
   "cell_type": "markdown",
   "id": "036222c0",
   "metadata": {},
   "source": [
    "### Calculate and display the total number of missing values in each column of the `nba` DataFrame"
   ]
  },
  {
   "cell_type": "code",
   "execution_count": null,
   "id": "09199e84",
   "metadata": {},
   "outputs": [],
   "source": []
  },
  {
   "cell_type": "markdown",
   "id": "cfb1bf15",
   "metadata": {},
   "source": [
    "### Remove all rows where all values are missing from the `nba` DataFrame"
   ]
  },
  {
   "cell_type": "code",
   "execution_count": null,
   "id": "be2b769f",
   "metadata": {},
   "outputs": [],
   "source": []
  },
  {
   "cell_type": "markdown",
   "id": "e9f2e650",
   "metadata": {},
   "source": [
    "### Remove rows from the `nba` DataFrame where either the `'College'` or `'Salary'` column has missing values"
   ]
  },
  {
   "cell_type": "code",
   "execution_count": null,
   "id": "78cad4bd",
   "metadata": {},
   "outputs": [],
   "source": []
  },
  {
   "cell_type": "markdown",
   "id": "807a4855",
   "metadata": {},
   "source": [
    "### Fill the missing values in the `'Salary'` column of the `nba` DataFrame with 0"
   ]
  },
  {
   "cell_type": "code",
   "execution_count": null,
   "id": "872b3a4a",
   "metadata": {},
   "outputs": [],
   "source": []
  },
  {
   "cell_type": "markdown",
   "id": "4e632ef3",
   "metadata": {},
   "source": [
    "### Fill the missing values in the `'College'` column of the `nba` DataFrame with the string `'No College'`"
   ]
  },
  {
   "cell_type": "code",
   "execution_count": null,
   "id": "c5bfe6c1",
   "metadata": {},
   "outputs": [],
   "source": []
  },
  {
   "cell_type": "markdown",
   "id": "522e5949",
   "metadata": {},
   "source": [
    "### Display the data types of all columns in the `nba` DataFrame"
   ]
  },
  {
   "cell_type": "code",
   "execution_count": null,
   "id": "af74cbb8",
   "metadata": {},
   "outputs": [],
   "source": []
  },
  {
   "cell_type": "markdown",
   "id": "6681e072",
   "metadata": {},
   "source": [
    "<p style=\"color: blue; font-size: 16px; font-weight:bold\">Note: The columns `'Number'`, `'Age'`, `'Weight'`, and `'Salary'` are of the `float` data type. You need to convert these columns to `int` type.</p>"
   ]
  },
  {
   "cell_type": "markdown",
   "id": "a3293df0",
   "metadata": {},
   "source": [
    "### Create a list containing the column names `'Number'`, `'Age'`, `'Weight'`, and `'Salary'`, and convert the values in these columns to the `int` data type. After that, check the data types of all columns in the `nba` DataFrame"
   ]
  },
  {
   "cell_type": "code",
   "execution_count": null,
   "id": "0c935894",
   "metadata": {},
   "outputs": [],
   "source": []
  },
  {
   "cell_type": "code",
   "execution_count": null,
   "id": "e352eede",
   "metadata": {},
   "outputs": [],
   "source": []
  }
 ],
 "metadata": {
  "kernelspec": {
   "display_name": "Python 3 (ipykernel)",
   "language": "python",
   "name": "python3"
  },
  "language_info": {
   "codemirror_mode": {
    "name": "ipython",
    "version": 3
   },
   "file_extension": ".py",
   "mimetype": "text/x-python",
   "name": "python",
   "nbconvert_exporter": "python",
   "pygments_lexer": "ipython3",
   "version": "3.9.13"
  }
 },
 "nbformat": 4,
 "nbformat_minor": 5
}
