{
 "cells": [
  {
   "cell_type": "markdown",
   "id": "6138d660",
   "metadata": {},
   "source": [
    "## Broadcasting Operators"
   ]
  },
  {
   "cell_type": "markdown",
   "id": "0d2909ec",
   "metadata": {},
   "source": [
    "### Import the pandas library"
   ]
  },
  {
   "cell_type": "code",
   "execution_count": 1,
   "id": "ab6e4bff",
   "metadata": {},
   "outputs": [],
   "source": [
    "import pandas as pd"
   ]
  },
  {
   "cell_type": "markdown",
   "id": "3d17877f",
   "metadata": {},
   "source": [
    "### Load the CSV file from this [link](https://raw.githubusercontent.com/Prajwalk09/Data-Analysis-with-Pandas-and-Python/refs/heads/main/DataFrame-1/nba.csv) into a DataFrame and assign it to a variable named `nba`"
   ]
  },
  {
   "cell_type": "code",
   "execution_count": 2,
   "id": "870bc85a",
   "metadata": {},
   "outputs": [],
   "source": [
    "url = 'https://raw.githubusercontent.com/Prajwalk09/Data-Analysis-with-Pandas-and-Python/refs/heads/main/DataFrame-1/nba.csv'\n",
    "nba = pd.read_csv(url)"
   ]
  },
  {
   "cell_type": "markdown",
   "id": "0cd8079b",
   "metadata": {},
   "source": [
    "### Display the first 5 rows of the DataFrame"
   ]
  },
  {
   "cell_type": "code",
   "execution_count": 3,
   "id": "d26a7e0c",
   "metadata": {},
   "outputs": [
    {
     "data": {
      "text/html": [
       "<div>\n",
       "<style scoped>\n",
       "    .dataframe tbody tr th:only-of-type {\n",
       "        vertical-align: middle;\n",
       "    }\n",
       "\n",
       "    .dataframe tbody tr th {\n",
       "        vertical-align: top;\n",
       "    }\n",
       "\n",
       "    .dataframe thead th {\n",
       "        text-align: right;\n",
       "    }\n",
       "</style>\n",
       "<table border=\"1\" class=\"dataframe\">\n",
       "  <thead>\n",
       "    <tr style=\"text-align: right;\">\n",
       "      <th></th>\n",
       "      <th>Name</th>\n",
       "      <th>Team</th>\n",
       "      <th>Number</th>\n",
       "      <th>Position</th>\n",
       "      <th>Age</th>\n",
       "      <th>Height</th>\n",
       "      <th>Weight</th>\n",
       "      <th>College</th>\n",
       "      <th>Salary</th>\n",
       "    </tr>\n",
       "  </thead>\n",
       "  <tbody>\n",
       "    <tr>\n",
       "      <th>0</th>\n",
       "      <td>Avery Bradley</td>\n",
       "      <td>Boston Celtics</td>\n",
       "      <td>0.0</td>\n",
       "      <td>PG</td>\n",
       "      <td>25.0</td>\n",
       "      <td>6-2</td>\n",
       "      <td>180.0</td>\n",
       "      <td>Texas</td>\n",
       "      <td>7730337.0</td>\n",
       "    </tr>\n",
       "    <tr>\n",
       "      <th>1</th>\n",
       "      <td>Jae Crowder</td>\n",
       "      <td>Boston Celtics</td>\n",
       "      <td>99.0</td>\n",
       "      <td>SF</td>\n",
       "      <td>25.0</td>\n",
       "      <td>6-6</td>\n",
       "      <td>235.0</td>\n",
       "      <td>Marquette</td>\n",
       "      <td>6796117.0</td>\n",
       "    </tr>\n",
       "    <tr>\n",
       "      <th>2</th>\n",
       "      <td>John Holland</td>\n",
       "      <td>Boston Celtics</td>\n",
       "      <td>30.0</td>\n",
       "      <td>SG</td>\n",
       "      <td>27.0</td>\n",
       "      <td>6-5</td>\n",
       "      <td>205.0</td>\n",
       "      <td>Boston University</td>\n",
       "      <td>NaN</td>\n",
       "    </tr>\n",
       "    <tr>\n",
       "      <th>3</th>\n",
       "      <td>R.J. Hunter</td>\n",
       "      <td>Boston Celtics</td>\n",
       "      <td>28.0</td>\n",
       "      <td>SG</td>\n",
       "      <td>22.0</td>\n",
       "      <td>6-5</td>\n",
       "      <td>185.0</td>\n",
       "      <td>Georgia State</td>\n",
       "      <td>1148640.0</td>\n",
       "    </tr>\n",
       "    <tr>\n",
       "      <th>4</th>\n",
       "      <td>Jonas Jerebko</td>\n",
       "      <td>Boston Celtics</td>\n",
       "      <td>8.0</td>\n",
       "      <td>PF</td>\n",
       "      <td>29.0</td>\n",
       "      <td>6-10</td>\n",
       "      <td>231.0</td>\n",
       "      <td>NaN</td>\n",
       "      <td>5000000.0</td>\n",
       "    </tr>\n",
       "  </tbody>\n",
       "</table>\n",
       "</div>"
      ],
      "text/plain": [
       "            Name            Team  Number Position   Age Height  Weight  \\\n",
       "0  Avery Bradley  Boston Celtics     0.0       PG  25.0    6-2   180.0   \n",
       "1    Jae Crowder  Boston Celtics    99.0       SF  25.0    6-6   235.0   \n",
       "2   John Holland  Boston Celtics    30.0       SG  27.0    6-5   205.0   \n",
       "3    R.J. Hunter  Boston Celtics    28.0       SG  22.0    6-5   185.0   \n",
       "4  Jonas Jerebko  Boston Celtics     8.0       PF  29.0   6-10   231.0   \n",
       "\n",
       "             College     Salary  \n",
       "0              Texas  7730337.0  \n",
       "1          Marquette  6796117.0  \n",
       "2  Boston University        NaN  \n",
       "3      Georgia State  1148640.0  \n",
       "4                NaN  5000000.0  "
      ]
     },
     "execution_count": 3,
     "metadata": {},
     "output_type": "execute_result"
    }
   ],
   "source": [
    "nba.head()"
   ]
  },
  {
   "cell_type": "markdown",
   "id": "abaef2a5",
   "metadata": {},
   "source": [
    "### Add 5 to the values in the `'Age'` column of the `nba` DataFrame and display the result"
   ]
  },
  {
   "cell_type": "code",
   "execution_count": 4,
   "id": "ee5cd7fb",
   "metadata": {},
   "outputs": [
    {
     "data": {
      "text/plain": [
       "0      30.0\n",
       "1      30.0\n",
       "2      32.0\n",
       "3      27.0\n",
       "4      34.0\n",
       "       ... \n",
       "453    31.0\n",
       "454    29.0\n",
       "455    31.0\n",
       "456    31.0\n",
       "457     NaN\n",
       "Name: Age, Length: 458, dtype: float64"
      ]
     },
     "execution_count": 4,
     "metadata": {},
     "output_type": "execute_result"
    }
   ],
   "source": [
    "nba['Age'] + 5"
   ]
  },
  {
   "cell_type": "markdown",
   "id": "f6604123",
   "metadata": {},
   "source": [
    "### Create a new column `'Weight in Kilograms'` in the `nba` DataFrame by converting the values in the `'Weight'` column from pounds to kilograms (using the conversion factor 1 kg =  0.45 pound)"
   ]
  },
  {
   "cell_type": "code",
   "execution_count": 5,
   "id": "6ae42467",
   "metadata": {},
   "outputs": [],
   "source": [
    "nba['Weight in Kilograms'] = nba['Weight'] / 0.45"
   ]
  },
  {
   "cell_type": "markdown",
   "id": "086b691c",
   "metadata": {},
   "source": [
    "### Add a new column named `'Salary in Millions'` to the `nba` DataFrame by dividing the values in the `'Salary'` column by 1,000,000"
   ]
  },
  {
   "cell_type": "code",
   "execution_count": 6,
   "id": "dd173ae6",
   "metadata": {},
   "outputs": [],
   "source": [
    "nba['Salary in Millions'] = nba['Salary']/1000000"
   ]
  },
  {
   "cell_type": "markdown",
   "id": "57fcc607",
   "metadata": {},
   "source": [
    "### Calculate and display the total number of missing values in each column of the `nba` DataFrame"
   ]
  },
  {
   "cell_type": "code",
   "execution_count": 8,
   "id": "5825021c",
   "metadata": {},
   "outputs": [
    {
     "data": {
      "text/plain": [
       "Name                    1\n",
       "Team                    1\n",
       "Number                  1\n",
       "Position                1\n",
       "Age                     1\n",
       "Height                  1\n",
       "Weight                  1\n",
       "College                85\n",
       "Salary                 12\n",
       "Weight in Kilograms     1\n",
       "Salary in Millions     12\n",
       "dtype: int64"
      ]
     },
     "execution_count": 8,
     "metadata": {},
     "output_type": "execute_result"
    }
   ],
   "source": [
    "nba.isnull().sum()"
   ]
  },
  {
   "cell_type": "markdown",
   "id": "9b15804c",
   "metadata": {},
   "source": [
    "### Remove all rows where all values are missing from the `nba` DataFrame"
   ]
  },
  {
   "cell_type": "code",
   "execution_count": 11,
   "id": "d80c750b",
   "metadata": {},
   "outputs": [],
   "source": [
    "nba.dropna(how = 'all', axis = 'rows', inplace = True)"
   ]
  },
  {
   "cell_type": "markdown",
   "id": "26a13949",
   "metadata": {},
   "source": [
    "### Remove rows from the `nba` DataFrame where either the `'College'` or `'Salary'` column has missing values"
   ]
  },
  {
   "cell_type": "code",
   "execution_count": 12,
   "id": "c7ff8b65",
   "metadata": {},
   "outputs": [
    {
     "data": {
      "text/html": [
       "<div>\n",
       "<style scoped>\n",
       "    .dataframe tbody tr th:only-of-type {\n",
       "        vertical-align: middle;\n",
       "    }\n",
       "\n",
       "    .dataframe tbody tr th {\n",
       "        vertical-align: top;\n",
       "    }\n",
       "\n",
       "    .dataframe thead th {\n",
       "        text-align: right;\n",
       "    }\n",
       "</style>\n",
       "<table border=\"1\" class=\"dataframe\">\n",
       "  <thead>\n",
       "    <tr style=\"text-align: right;\">\n",
       "      <th></th>\n",
       "      <th>Name</th>\n",
       "      <th>Team</th>\n",
       "      <th>Number</th>\n",
       "      <th>Position</th>\n",
       "      <th>Age</th>\n",
       "      <th>Height</th>\n",
       "      <th>Weight</th>\n",
       "      <th>College</th>\n",
       "      <th>Salary</th>\n",
       "      <th>Weight in Kilograms</th>\n",
       "      <th>Salary in Millions</th>\n",
       "    </tr>\n",
       "  </thead>\n",
       "  <tbody>\n",
       "    <tr>\n",
       "      <th>0</th>\n",
       "      <td>Avery Bradley</td>\n",
       "      <td>Boston Celtics</td>\n",
       "      <td>0.0</td>\n",
       "      <td>PG</td>\n",
       "      <td>25.0</td>\n",
       "      <td>6-2</td>\n",
       "      <td>180.0</td>\n",
       "      <td>Texas</td>\n",
       "      <td>7730337.0</td>\n",
       "      <td>400.000000</td>\n",
       "      <td>7.730337</td>\n",
       "    </tr>\n",
       "    <tr>\n",
       "      <th>1</th>\n",
       "      <td>Jae Crowder</td>\n",
       "      <td>Boston Celtics</td>\n",
       "      <td>99.0</td>\n",
       "      <td>SF</td>\n",
       "      <td>25.0</td>\n",
       "      <td>6-6</td>\n",
       "      <td>235.0</td>\n",
       "      <td>Marquette</td>\n",
       "      <td>6796117.0</td>\n",
       "      <td>522.222222</td>\n",
       "      <td>6.796117</td>\n",
       "    </tr>\n",
       "    <tr>\n",
       "      <th>3</th>\n",
       "      <td>R.J. Hunter</td>\n",
       "      <td>Boston Celtics</td>\n",
       "      <td>28.0</td>\n",
       "      <td>SG</td>\n",
       "      <td>22.0</td>\n",
       "      <td>6-5</td>\n",
       "      <td>185.0</td>\n",
       "      <td>Georgia State</td>\n",
       "      <td>1148640.0</td>\n",
       "      <td>411.111111</td>\n",
       "      <td>1.148640</td>\n",
       "    </tr>\n",
       "    <tr>\n",
       "      <th>6</th>\n",
       "      <td>Jordan Mickey</td>\n",
       "      <td>Boston Celtics</td>\n",
       "      <td>55.0</td>\n",
       "      <td>PF</td>\n",
       "      <td>21.0</td>\n",
       "      <td>6-8</td>\n",
       "      <td>235.0</td>\n",
       "      <td>LSU</td>\n",
       "      <td>1170960.0</td>\n",
       "      <td>522.222222</td>\n",
       "      <td>1.170960</td>\n",
       "    </tr>\n",
       "    <tr>\n",
       "      <th>7</th>\n",
       "      <td>Kelly Olynyk</td>\n",
       "      <td>Boston Celtics</td>\n",
       "      <td>41.0</td>\n",
       "      <td>C</td>\n",
       "      <td>25.0</td>\n",
       "      <td>7-0</td>\n",
       "      <td>238.0</td>\n",
       "      <td>Gonzaga</td>\n",
       "      <td>2165160.0</td>\n",
       "      <td>528.888889</td>\n",
       "      <td>2.165160</td>\n",
       "    </tr>\n",
       "    <tr>\n",
       "      <th>...</th>\n",
       "      <td>...</td>\n",
       "      <td>...</td>\n",
       "      <td>...</td>\n",
       "      <td>...</td>\n",
       "      <td>...</td>\n",
       "      <td>...</td>\n",
       "      <td>...</td>\n",
       "      <td>...</td>\n",
       "      <td>...</td>\n",
       "      <td>...</td>\n",
       "      <td>...</td>\n",
       "    </tr>\n",
       "    <tr>\n",
       "      <th>449</th>\n",
       "      <td>Rodney Hood</td>\n",
       "      <td>Utah Jazz</td>\n",
       "      <td>5.0</td>\n",
       "      <td>SG</td>\n",
       "      <td>23.0</td>\n",
       "      <td>6-8</td>\n",
       "      <td>206.0</td>\n",
       "      <td>Duke</td>\n",
       "      <td>1348440.0</td>\n",
       "      <td>457.777778</td>\n",
       "      <td>1.348440</td>\n",
       "    </tr>\n",
       "    <tr>\n",
       "      <th>451</th>\n",
       "      <td>Chris Johnson</td>\n",
       "      <td>Utah Jazz</td>\n",
       "      <td>23.0</td>\n",
       "      <td>SF</td>\n",
       "      <td>26.0</td>\n",
       "      <td>6-6</td>\n",
       "      <td>206.0</td>\n",
       "      <td>Dayton</td>\n",
       "      <td>981348.0</td>\n",
       "      <td>457.777778</td>\n",
       "      <td>0.981348</td>\n",
       "    </tr>\n",
       "    <tr>\n",
       "      <th>452</th>\n",
       "      <td>Trey Lyles</td>\n",
       "      <td>Utah Jazz</td>\n",
       "      <td>41.0</td>\n",
       "      <td>PF</td>\n",
       "      <td>20.0</td>\n",
       "      <td>6-10</td>\n",
       "      <td>234.0</td>\n",
       "      <td>Kentucky</td>\n",
       "      <td>2239800.0</td>\n",
       "      <td>520.000000</td>\n",
       "      <td>2.239800</td>\n",
       "    </tr>\n",
       "    <tr>\n",
       "      <th>453</th>\n",
       "      <td>Shelvin Mack</td>\n",
       "      <td>Utah Jazz</td>\n",
       "      <td>8.0</td>\n",
       "      <td>PG</td>\n",
       "      <td>26.0</td>\n",
       "      <td>6-3</td>\n",
       "      <td>203.0</td>\n",
       "      <td>Butler</td>\n",
       "      <td>2433333.0</td>\n",
       "      <td>451.111111</td>\n",
       "      <td>2.433333</td>\n",
       "    </tr>\n",
       "    <tr>\n",
       "      <th>456</th>\n",
       "      <td>Jeff Withey</td>\n",
       "      <td>Utah Jazz</td>\n",
       "      <td>24.0</td>\n",
       "      <td>C</td>\n",
       "      <td>26.0</td>\n",
       "      <td>7-0</td>\n",
       "      <td>231.0</td>\n",
       "      <td>Kansas</td>\n",
       "      <td>947276.0</td>\n",
       "      <td>513.333333</td>\n",
       "      <td>0.947276</td>\n",
       "    </tr>\n",
       "  </tbody>\n",
       "</table>\n",
       "<p>364 rows × 11 columns</p>\n",
       "</div>"
      ],
      "text/plain": [
       "              Name            Team  Number Position   Age Height  Weight  \\\n",
       "0    Avery Bradley  Boston Celtics     0.0       PG  25.0    6-2   180.0   \n",
       "1      Jae Crowder  Boston Celtics    99.0       SF  25.0    6-6   235.0   \n",
       "3      R.J. Hunter  Boston Celtics    28.0       SG  22.0    6-5   185.0   \n",
       "6    Jordan Mickey  Boston Celtics    55.0       PF  21.0    6-8   235.0   \n",
       "7     Kelly Olynyk  Boston Celtics    41.0        C  25.0    7-0   238.0   \n",
       "..             ...             ...     ...      ...   ...    ...     ...   \n",
       "449    Rodney Hood       Utah Jazz     5.0       SG  23.0    6-8   206.0   \n",
       "451  Chris Johnson       Utah Jazz    23.0       SF  26.0    6-6   206.0   \n",
       "452     Trey Lyles       Utah Jazz    41.0       PF  20.0   6-10   234.0   \n",
       "453   Shelvin Mack       Utah Jazz     8.0       PG  26.0    6-3   203.0   \n",
       "456    Jeff Withey       Utah Jazz    24.0        C  26.0    7-0   231.0   \n",
       "\n",
       "           College     Salary  Weight in Kilograms  Salary in Millions  \n",
       "0            Texas  7730337.0           400.000000            7.730337  \n",
       "1        Marquette  6796117.0           522.222222            6.796117  \n",
       "3    Georgia State  1148640.0           411.111111            1.148640  \n",
       "6              LSU  1170960.0           522.222222            1.170960  \n",
       "7          Gonzaga  2165160.0           528.888889            2.165160  \n",
       "..             ...        ...                  ...                 ...  \n",
       "449           Duke  1348440.0           457.777778            1.348440  \n",
       "451         Dayton   981348.0           457.777778            0.981348  \n",
       "452       Kentucky  2239800.0           520.000000            2.239800  \n",
       "453         Butler  2433333.0           451.111111            2.433333  \n",
       "456         Kansas   947276.0           513.333333            0.947276  \n",
       "\n",
       "[364 rows x 11 columns]"
      ]
     },
     "execution_count": 12,
     "metadata": {},
     "output_type": "execute_result"
    }
   ],
   "source": [
    "nba.dropna(subset = ['College', 'Salary'])"
   ]
  },
  {
   "cell_type": "markdown",
   "id": "d44afe88",
   "metadata": {},
   "source": [
    "### Fill the missing values in the `'Salary'` column of the `nba` DataFrame with 0"
   ]
  },
  {
   "cell_type": "code",
   "execution_count": 13,
   "id": "a07ef54e",
   "metadata": {},
   "outputs": [],
   "source": [
    "nba['Salary'].fillna(value = 0, inplace = True)"
   ]
  },
  {
   "cell_type": "markdown",
   "id": "c45a530a",
   "metadata": {},
   "source": [
    "### Fill the missing values in the `'College'` column of the `nba` DataFrame with the string `'No College'`"
   ]
  },
  {
   "cell_type": "code",
   "execution_count": 15,
   "id": "b03bdd70",
   "metadata": {},
   "outputs": [],
   "source": [
    "nba['College'].fillna(value = 'No College', inplace = True)"
   ]
  },
  {
   "cell_type": "markdown",
   "id": "d0ba56d8",
   "metadata": {},
   "source": [
    "### Display the data types of all columns in the `nba` DataFrame"
   ]
  },
  {
   "cell_type": "code",
   "execution_count": 16,
   "id": "03a24d8f",
   "metadata": {},
   "outputs": [
    {
     "data": {
      "text/plain": [
       "Name                    object\n",
       "Team                    object\n",
       "Number                 float64\n",
       "Position                object\n",
       "Age                    float64\n",
       "Height                  object\n",
       "Weight                 float64\n",
       "College                 object\n",
       "Salary                 float64\n",
       "Weight in Kilograms    float64\n",
       "Salary in Millions     float64\n",
       "dtype: object"
      ]
     },
     "execution_count": 16,
     "metadata": {},
     "output_type": "execute_result"
    }
   ],
   "source": [
    "nba.dtypes"
   ]
  },
  {
   "cell_type": "markdown",
   "id": "de531084",
   "metadata": {},
   "source": [
    "<p style=\"color: blue; font-size: 16px; font-weight:bold\">Note: The columns `'Number'`, `'Age'`, `'Weight'`, and `'Salary'` are of the `float` data type. You need to convert these columns to `int` type.</p>"
   ]
  },
  {
   "cell_type": "markdown",
   "id": "746260b2",
   "metadata": {},
   "source": [
    "### Create a list containing the column names `'Number'`, `'Age'`, `'Weight'`, and `'Salary'`, and convert the values in these columns to the `int` data type. After that, check the data types of all columns in the `nba` DataFrame"
   ]
  },
  {
   "cell_type": "code",
   "execution_count": 17,
   "id": "65ffe2c3",
   "metadata": {},
   "outputs": [],
   "source": [
    "integer_columns = ['Number', 'Age', 'Weight', 'Salary']\n",
    "for column in integer_columns:\n",
    "    nba[column] = nba[column].astype('int')"
   ]
  },
  {
   "cell_type": "code",
   "execution_count": 18,
   "id": "0afe7e95",
   "metadata": {},
   "outputs": [
    {
     "data": {
      "text/plain": [
       "Name                    object\n",
       "Team                    object\n",
       "Number                   int32\n",
       "Position                object\n",
       "Age                      int32\n",
       "Height                  object\n",
       "Weight                   int32\n",
       "College                 object\n",
       "Salary                   int32\n",
       "Weight in Kilograms    float64\n",
       "Salary in Millions     float64\n",
       "dtype: object"
      ]
     },
     "execution_count": 18,
     "metadata": {},
     "output_type": "execute_result"
    }
   ],
   "source": [
    "nba.dtypes"
   ]
  }
 ],
 "metadata": {
  "kernelspec": {
   "display_name": "Python 3 (ipykernel)",
   "language": "python",
   "name": "python3"
  },
  "language_info": {
   "codemirror_mode": {
    "name": "ipython",
    "version": 3
   },
   "file_extension": ".py",
   "mimetype": "text/x-python",
   "name": "python",
   "nbconvert_exporter": "python",
   "pygments_lexer": "ipython3",
   "version": "3.9.13"
  }
 },
 "nbformat": 4,
 "nbformat_minor": 5
}
