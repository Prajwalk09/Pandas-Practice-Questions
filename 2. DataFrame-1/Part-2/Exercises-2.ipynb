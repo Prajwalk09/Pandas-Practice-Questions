{
 "cells": [
  {
   "cell_type": "markdown",
   "id": "515ad5f5",
   "metadata": {},
   "source": [
    "## Broadcasting Operators"
   ]
  },
  {
   "cell_type": "markdown",
   "id": "791e693a",
   "metadata": {},
   "source": [
    "### Import the pandas library"
   ]
  },
  {
   "cell_type": "code",
   "execution_count": null,
   "id": "5514db1f",
   "metadata": {},
   "outputs": [],
   "source": []
  },
  {
   "cell_type": "markdown",
   "id": "071ded68",
   "metadata": {},
   "source": [
    "### Load the CSV file from this [link](https://raw.githubusercontent.com/Prajwalk09/Data-Analysis-with-Pandas-and-Python/refs/heads/main/DataFrame-1/nba.csv) into a DataFrame and assign it to a variable named `nba`"
   ]
  },
  {
   "cell_type": "code",
   "execution_count": null,
   "id": "d8934316",
   "metadata": {},
   "outputs": [],
   "source": []
  },
  {
   "cell_type": "markdown",
   "id": "6c821de1",
   "metadata": {},
   "source": [
    "### Display the first 5 rows of the DataFrame"
   ]
  },
  {
   "cell_type": "code",
   "execution_count": null,
   "id": "e3c2e73f",
   "metadata": {},
   "outputs": [],
   "source": []
  },
  {
   "cell_type": "markdown",
   "id": "50640347",
   "metadata": {},
   "source": [
    "### Add 5 to the values in the `'Age'` column of the `nba` DataFrame and display the result"
   ]
  },
  {
   "cell_type": "code",
   "execution_count": null,
   "id": "0ddef11e",
   "metadata": {},
   "outputs": [],
   "source": []
  },
  {
   "cell_type": "markdown",
   "id": "5dc4be9c",
   "metadata": {},
   "source": [
    "### Create a new column `'Weight in Kilograms'` in the `nba` DataFrame by converting the values in the `'Weight'` column from pounds to kilograms (using the conversion factor 1 kg =  0.45 pound)"
   ]
  },
  {
   "cell_type": "code",
   "execution_count": null,
   "id": "f14f049d",
   "metadata": {},
   "outputs": [],
   "source": []
  },
  {
   "cell_type": "markdown",
   "id": "00c0fe18",
   "metadata": {},
   "source": [
    "### Add a new column named `'Salary in Millions'` to the `nba` DataFrame by dividing the values in the `'Salary'` column by 1,000,000"
   ]
  },
  {
   "cell_type": "code",
   "execution_count": null,
   "id": "ba34330d",
   "metadata": {},
   "outputs": [],
   "source": []
  },
  {
   "cell_type": "markdown",
   "id": "9c8036c0",
   "metadata": {},
   "source": [
    "### Calculate and display the total number of missing values in each column of the `nba` DataFrame"
   ]
  },
  {
   "cell_type": "code",
   "execution_count": null,
   "id": "7f4bf492",
   "metadata": {},
   "outputs": [],
   "source": []
  },
  {
   "cell_type": "markdown",
   "id": "6c50aad8",
   "metadata": {},
   "source": [
    "### Remove all rows where all values are missing from the `nba` DataFrame"
   ]
  },
  {
   "cell_type": "code",
   "execution_count": null,
   "id": "22ccd97e",
   "metadata": {},
   "outputs": [],
   "source": []
  },
  {
   "cell_type": "markdown",
   "id": "3fe25056",
   "metadata": {},
   "source": [
    "### Remove rows from the `nba` DataFrame where either the `'College'` or `'Salary'` column has missing values"
   ]
  },
  {
   "cell_type": "code",
   "execution_count": null,
   "id": "cc88b1fd",
   "metadata": {},
   "outputs": [],
   "source": []
  },
  {
   "cell_type": "markdown",
   "id": "03523ac7",
   "metadata": {},
   "source": [
    "### Fill the missing values in the `'Salary'` column of the `nba` DataFrame with 0"
   ]
  },
  {
   "cell_type": "code",
   "execution_count": null,
   "id": "de7da790",
   "metadata": {},
   "outputs": [],
   "source": []
  },
  {
   "cell_type": "markdown",
   "id": "580f4224",
   "metadata": {},
   "source": [
    "### Fill the missing values in the `'College'` column of the `nba` DataFrame with the string `'No College'`"
   ]
  },
  {
   "cell_type": "code",
   "execution_count": null,
   "id": "59121a69",
   "metadata": {},
   "outputs": [],
   "source": []
  },
  {
   "cell_type": "markdown",
   "id": "d3ed85c4",
   "metadata": {},
   "source": [
    "### Display the data types of all columns in the `nba` DataFrame"
   ]
  },
  {
   "cell_type": "code",
   "execution_count": null,
   "id": "565fa4ad",
   "metadata": {},
   "outputs": [],
   "source": []
  },
  {
   "cell_type": "markdown",
   "id": "048a47dd",
   "metadata": {},
   "source": [
    "<p style=\"color: blue; font-size: 16px; font-weight:bold\">Note: The columns `'Number'`, `'Age'`, `'Weight'`, and `'Salary'` are of the `float` data type. You need to convert these columns to `int` type.</p>"
   ]
  },
  {
   "cell_type": "markdown",
   "id": "52939d95",
   "metadata": {},
   "source": [
    "### Create a list containing the column names `'Number'`, `'Age'`, `'Weight'`, and `'Salary'`, and convert the values in these columns to the `int` data type. After that, check the data types of all columns in the `nba` DataFrame"
   ]
  },
  {
   "cell_type": "code",
   "execution_count": null,
   "id": "85f293f4",
   "metadata": {},
   "outputs": [],
   "source": []
  },
  {
   "cell_type": "code",
   "execution_count": null,
   "id": "259a74b9",
   "metadata": {},
   "outputs": [],
   "source": []
  }
 ],
 "metadata": {
  "kernelspec": {
   "display_name": "Python 3 (ipykernel)",
   "language": "python",
   "name": "python3"
  },
  "language_info": {
   "codemirror_mode": {
    "name": "ipython",
    "version": 3
   },
   "file_extension": ".py",
   "mimetype": "text/x-python",
   "name": "python",
   "nbconvert_exporter": "python",
   "pygments_lexer": "ipython3",
   "version": "3.9.13"
  }
 },
 "nbformat": 4,
 "nbformat_minor": 5
}
