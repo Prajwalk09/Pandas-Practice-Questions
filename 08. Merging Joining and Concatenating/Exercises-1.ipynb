{
 "cells": [
  {
   "cell_type": "markdown",
   "id": "ca91b075",
   "metadata": {},
   "source": [
    "## Combining multiple datasets with `merge`, `join`, and `concat` "
   ]
  },
  {
   "cell_type": "markdown",
   "id": "f707b947",
   "metadata": {},
   "source": [
    "### Import the pandas library "
   ]
  },
  {
   "cell_type": "code",
   "execution_count": null,
   "id": "996f6df7",
   "metadata": {},
   "outputs": [],
   "source": []
  },
  {
   "cell_type": "markdown",
   "id": "fa2042d3",
   "metadata": {},
   "source": [
    "### Load the CSV file from this [link](https://raw.githubusercontent.com/Prajwalk09/Data-Analysis-with-Pandas-and-Python/refs/heads/main/Merging%20Joining%20and%20Concatenating/Restaurant%20-%20Week%201%20Sales.csv) into a DataFrame and assign it to a variable named `week1`"
   ]
  },
  {
   "cell_type": "code",
   "execution_count": null,
   "id": "66a8e399",
   "metadata": {},
   "outputs": [],
   "source": []
  },
  {
   "cell_type": "markdown",
   "id": "24a5f99b",
   "metadata": {},
   "source": [
    "### Load the CSV file from this [link](https://raw.githubusercontent.com/Prajwalk09/Data-Analysis-with-Pandas-and-Python/refs/heads/main/Merging%20Joining%20and%20Concatenating/Restaurant%20-%20Week%202%20Sales.csv) into a DataFrame and assign it to a variable named `week2`"
   ]
  },
  {
   "cell_type": "code",
   "execution_count": null,
   "id": "87ef4733",
   "metadata": {},
   "outputs": [],
   "source": []
  },
  {
   "cell_type": "markdown",
   "id": "211c1852",
   "metadata": {},
   "source": [
    "### Load the CSV file from this [link](https://raw.githubusercontent.com/Prajwalk09/Data-Analysis-with-Pandas-and-Python/refs/heads/main/Merging%20Joining%20and%20Concatenating/Restaurant%20-%20Customers.csv) into a DataFrame and assign it to a variable named `customers`"
   ]
  },
  {
   "cell_type": "code",
   "execution_count": null,
   "id": "11ba8818",
   "metadata": {},
   "outputs": [],
   "source": []
  },
  {
   "cell_type": "markdown",
   "id": "54bbe7a9",
   "metadata": {},
   "source": [
    "### Load the CSV file from this [link](https://raw.githubusercontent.com/Prajwalk09/Data-Analysis-with-Pandas-and-Python/refs/heads/main/Merging%20Joining%20and%20Concatenating/Restaurant%20-%20Foods.csv) into a DataFrame and assign it to a variable named `foods`"
   ]
  },
  {
   "cell_type": "code",
   "execution_count": null,
   "id": "d0967e7e",
   "metadata": {},
   "outputs": [],
   "source": []
  },
  {
   "cell_type": "markdown",
   "id": "47d04f99",
   "metadata": {},
   "source": [
    "### Display the first 5 rows of all the DataFrames "
   ]
  },
  {
   "cell_type": "code",
   "execution_count": null,
   "id": "6c826d9f",
   "metadata": {},
   "outputs": [],
   "source": []
  },
  {
   "cell_type": "code",
   "execution_count": null,
   "id": "5c25d3cf",
   "metadata": {},
   "outputs": [],
   "source": []
  },
  {
   "cell_type": "code",
   "execution_count": null,
   "id": "9fe62235",
   "metadata": {},
   "outputs": [],
   "source": []
  },
  {
   "cell_type": "code",
   "execution_count": null,
   "id": "216be217",
   "metadata": {},
   "outputs": [],
   "source": []
  },
  {
   "cell_type": "markdown",
   "id": "f535c0a3",
   "metadata": {},
   "source": [
    "### Concatenate `week1` and `week2` DataFrames into a single DataFrame"
   ]
  },
  {
   "cell_type": "code",
   "execution_count": null,
   "id": "c362db8e",
   "metadata": {},
   "outputs": [],
   "source": []
  },
  {
   "cell_type": "markdown",
   "id": "8b41b570",
   "metadata": {},
   "source": [
    "<span style=\"color:blue; font-weight:bold;\">What inferences can you draw from the index of the newly formed DataFrame?</span>\n",
    "### Note on Concatenating DataFrames\n",
    "\n",
    "When concatenating DataFrames, Pandas copies and pastes the indices from the original DataFrames without resetting them. This behavior can result in **repetition of indices**, which might cause issues if unique indexing is required for further operations. \n",
    "\n",
    "To avoid this, consider resetting the index after concatenation using the `ignore_index` parameter or `reset_index()` method.\n"
   ]
  },
  {
   "cell_type": "markdown",
   "id": "4cfe73df",
   "metadata": {},
   "source": [
    "### Concatenate the `week1` and `week2` DataFrames into a single DataFrame, ensuring that the index is reset"
   ]
  },
  {
   "cell_type": "code",
   "execution_count": null,
   "id": "54600b5f",
   "metadata": {},
   "outputs": [],
   "source": []
  },
  {
   "cell_type": "markdown",
   "id": "5d15d43b",
   "metadata": {},
   "source": [
    "### Concatenate the `week1` and `week2` DataFrames into a single DataFrame called `sales`, with `Week1` and `Week2` as the hierarchical index"
   ]
  },
  {
   "cell_type": "code",
   "execution_count": null,
   "id": "3a0af10a",
   "metadata": {},
   "outputs": [],
   "source": []
  },
  {
   "cell_type": "markdown",
   "id": "22b610ae",
   "metadata": {},
   "source": [
    "### Display the first 5 rows of the `sales` DataFrame "
   ]
  },
  {
   "cell_type": "code",
   "execution_count": null,
   "id": "d309b0e0",
   "metadata": {},
   "outputs": [],
   "source": []
  },
  {
   "cell_type": "markdown",
   "id": "049dd7d1",
   "metadata": {},
   "source": [
    "### Merge the `week1` and `week2` DataFrames on the `Customer ID` column. Use an `inner join` and add suffixes `'- Week1'` and `'- Week2'` to distinguish columns with the same name in both DataFrames"
   ]
  },
  {
   "cell_type": "code",
   "execution_count": null,
   "id": "8422824c",
   "metadata": {},
   "outputs": [],
   "source": []
  },
  {
   "cell_type": "markdown",
   "id": "2e3e92ad",
   "metadata": {},
   "source": [
    "### Merge the `week1` and `week2` DataFrames on both the `Customer ID` and `Food ID` columns. Use an `inner join` to combine the data"
   ]
  },
  {
   "cell_type": "code",
   "execution_count": null,
   "id": "836ea8e2",
   "metadata": {},
   "outputs": [],
   "source": []
  },
  {
   "cell_type": "markdown",
   "id": "38b24231",
   "metadata": {},
   "source": [
    "### Merge the `week1` and `week2` DataFrames on the `Customer ID` column using an outer join with an indicator column\n",
    "\n",
    "- Write code to merge the `week1` and `week2` DataFrames on the `Customer ID` column.\n",
    "- Use an outer join to combine the data.\n",
    "- Add suffixes `'- Week1'` and `'- Week2'` to distinguish columns with the same name in both DataFrames.\n",
    "- Include an indicator column to show which DataFrame each row came from.\n",
    "- Store the resultant DataFrame in a variable named `merged_data`."
   ]
  },
  {
   "cell_type": "code",
   "execution_count": null,
   "id": "b03806c8",
   "metadata": {},
   "outputs": [],
   "source": []
  },
  {
   "cell_type": "markdown",
   "id": "009ea2d2",
   "metadata": {},
   "source": [
    "### Trivia: How does the `indicator` parameter work in the `pd.merge()` function?\n",
    "\n",
    "- When using the `indicator=True` parameter in the `pd.merge()` function, an additional column called `_merge` is created.\n",
    "- This column indicates the source of each row:\n",
    "  - `'left_only'`: The row is only in the left DataFrame (`week1`).\n",
    "  - `'right_only'`: The row is only in the right DataFrame (`week2`).\n",
    "  - `'both'`: The row exists in both DataFrames.\n",
    "- What does the `_merge` column reveal about the merged data?"
   ]
  },
  {
   "cell_type": "markdown",
   "id": "9b90130b",
   "metadata": {},
   "source": [
    "### Find the count of each category in the `_merge` column of the merged data"
   ]
  },
  {
   "cell_type": "code",
   "execution_count": null,
   "id": "5afc2a3c",
   "metadata": {},
   "outputs": [],
   "source": []
  },
  {
   "cell_type": "markdown",
   "id": "8b2f5710",
   "metadata": {},
   "source": [
    "### Filter rows having the value in the `_merge` column as either `right_only` or `left_only`"
   ]
  },
  {
   "cell_type": "code",
   "execution_count": null,
   "id": "735b7b09",
   "metadata": {},
   "outputs": [],
   "source": []
  },
  {
   "cell_type": "markdown",
   "id": "95baf545",
   "metadata": {},
   "source": [
    "### Perform a left join between `week1` and `foods` DataFrames on the `Food ID` column\n",
    "\n",
    "- Write code to merge the `week1` and `foods` DataFrames on the `Food ID` column using a left join.\n",
    "- Sort the resulting DataFrame by the `Food ID` column after the merge using an inbuilt parameter."
   ]
  },
  {
   "cell_type": "code",
   "execution_count": null,
   "id": "8afde258",
   "metadata": {},
   "outputs": [],
   "source": []
  },
  {
   "cell_type": "markdown",
   "id": "ca0ef6c7",
   "metadata": {},
   "source": [
    "### Usage of `left_on` and `right_on` in Merging DataFrames\n",
    "\n",
    "In pandas, when merging two DataFrames that have different column names for the key columns, the `left_on` and `right_on` parameters are used to specify which columns should be used for merging from the left and right DataFrames, respectively."
   ]
  },
  {
   "cell_type": "markdown",
   "id": "ed839b1b",
   "metadata": {},
   "source": [
    "### Perform the following operations on the `week1` and `foods` DataFrame\n",
    "\n",
    "- Write code to merge the `week1` and `foods` DataFrames on the `Food ID` column using a `left join`.\n",
    "- The merge should retain all rows from the `week1` DataFrame, and include matching rows from the `foods` DataFrame.\n",
    "- Store the merged DataFrame in a new variable called `first`.\n",
    "\n",
    "<span style=\"color:blue; font-weight:bold\">\n",
    "What happens when a row in \"week1\" does not have a matching Food ID in \"foods\"?\n",
    "</span"
   ]
  },
  {
   "cell_type": "code",
   "execution_count": null,
   "id": "4c046fed",
   "metadata": {},
   "outputs": [],
   "source": []
  },
  {
   "cell_type": "markdown",
   "id": "8d0c9e39",
   "metadata": {},
   "source": [
    "### Merge the `first` DataFrame with the `customers` DataFrame on `Customer ID` and `ID` using a left join\n",
    "\n",
    "- Write code to merge the `first` DataFrame with the `customers` DataFrame on the `Customer ID` column from `first` and the `ID` column from `customers`.\n",
    "- Use a left join to keep all rows from the `first` DataFrame and include matching rows from the `customers` DataFrame.\n",
    "- Note: Since the column names in both DataFrames are different (`Customer ID` in `first` and `ID` in `customers`), use appropriate parameters to specify the columns for merging."
   ]
  },
  {
   "cell_type": "code",
   "execution_count": null,
   "id": "08f2d8db",
   "metadata": {},
   "outputs": [],
   "source": []
  }
 ],
 "metadata": {
  "kernelspec": {
   "display_name": "Python 3 (ipykernel)",
   "language": "python",
   "name": "python3"
  },
  "language_info": {
   "codemirror_mode": {
    "name": "ipython",
    "version": 3
   },
   "file_extension": ".py",
   "mimetype": "text/x-python",
   "name": "python",
   "nbconvert_exporter": "python",
   "pygments_lexer": "ipython3",
   "version": "3.9.13"
  }
 },
 "nbformat": 4,
 "nbformat_minor": 5
}
