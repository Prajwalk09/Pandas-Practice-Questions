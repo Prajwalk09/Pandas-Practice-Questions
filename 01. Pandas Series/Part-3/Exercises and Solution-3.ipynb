{
 "cells": [
  {
   "cell_type": "markdown",
   "id": "a9b8cb9a",
   "metadata": {},
   "source": [
    "### Extracting Series Values by Index Labels "
   ]
  },
  {
   "cell_type": "markdown",
   "id": "1937549e",
   "metadata": {},
   "source": [
    "### Import the necessary libraries"
   ]
  },
  {
   "cell_type": "code",
   "execution_count": 1,
   "id": "5ea2ae4f",
   "metadata": {},
   "outputs": [],
   "source": [
    "import pandas as pd"
   ]
  },
  {
   "cell_type": "markdown",
   "id": "2e040a3b",
   "metadata": {},
   "source": [
    "### Load another csv file from this <a href= \"https://raw.githubusercontent.com/Prajwalk09/Data-Analysis-with-Pandas-and-Python/refs/heads/main/Series/pokemon.csv\">link</a> into a varaible called `pokemon_data`. Set the *Pokemon* column as the *Index* column and store the result as a Series"
   ]
  },
  {
   "cell_type": "code",
   "execution_count": 7,
   "id": "cd661003",
   "metadata": {},
   "outputs": [],
   "source": [
    "url = 'https://raw.githubusercontent.com/Prajwalk09/Data-Analysis-with-Pandas-and-Python/refs/heads/main/Series/pokemon.csv'\n",
    "pokemon_data = pd.read_csv(url, index_col = ['Pokemon']).squeeze()"
   ]
  },
  {
   "cell_type": "code",
   "execution_count": 8,
   "id": "34e851b5",
   "metadata": {},
   "outputs": [
    {
     "data": {
      "text/plain": [
       "Pokemon\n",
       "Bulbasaur     Grass\n",
       "Ivysaur       Grass\n",
       "Venusaur      Grass\n",
       "Charmander     Fire\n",
       "Charmeleon     Fire\n",
       "Name: Type, dtype: object"
      ]
     },
     "execution_count": 8,
     "metadata": {},
     "output_type": "execute_result"
    }
   ],
   "source": [
    "pokemon_data.head()"
   ]
  },
  {
   "cell_type": "markdown",
   "id": "6dc5cdf6",
   "metadata": {},
   "source": [
    "### Retrieve and display the values associated with the index `'Charizard'` and `'Pikachu'` from the `pokemon` Series"
   ]
  },
  {
   "cell_type": "code",
   "execution_count": 9,
   "id": "4d43b754",
   "metadata": {},
   "outputs": [
    {
     "data": {
      "text/plain": [
       "Pokemon\n",
       "Charizard        Fire\n",
       "Pikachu      Electric\n",
       "Name: Type, dtype: object"
      ]
     },
     "execution_count": 9,
     "metadata": {},
     "output_type": "execute_result"
    }
   ],
   "source": [
    "pokemon_data[['Charizard', 'Pikachu']]"
   ]
  },
  {
   "cell_type": "markdown",
   "id": "d8d78d7d",
   "metadata": {},
   "source": [
    "### Retrieve and display the values at the `'second'` and `'third'` indices, respectively"
   ]
  },
  {
   "cell_type": "code",
   "execution_count": 10,
   "id": "61cb4ac4",
   "metadata": {},
   "outputs": [
    {
     "data": {
      "text/plain": [
       "Pokemon\n",
       "Venusaur      Grass\n",
       "Charmander     Fire\n",
       "Name: Type, dtype: object"
      ]
     },
     "execution_count": 10,
     "metadata": {},
     "output_type": "execute_result"
    }
   ],
   "source": [
    "pokemon_data[[2,3]]"
   ]
  },
  {
   "cell_type": "code",
   "execution_count": 11,
   "id": "a67c4518",
   "metadata": {},
   "outputs": [
    {
     "name": "stdout",
     "output_type": "stream",
     "text": [
      "Grass\n",
      "Fire\n"
     ]
    }
   ],
   "source": [
    "print(pokemon_data[2])\n",
    "print(pokemon_data[3])"
   ]
  },
  {
   "cell_type": "markdown",
   "id": "0dc370dc",
   "metadata": {},
   "source": [
    "### Retrieve and display the data from the `pokemon` Series for the range of indices from `'Charmander'` to `'Weedle'`"
   ]
  },
  {
   "cell_type": "code",
   "execution_count": 12,
   "id": "7ecb0e89",
   "metadata": {},
   "outputs": [
    {
     "data": {
      "text/plain": [
       "Pokemon\n",
       "Charmander     Fire\n",
       "Charmeleon     Fire\n",
       "Charizard      Fire\n",
       "Squirtle      Water\n",
       "Wartortle     Water\n",
       "Blastoise     Water\n",
       "Caterpie        Bug\n",
       "Metapod         Bug\n",
       "Butterfree      Bug\n",
       "Weedle          Bug\n",
       "Name: Type, dtype: object"
      ]
     },
     "execution_count": 12,
     "metadata": {},
     "output_type": "execute_result"
    }
   ],
   "source": [
    "pokemon_data['Charmander':'Weedle']"
   ]
  },
  {
   "cell_type": "markdown",
   "id": "6f4ad6d3",
   "metadata": {},
   "source": [
    "### Sort the `pokemon` Series by its index in ascending order"
   ]
  },
  {
   "cell_type": "code",
   "execution_count": 13,
   "id": "e7100211",
   "metadata": {},
   "outputs": [
    {
     "data": {
      "text/plain": [
       "Pokemon\n",
       "Abomasnow      Grass\n",
       "Abra         Psychic\n",
       "Absol           Dark\n",
       "Accelgor         Bug\n",
       "Aegislash      Steel\n",
       "              ...   \n",
       "Zoroark         Dark\n",
       "Zorua           Dark\n",
       "Zubat         Poison\n",
       "Zweilous        Dark\n",
       "Zygarde       Dragon\n",
       "Name: Type, Length: 721, dtype: object"
      ]
     },
     "execution_count": 13,
     "metadata": {},
     "output_type": "execute_result"
    }
   ],
   "source": [
    "pokemon_data.sort_index(ascending = True)"
   ]
  },
  {
   "cell_type": "markdown",
   "id": "b36819cd",
   "metadata": {},
   "source": [
    "### Count and display the occurrences of each unique value in the `pokemon` Series"
   ]
  },
  {
   "cell_type": "code",
   "execution_count": 15,
   "id": "d938b959",
   "metadata": {},
   "outputs": [
    {
     "data": {
      "text/plain": [
       "Water       105\n",
       "Normal       93\n",
       "Grass        66\n",
       "Bug          63\n",
       "Fire         47\n",
       "Psychic      47\n",
       "Rock         41\n",
       "Electric     36\n",
       "Ground       30\n",
       "Poison       28\n",
       "Dark         28\n",
       "Fighting     25\n",
       "Dragon       24\n",
       "Ghost        23\n",
       "Ice          23\n",
       "Steel        22\n",
       "Fairy        17\n",
       "Flying        3\n",
       "Name: Type, dtype: int64"
      ]
     },
     "execution_count": 15,
     "metadata": {},
     "output_type": "execute_result"
    }
   ],
   "source": [
    "pokemon_data.value_counts()"
   ]
  },
  {
   "cell_type": "markdown",
   "id": "ce0e0821",
   "metadata": {},
   "source": [
    "### Load another csv file from this <a href= \"https://raw.githubusercontent.com/Prajwalk09/Data-Analysis-with-Pandas-and-Python/refs/heads/main/Series/google_stock_price.csv\">link</a> into a varaible called `stock_data`. Display the first few rows of this Series"
   ]
  },
  {
   "cell_type": "code",
   "execution_count": 18,
   "id": "69a2367b",
   "metadata": {},
   "outputs": [],
   "source": [
    "url = 'https://raw.githubusercontent.com/Prajwalk09/Data-Analysis-with-Pandas-and-Python/refs/heads/main/Series/google_stock_price.csv'\n",
    "stock_data = pd.read_csv(url).squeeze()"
   ]
  },
  {
   "cell_type": "code",
   "execution_count": 19,
   "id": "d03289b4",
   "metadata": {},
   "outputs": [
    {
     "data": {
      "text/plain": [
       "0    50.12\n",
       "1    54.10\n",
       "2    54.65\n",
       "3    52.38\n",
       "4    52.95\n",
       "Name: Stock Price, dtype: float64"
      ]
     },
     "execution_count": 19,
     "metadata": {},
     "output_type": "execute_result"
    }
   ],
   "source": [
    "stock_data.head()"
   ]
  },
  {
   "cell_type": "markdown",
   "id": "9f31834d",
   "metadata": {},
   "source": [
    "### Write a function named `classify_performance` that takes a stock price as input and returns:\n",
    "- `\"Okay\"` if the stock price is less than 300.\n",
    "- `\"Satisfactory\"` if the stock price is between 300 and 650 (inclusive).\n",
    "- `\"Incredible!\"` if the stock price is greater than 650."
   ]
  },
  {
   "cell_type": "code",
   "execution_count": 20,
   "id": "acb807df",
   "metadata": {},
   "outputs": [],
   "source": [
    "def classify_performance(stock_price):\n",
    "    if stock_price < 300:\n",
    "        return \"Okay\"\n",
    "    elif stock_price < 650:\n",
    "        return \"Satisfactory\"\n",
    "    else:\n",
    "        return \"Incredible!\""
   ]
  },
  {
   "cell_type": "markdown",
   "id": "d1b8371d",
   "metadata": {},
   "source": [
    "### Apply the `classify_performance` function to the `stock_data` Series and count the occurrences of each performance category"
   ]
  },
  {
   "cell_type": "code",
   "execution_count": 26,
   "id": "c85f8b98",
   "metadata": {},
   "outputs": [
    {
     "data": {
      "text/plain": [
       "0              Okay\n",
       "1              Okay\n",
       "2              Okay\n",
       "3              Okay\n",
       "4              Okay\n",
       "           ...     \n",
       "3007    Incredible!\n",
       "3008    Incredible!\n",
       "3009    Incredible!\n",
       "3010    Incredible!\n",
       "3011    Incredible!\n",
       "Name: Stock Price, Length: 3012, dtype: object"
      ]
     },
     "execution_count": 26,
     "metadata": {},
     "output_type": "execute_result"
    }
   ],
   "source": [
    "stock_data.apply(func = classify_performance)"
   ]
  },
  {
   "cell_type": "code",
   "execution_count": 25,
   "id": "e3b24750",
   "metadata": {},
   "outputs": [
    {
     "data": {
      "text/plain": [
       "Okay            1721\n",
       "Satisfactory    1075\n",
       "Incredible!      216\n",
       "Name: Stock Price, dtype: int64"
      ]
     },
     "execution_count": 25,
     "metadata": {},
     "output_type": "execute_result"
    }
   ],
   "source": [
    "stock_data.apply(func = classify_performance).value_counts()"
   ]
  },
  {
   "cell_type": "code",
   "execution_count": null,
   "id": "afb24297",
   "metadata": {},
   "outputs": [],
   "source": []
  }
 ],
 "metadata": {
  "kernelspec": {
   "display_name": "Python 3 (ipykernel)",
   "language": "python",
   "name": "python3"
  },
  "language_info": {
   "codemirror_mode": {
    "name": "ipython",
    "version": 3
   },
   "file_extension": ".py",
   "mimetype": "text/x-python",
   "name": "python",
   "nbconvert_exporter": "python",
   "pygments_lexer": "ipython3",
   "version": "3.9.13"
  }
 },
 "nbformat": 4,
 "nbformat_minor": 5
}
