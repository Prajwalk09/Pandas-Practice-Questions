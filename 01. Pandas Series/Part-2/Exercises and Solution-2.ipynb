{
 "cells": [
  {
   "cell_type": "markdown",
   "id": "d36fa838",
   "metadata": {},
   "source": [
    "### Reading Files in Pandas"
   ]
  },
  {
   "cell_type": "markdown",
   "id": "af123466",
   "metadata": {},
   "source": [
    "### Import the necessary libraries"
   ]
  },
  {
   "cell_type": "code",
   "execution_count": 1,
   "id": "c94299b8",
   "metadata": {},
   "outputs": [],
   "source": [
    "import pandas as pd"
   ]
  },
  {
   "cell_type": "markdown",
   "id": "1fa8c780",
   "metadata": {},
   "source": [
    "### Load the csv file from this <a href = \"https://raw.githubusercontent.com/Prajwalk09/Data-Analysis-with-Pandas-and-Python/refs/heads/main/Series/google_stock_price.csv\">link</a> into a variable called `stock_data` as a Series"
   ]
  },
  {
   "cell_type": "code",
   "execution_count": 2,
   "id": "4373f4a7",
   "metadata": {},
   "outputs": [],
   "source": [
    "stock_data = pd.read_csv('https://raw.githubusercontent.com/Prajwalk09/Data-Analysis-with-Pandas-and-Python/refs/heads/main/Series/google_stock_price.csv').squeeze()"
   ]
  },
  {
   "cell_type": "markdown",
   "id": "cfa6c065",
   "metadata": {},
   "source": [
    "### Load another csv file from this <a href= \"https://raw.githubusercontent.com/Prajwalk09/Data-Analysis-with-Pandas-and-Python/refs/heads/main/Series/pokemon.csv\">link</a> into a varaible called `pokemon_data`. Use only the *Pokemon* column and store the result as a Series"
   ]
  },
  {
   "cell_type": "code",
   "execution_count": 3,
   "id": "a0c5f406",
   "metadata": {},
   "outputs": [],
   "source": [
    "pokemon_data = pd.read_csv('https://raw.githubusercontent.com/Prajwalk09/Data-Analysis-with-Pandas-and-Python/refs/heads/main/Series/pokemon.csv', usecols = ['Pokemon']).squeeze()"
   ]
  },
  {
   "cell_type": "markdown",
   "id": "af2cc6ca",
   "metadata": {},
   "source": [
    "### Display the first 5 rows from both the variables"
   ]
  },
  {
   "cell_type": "code",
   "execution_count": 4,
   "id": "013a59e4",
   "metadata": {},
   "outputs": [
    {
     "data": {
      "text/plain": [
       "0    50.12\n",
       "1    54.10\n",
       "2    54.65\n",
       "3    52.38\n",
       "4    52.95\n",
       "Name: Stock Price, dtype: float64"
      ]
     },
     "execution_count": 4,
     "metadata": {},
     "output_type": "execute_result"
    }
   ],
   "source": [
    "stock_data.head()"
   ]
  },
  {
   "cell_type": "code",
   "execution_count": 5,
   "id": "f21f1df9",
   "metadata": {},
   "outputs": [
    {
     "data": {
      "text/plain": [
       "0     Bulbasaur\n",
       "1       Ivysaur\n",
       "2      Venusaur\n",
       "3    Charmander\n",
       "4    Charmeleon\n",
       "Name: Pokemon, dtype: object"
      ]
     },
     "execution_count": 5,
     "metadata": {},
     "output_type": "execute_result"
    }
   ],
   "source": [
    "pokemon_data.head()"
   ]
  },
  {
   "cell_type": "markdown",
   "id": "62de11cf",
   "metadata": {},
   "source": [
    "### Display the length of the `pokemon_data` variable"
   ]
  },
  {
   "cell_type": "code",
   "execution_count": 6,
   "id": "d185b83c",
   "metadata": {},
   "outputs": [
    {
     "data": {
      "text/plain": [
       "721"
      ]
     },
     "execution_count": 6,
     "metadata": {},
     "output_type": "execute_result"
    }
   ],
   "source": [
    "len(pokemon_data)"
   ]
  },
  {
   "cell_type": "markdown",
   "id": "a8290113",
   "metadata": {},
   "source": [
    "### Use the `min()` and `max()` functions on `stock_data` and `pokemon_data`"
   ]
  },
  {
   "cell_type": "markdown",
   "id": "b699cbc3",
   "metadata": {},
   "source": [
    "<span style=\"font-size:14px; color:blue;\">What conclusions can you make about the behavior of `min()` and `max()` when applied to non-numeric data?</span>"
   ]
  },
  {
   "cell_type": "code",
   "execution_count": 7,
   "id": "51c09ce2",
   "metadata": {},
   "outputs": [
    {
     "data": {
      "text/plain": [
       "49.95"
      ]
     },
     "execution_count": 7,
     "metadata": {},
     "output_type": "execute_result"
    }
   ],
   "source": [
    "min(stock_data)"
   ]
  },
  {
   "cell_type": "code",
   "execution_count": 8,
   "id": "92dab805",
   "metadata": {},
   "outputs": [
    {
     "data": {
      "text/plain": [
       "782.22"
      ]
     },
     "execution_count": 8,
     "metadata": {},
     "output_type": "execute_result"
    }
   ],
   "source": [
    "max(stock_data)"
   ]
  },
  {
   "cell_type": "code",
   "execution_count": 9,
   "id": "675b7107",
   "metadata": {},
   "outputs": [
    {
     "data": {
      "text/plain": [
       "'Abomasnow'"
      ]
     },
     "execution_count": 9,
     "metadata": {},
     "output_type": "execute_result"
    }
   ],
   "source": [
    "min(pokemon_data)"
   ]
  },
  {
   "cell_type": "code",
   "execution_count": 10,
   "id": "f403ff5b",
   "metadata": {},
   "outputs": [
    {
     "data": {
      "text/plain": [
       "'Zygarde'"
      ]
     },
     "execution_count": 10,
     "metadata": {},
     "output_type": "execute_result"
    }
   ],
   "source": [
    "max(pokemon_data)"
   ]
  },
  {
   "cell_type": "markdown",
   "id": "60518045",
   "metadata": {},
   "source": [
    "### Sort the values in the `pokemon_data` in ascending order and the values in `stock_data` in descending order"
   ]
  },
  {
   "cell_type": "code",
   "execution_count": 11,
   "id": "47181e0f",
   "metadata": {},
   "outputs": [
    {
     "data": {
      "text/plain": [
       "459    Abomasnow\n",
       "62          Abra\n",
       "358        Absol\n",
       "616     Accelgor\n",
       "680    Aegislash\n",
       "         ...    \n",
       "570      Zoroark\n",
       "569        Zorua\n",
       "40         Zubat\n",
       "633     Zweilous\n",
       "717      Zygarde\n",
       "Name: Pokemon, Length: 721, dtype: object"
      ]
     },
     "execution_count": 11,
     "metadata": {},
     "output_type": "execute_result"
    }
   ],
   "source": [
    "pokemon_data.sort_values(ascending = True)"
   ]
  },
  {
   "cell_type": "code",
   "execution_count": 12,
   "id": "5202beea",
   "metadata": {},
   "outputs": [
    {
     "data": {
      "text/plain": [
       "3011    782.22\n",
       "2859    776.60\n",
       "3009    773.18\n",
       "3007    772.88\n",
       "3010    771.61\n",
       "         ...  \n",
       "12       50.74\n",
       "10       50.70\n",
       "0        50.12\n",
       "9        50.07\n",
       "11       49.95\n",
       "Name: Stock Price, Length: 3012, dtype: float64"
      ]
     },
     "execution_count": 12,
     "metadata": {},
     "output_type": "execute_result"
    }
   ],
   "source": [
    "stock_data.sort_values(ascending = False)"
   ]
  },
  {
   "cell_type": "markdown",
   "id": "79d88f0f",
   "metadata": {},
   "source": [
    "### Extract the 5th value from the `pokemon_data` Series"
   ]
  },
  {
   "cell_type": "code",
   "execution_count": 13,
   "id": "e1d78549",
   "metadata": {},
   "outputs": [
    {
     "data": {
      "text/plain": [
       "'Charizard'"
      ]
     },
     "execution_count": 13,
     "metadata": {},
     "output_type": "execute_result"
    }
   ],
   "source": [
    "pokemon_data[5]"
   ]
  },
  {
   "cell_type": "markdown",
   "id": "ac3d1c9a",
   "metadata": {},
   "source": [
    "### Extract the 10th, 15th and 20th value from the `pokemon_data` Series"
   ]
  },
  {
   "cell_type": "code",
   "execution_count": 14,
   "id": "4a716c07",
   "metadata": {},
   "outputs": [
    {
     "data": {
      "text/plain": [
       "10    Metapod\n",
       "15     Pidgey\n",
       "20    Spearow\n",
       "Name: Pokemon, dtype: object"
      ]
     },
     "execution_count": 14,
     "metadata": {},
     "output_type": "execute_result"
    }
   ],
   "source": [
    "pokemon_data[[10,15,20]]"
   ]
  },
  {
   "cell_type": "markdown",
   "id": "339ef4c6",
   "metadata": {},
   "source": [
    "### Extract all the values between the 10th and 20th index in the `pokemon_data` Series"
   ]
  },
  {
   "cell_type": "code",
   "execution_count": 15,
   "id": "2d176baf",
   "metadata": {},
   "outputs": [
    {
     "data": {
      "text/plain": [
       "10       Metapod\n",
       "11    Butterfree\n",
       "12        Weedle\n",
       "13        Kakuna\n",
       "14      Beedrill\n",
       "15        Pidgey\n",
       "16     Pidgeotto\n",
       "17       Pidgeot\n",
       "18       Rattata\n",
       "19      Raticate\n",
       "Name: Pokemon, dtype: object"
      ]
     },
     "execution_count": 15,
     "metadata": {},
     "output_type": "execute_result"
    }
   ],
   "source": [
    "pokemon_data[10:20]"
   ]
  },
  {
   "cell_type": "code",
   "execution_count": null,
   "id": "627afb65",
   "metadata": {},
   "outputs": [],
   "source": []
  }
 ],
 "metadata": {
  "kernelspec": {
   "display_name": "Python 3 (ipykernel)",
   "language": "python",
   "name": "python3"
  },
  "language_info": {
   "codemirror_mode": {
    "name": "ipython",
    "version": 3
   },
   "file_extension": ".py",
   "mimetype": "text/x-python",
   "name": "python",
   "nbconvert_exporter": "python",
   "pygments_lexer": "ipython3",
   "version": "3.9.13"
  }
 },
 "nbformat": 4,
 "nbformat_minor": 5
}
