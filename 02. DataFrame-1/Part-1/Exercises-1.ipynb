{
 "cells": [
  {
   "cell_type": "markdown",
   "id": "6b3e6012",
   "metadata": {},
   "source": [
    "## Introduction to DataFrames"
   ]
  },
  {
   "cell_type": "markdown",
   "id": "b418112a",
   "metadata": {},
   "source": [
    "### Import the Pandas library"
   ]
  },
  {
   "cell_type": "code",
   "execution_count": null,
   "id": "d98e9d81",
   "metadata": {},
   "outputs": [],
   "source": []
  },
  {
   "cell_type": "markdown",
   "id": "d36402e7",
   "metadata": {},
   "source": [
    "### Load the CSV file from this [link](https://raw.githubusercontent.com/Prajwalk09/Data-Analysis-with-Pandas-and-Python/refs/heads/main/DataFrame-1/nba.csv) into a DataFrame and assign it to a variable named `nba`"
   ]
  },
  {
   "cell_type": "code",
   "execution_count": null,
   "id": "3eda329b",
   "metadata": {},
   "outputs": [],
   "source": []
  },
  {
   "cell_type": "markdown",
   "id": "fe72d14d",
   "metadata": {},
   "source": [
    "### Display the first five rows of the `nba` DataFrame"
   ]
  },
  {
   "cell_type": "code",
   "execution_count": null,
   "id": "805c0a15",
   "metadata": {},
   "outputs": [],
   "source": []
  },
  {
   "cell_type": "markdown",
   "id": "9b7303db",
   "metadata": {},
   "source": [
    "### Display the last five rows of the `nba` DataFrame"
   ]
  },
  {
   "cell_type": "code",
   "execution_count": null,
   "id": "40ddb593",
   "metadata": {},
   "outputs": [],
   "source": []
  },
  {
   "cell_type": "markdown",
   "id": "df750f03",
   "metadata": {},
   "source": [
    "### Find and display the total number of rows in the `nba` DataFrame"
   ]
  },
  {
   "cell_type": "code",
   "execution_count": null,
   "id": "09f7f3bc",
   "metadata": {},
   "outputs": [],
   "source": []
  },
  {
   "cell_type": "markdown",
   "id": "5170fc84",
   "metadata": {},
   "source": [
    "### Display the dimensions of the `nba` DataFrame"
   ]
  },
  {
   "cell_type": "code",
   "execution_count": null,
   "id": "307ca54f",
   "metadata": {},
   "outputs": [],
   "source": []
  },
  {
   "cell_type": "markdown",
   "id": "4489d0b3",
   "metadata": {},
   "source": [
    "### Display the index of the data types of the columns in the `nba` DataFrame"
   ]
  },
  {
   "cell_type": "code",
   "execution_count": null,
   "id": "c3bb070b",
   "metadata": {},
   "outputs": [],
   "source": []
  },
  {
   "cell_type": "markdown",
   "id": "63846c58",
   "metadata": {},
   "source": [
    "### Display the summary information of the `nba` DataFrame, including the column names, non-null counts, and data types"
   ]
  },
  {
   "cell_type": "code",
   "execution_count": null,
   "id": "efdcf045",
   "metadata": {},
   "outputs": [],
   "source": []
  },
  {
   "cell_type": "markdown",
   "id": "3ad5b916",
   "metadata": {},
   "source": [
    "### Select and display the columns `'Salary'`, `'Team'`, and `'Name'` from the `nba` DataFrame."
   ]
  },
  {
   "cell_type": "code",
   "execution_count": null,
   "id": "c0bc7784",
   "metadata": {},
   "outputs": [],
   "source": []
  },
  {
   "cell_type": "markdown",
   "id": "6e4b0bde",
   "metadata": {},
   "source": [
    "### Add a new column named `'Sport'` to the `nba` DataFrame and assign the value `\"Basketball\"` to all the rows in that column"
   ]
  },
  {
   "cell_type": "code",
   "execution_count": null,
   "id": "47d761bb",
   "metadata": {},
   "outputs": [],
   "source": []
  },
  {
   "cell_type": "markdown",
   "id": "4d7a3a82",
   "metadata": {},
   "source": [
    "### Add a new column named `'League'` to the `nba` DataFrame and assign the value `\"National Basketball Association\"` to all the rows in that column"
   ]
  },
  {
   "cell_type": "code",
   "execution_count": null,
   "id": "e9fde50d",
   "metadata": {},
   "outputs": [],
   "source": []
  },
  {
   "cell_type": "markdown",
   "id": "dbfc79bf",
   "metadata": {},
   "source": [
    "### Delete the two newly inserted columns"
   ]
  },
  {
   "cell_type": "code",
   "execution_count": null,
   "id": "b8dcc8a8",
   "metadata": {},
   "outputs": [],
   "source": []
  },
  {
   "cell_type": "markdown",
   "id": "f0aae923",
   "metadata": {},
   "source": [
    "### Insert a new column named `'Sport'` at the 3rd position in the `nba` DataFrame, with the value `\"Basketball\"` assigned to all the rows in that column using the `insert()` function"
   ]
  },
  {
   "cell_type": "code",
   "execution_count": null,
   "id": "9f71be45",
   "metadata": {},
   "outputs": [],
   "source": []
  }
 ],
 "metadata": {
  "kernelspec": {
   "display_name": "Python 3 (ipykernel)",
   "language": "python",
   "name": "python3"
  },
  "language_info": {
   "codemirror_mode": {
    "name": "ipython",
    "version": 3
   },
   "file_extension": ".py",
   "mimetype": "text/x-python",
   "name": "python",
   "nbconvert_exporter": "python",
   "pygments_lexer": "ipython3",
   "version": "3.9.13"
  }
 },
 "nbformat": 4,
 "nbformat_minor": 5
}
