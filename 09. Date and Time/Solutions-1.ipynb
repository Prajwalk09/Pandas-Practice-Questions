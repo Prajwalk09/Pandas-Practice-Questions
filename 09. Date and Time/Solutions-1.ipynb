{
 "cells": [
  {
   "cell_type": "markdown",
   "id": "e20fbfe9",
   "metadata": {},
   "source": [
    "## Handling date and time data, including parsing and time-based indexing "
   ]
  },
  {
   "cell_type": "markdown",
   "id": "6d4bb784",
   "metadata": {},
   "source": [
    "### Import the pandas library and datetime module. Make sure to use aliases in both the cases "
   ]
  },
  {
   "cell_type": "code",
   "execution_count": 2,
   "id": "f833709c",
   "metadata": {},
   "outputs": [],
   "source": []
  },
  {
   "cell_type": "markdown",
   "id": "aaf459a1",
   "metadata": {},
   "source": [
    "### Create a date object for April 12, 2016, using the `datetime` module. Store the resulting date object in a variable called `someday`"
   ]
  },
  {
   "cell_type": "code",
   "execution_count": 3,
   "id": "9e50064d",
   "metadata": {},
   "outputs": [],
   "source": []
  },
  {
   "cell_type": "markdown",
   "id": "b93f0c37",
   "metadata": {},
   "source": [
    "### Display the `year`, `month` and `day` from the `someday` variable "
   ]
  },
  {
   "cell_type": "code",
   "execution_count": 4,
   "id": "7540ba95",
   "metadata": {},
   "outputs": [
    {
     "name": "stdout",
     "output_type": "stream",
     "text": [
      "2016\n"
     ]
    }
   ],
   "source": []
  },
  {
   "cell_type": "code",
   "execution_count": 5,
   "id": "eb8c720c",
   "metadata": {},
   "outputs": [
    {
     "name": "stdout",
     "output_type": "stream",
     "text": [
      "4\n"
     ]
    }
   ],
   "source": []
  },
  {
   "cell_type": "code",
   "execution_count": 6,
   "id": "971a0197",
   "metadata": {},
   "outputs": [
    {
     "name": "stdout",
     "output_type": "stream",
     "text": [
      "16\n"
     ]
    }
   ],
   "source": []
  },
  {
   "cell_type": "markdown",
   "id": "c9b1f880",
   "metadata": {},
   "source": [
    "### Create a Timestamp object for the date March 31, 2015, using pandas"
   ]
  },
  {
   "cell_type": "code",
   "execution_count": 8,
   "id": "0b5a424a",
   "metadata": {},
   "outputs": [
    {
     "data": {
      "text/plain": [
       "Timestamp('2015-03-31 00:00:00')"
      ]
     },
     "execution_count": 8,
     "metadata": {},
     "output_type": "execute_result"
    }
   ],
   "source": []
  },
  {
   "cell_type": "markdown",
   "id": "bd5ed223",
   "metadata": {},
   "source": [
    "### Write code to create a `Timestamp` object representing January 9, 2021, at 8:35:04 PM.\n"
   ]
  },
  {
   "cell_type": "code",
   "execution_count": 9,
   "id": "ddbe9bf5",
   "metadata": {},
   "outputs": [
    {
     "data": {
      "text/plain": [
       "Timestamp('2021-01-09 20:35:04')"
      ]
     },
     "execution_count": 9,
     "metadata": {},
     "output_type": "execute_result"
    }
   ],
   "source": []
  },
  {
   "cell_type": "markdown",
   "id": "448532a1",
   "metadata": {},
   "source": [
    "### Create a `DatetimeIndex` from a list of date objects\n",
    "\n",
    "- Write code to create a list of date objects representing specific dates: January 1, 2016; June 13, 1994; and January 12, 2020.\n",
    "- Store the resulting index in the variable `dateIndex`."
   ]
  },
  {
   "cell_type": "code",
   "execution_count": 10,
   "id": "58cd3302",
   "metadata": {},
   "outputs": [],
   "source": []
  },
  {
   "cell_type": "markdown",
   "id": "e921aef4",
   "metadata": {},
   "source": [
    "### Create a pandas Series with `DatetimeIndex` as the index\n",
    "\n",
    "- Write code to create a list of numerical values: `100`, `200`, and `400`. Store the result in a variable called `values`\n",
    "- The resulting Series will map each value to a corresponding date. <br>\n",
    "<span style=\"color:green; font-weight:bold\">Hint: Check the \"solutions\" notbeook to better understand the question</span>"
   ]
  },
  {
   "cell_type": "code",
   "execution_count": 11,
   "id": "e4dac13f",
   "metadata": {},
   "outputs": [
    {
     "data": {
      "text/plain": [
       "2016-01-01    100\n",
       "1994-06-13    200\n",
       "2020-01-12    400\n",
       "dtype: int64"
      ]
     },
     "execution_count": 11,
     "metadata": {},
     "output_type": "execute_result"
    }
   ],
   "source": []
  },
  {
   "cell_type": "markdown",
   "id": "df805fc4",
   "metadata": {},
   "source": [
    "### Convert a string representation of date and time into a pandas `Timestamp` object\n",
    "\n",
    "- Write code to convert the string `'2001-04-19 8:34 PM'` into a pandas `Timestamp` object."
   ]
  },
  {
   "cell_type": "code",
   "execution_count": 12,
   "id": "2fe9c5be",
   "metadata": {},
   "outputs": [
    {
     "data": {
      "text/plain": [
       "Timestamp('2001-04-19 20:34:00')"
      ]
     },
     "execution_count": 12,
     "metadata": {},
     "output_type": "execute_result"
    }
   ],
   "source": []
  },
  {
   "cell_type": "markdown",
   "id": "c30126b3",
   "metadata": {},
   "source": [
    "### Convert a list of date strings into pandas `DatetimeIndex` objects\n",
    "\n",
    "- Write code to convert a list of date strings (`'2001-01-09'`, `'2004/01/12'`, `'2005'`, and `'July 4th 1996'`) into pandas `Timestamp` objects."
   ]
  },
  {
   "cell_type": "code",
   "execution_count": 13,
   "id": "81522ee1",
   "metadata": {},
   "outputs": [
    {
     "data": {
      "text/plain": [
       "DatetimeIndex(['2001-01-09', '2004-01-12', '2005-01-01', '1996-07-04'], dtype='datetime64[ns]', freq=None)"
      ]
     },
     "execution_count": 13,
     "metadata": {},
     "output_type": "execute_result"
    }
   ],
   "source": []
  },
  {
   "cell_type": "markdown",
   "id": "f5d9ce10",
   "metadata": {},
   "source": [
    "### Generate a range of dates by following the below criteria:\n",
    "\n",
    "- Write code to generate a range of dates starting from January 1, 2016, to January 10, 2016, with a frequency of one day.\n",
    "- Store the resulting `DatetimeIndex` in a variable called `times`.\n"
   ]
  },
  {
   "cell_type": "code",
   "execution_count": 14,
   "id": "cad4654b",
   "metadata": {},
   "outputs": [],
   "source": []
  },
  {
   "cell_type": "markdown",
   "id": "5f71482f",
   "metadata": {},
   "source": [
    "### Generate a range of 10 consecutive dates starting from January 1, 2001, with a daily frequency"
   ]
  },
  {
   "cell_type": "code",
   "execution_count": 15,
   "id": "a46827a9",
   "metadata": {},
   "outputs": [
    {
     "data": {
      "text/plain": [
       "DatetimeIndex(['2001-01-01', '2001-01-02', '2001-01-03', '2001-01-04',\n",
       "               '2001-01-05', '2001-01-06', '2001-01-07', '2001-01-08',\n",
       "               '2001-01-09', '2001-01-10'],\n",
       "              dtype='datetime64[ns]', freq='D')"
      ]
     },
     "execution_count": 15,
     "metadata": {},
     "output_type": "execute_result"
    }
   ],
   "source": []
  },
  {
   "cell_type": "markdown",
   "id": "e4d99cc3",
   "metadata": {},
   "source": [
    "### Generate a range of dates from January 1, 2016, to January 10, 2016, including only business days"
   ]
  },
  {
   "cell_type": "code",
   "execution_count": 17,
   "id": "e307f49b",
   "metadata": {},
   "outputs": [
    {
     "data": {
      "text/plain": [
       "DatetimeIndex(['2016-01-01', '2016-01-04', '2016-01-05', '2016-01-06',\n",
       "               '2016-01-07', '2016-01-08'],\n",
       "              dtype='datetime64[ns]', freq='B')"
      ]
     },
     "execution_count": 17,
     "metadata": {},
     "output_type": "execute_result"
    }
   ],
   "source": []
  },
  {
   "cell_type": "markdown",
   "id": "57bb8f2f",
   "metadata": {},
   "source": [
    "### Generate a range of dates and times from January 1, 2016, to January 10, 2016, with intervals of 6 hours"
   ]
  },
  {
   "cell_type": "code",
   "execution_count": 20,
   "id": "9ec4f161",
   "metadata": {},
   "outputs": [
    {
     "data": {
      "text/plain": [
       "DatetimeIndex(['2016-01-01 00:00:00', '2016-01-01 06:00:00',\n",
       "               '2016-01-01 12:00:00', '2016-01-01 18:00:00',\n",
       "               '2016-01-02 00:00:00', '2016-01-02 06:00:00',\n",
       "               '2016-01-02 12:00:00', '2016-01-02 18:00:00',\n",
       "               '2016-01-03 00:00:00', '2016-01-03 06:00:00',\n",
       "               '2016-01-03 12:00:00', '2016-01-03 18:00:00',\n",
       "               '2016-01-04 00:00:00', '2016-01-04 06:00:00',\n",
       "               '2016-01-04 12:00:00', '2016-01-04 18:00:00',\n",
       "               '2016-01-05 00:00:00', '2016-01-05 06:00:00',\n",
       "               '2016-01-05 12:00:00', '2016-01-05 18:00:00',\n",
       "               '2016-01-06 00:00:00', '2016-01-06 06:00:00',\n",
       "               '2016-01-06 12:00:00', '2016-01-06 18:00:00',\n",
       "               '2016-01-07 00:00:00', '2016-01-07 06:00:00',\n",
       "               '2016-01-07 12:00:00', '2016-01-07 18:00:00',\n",
       "               '2016-01-08 00:00:00', '2016-01-08 06:00:00',\n",
       "               '2016-01-08 12:00:00', '2016-01-08 18:00:00',\n",
       "               '2016-01-09 00:00:00', '2016-01-09 06:00:00',\n",
       "               '2016-01-09 12:00:00', '2016-01-09 18:00:00',\n",
       "               '2016-01-10 00:00:00'],\n",
       "              dtype='datetime64[ns]', freq='6H')"
      ]
     },
     "execution_count": 20,
     "metadata": {},
     "output_type": "execute_result"
    }
   ],
   "source": []
  }
 ],
 "metadata": {
  "kernelspec": {
   "display_name": "Python 3 (ipykernel)",
   "language": "python",
   "name": "python3"
  },
  "language_info": {
   "codemirror_mode": {
    "name": "ipython",
    "version": 3
   },
   "file_extension": ".py",
   "mimetype": "text/x-python",
   "name": "python",
   "nbconvert_exporter": "python",
   "pygments_lexer": "ipython3",
   "version": "3.9.13"
  }
 },
 "nbformat": 4,
 "nbformat_minor": 5
}
